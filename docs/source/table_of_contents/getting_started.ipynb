{
 "cells": [
  {
   "cell_type": "markdown",
   "metadata": {},
   "source": [
    "# Getting Started\n",
    "\n",
    "\n",
    "## Install\n",
    "\n",
    "```\n",
    "pip install composeml\n",
    "```\n",
    "\n",
    "## Load Data\n",
    "In this example, we have a dataset of transactions from different customers. To get an idea on how the data looks, we preview the data frame."
   ]
  },
  {
   "cell_type": "code",
   "execution_count": null,
   "metadata": {},
   "outputs": [],
   "source": [
    "from composeml.datasets import transactions\n",
    "\n",
    "df = transactions()\n",
    "\n",
    "df[df.columns[:5]].head()"
   ]
  },
  {
   "cell_type": "markdown",
   "metadata": {},
   "source": [
    "## Create Labeling Function\n",
    "\n",
    "We want to extract label times for each customer where the label equals the total purchase amount over the next hour of transactions. First, we define the function that will return the total purchase amount given a hour of transactions."
   ]
  },
  {
   "cell_type": "code",
   "execution_count": null,
   "metadata": {},
   "outputs": [],
   "source": [
    "def my_labeling_function(df_slice):\n",
    "    label = df_slice[\"amount\"].sum()\n",
    "    return label"
   ]
  },
  {
   "cell_type": "raw",
   "metadata": {
    "raw_mimetype": "text/restructuredtext"
   },
   "source": [
    "Construct Label Maker\n",
    "---------------------\n",
    "\n",
    ".. currentmodule:: composeml\n",
    "\n",
    "With the labeling function, we create the :class:`LabelMaker` for our prediction problem. We need an hour of transactions for each label, so we set `window_size` to one hour."
   ]
  },
  {
   "cell_type": "code",
   "execution_count": null,
   "metadata": {},
   "outputs": [],
   "source": [
    "from composeml import LabelMaker\n",
    "\n",
    "label_maker = LabelMaker(\n",
    "    target_entity=\"customer_id\",\n",
    "    time_index=\"transaction_time\",\n",
    "    labeling_function=my_labeling_function,\n",
    "    window_size=\"1h\",\n",
    ")"
   ]
  },
  {
   "cell_type": "markdown",
   "metadata": {},
   "source": [
    "## Generate Labels\n",
    "\n",
    "With the label maker, we automatically search and extract the labels from the data frame by using `search`."
   ]
  },
  {
   "cell_type": "code",
   "execution_count": null,
   "metadata": {},
   "outputs": [],
   "source": [
    "labels = label_maker.search(\n",
    "    df,\n",
    "    minimum_data=\"1h\",\n",
    "    num_examples_per_instance=25,\n",
    "    gap=1,\n",
    "    verbose=True,\n",
    ")\n",
    "\n",
    "labels.head()"
   ]
  },
  {
   "cell_type": "markdown",
   "metadata": {},
   "source": [
    "## Transform Labels\n",
    "\n",
    "\n",
    "### Apply Threshold on Label Values\n",
    "\n",
    "Next, we make the lables binary by using a `threshold` for total purchase amounts above 100."
   ]
  },
  {
   "cell_type": "code",
   "execution_count": null,
   "metadata": {},
   "outputs": [],
   "source": [
    "labels = labels.threshold(100)\n",
    "\n",
    "labels.head()"
   ]
  },
  {
   "cell_type": "markdown",
   "metadata": {},
   "source": [
    "### Lead Label Times\n",
    "We could also take those label times and shift the time 1 hour earlier for predicting in advance."
   ]
  },
  {
   "cell_type": "code",
   "execution_count": null,
   "metadata": {},
   "outputs": [],
   "source": [
    "labels = labels.apply_lead('1h')\n",
    "\n",
    "labels.head()"
   ]
  },
  {
   "cell_type": "markdown",
   "metadata": {},
   "source": [
    "## Describe Labels\n",
    "\n",
    "With the labels, we could use `describe` to get the distribution and the settings used to make the labels."
   ]
  },
  {
   "cell_type": "code",
   "execution_count": null,
   "metadata": {},
   "outputs": [],
   "source": [
    "labels.describe()"
   ]
  },
  {
   "cell_type": "markdown",
   "metadata": {},
   "source": [
    "## Plot Labels\n",
    "\n",
    "### Label Distribution"
   ]
  },
  {
   "cell_type": "code",
   "execution_count": null,
   "metadata": {},
   "outputs": [],
   "source": [
    "%matplotlib inline\n",
    "\n",
    "labels.plot.distribution(stacked=True)"
   ]
  },
  {
   "cell_type": "markdown",
   "metadata": {},
   "source": [
    "### Label Count vs. Time"
   ]
  },
  {
   "cell_type": "code",
   "execution_count": null,
   "metadata": {},
   "outputs": [],
   "source": [
    "labels.plot.count_by_time(figsize=(7, 5))"
   ]
  }
 ],
 "metadata": {
  "celltoolbar": "Raw Cell Format",
  "kernelspec": {
   "display_name": "Python 3",
   "language": "python",
   "name": "python3"
  },
  "language_info": {
   "codemirror_mode": {
    "name": "ipython",
    "version": 3
   },
   "file_extension": ".py",
   "mimetype": "text/x-python",
   "name": "python",
   "nbconvert_exporter": "python",
   "pygments_lexer": "ipython3",
   "version": "3.7.0"
  }
 },
 "nbformat": 4,
 "nbformat_minor": 2
}
