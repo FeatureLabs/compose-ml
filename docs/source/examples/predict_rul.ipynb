{
 "cells": [
  {
   "cell_type": "raw",
   "metadata": {
    "raw_mimetype": "text/restructuredtext"
   },
   "source": [
    "===================================\n",
    "Predict Remaining Useful Life (RUL)\n",
    "===================================\n",
    "In this example, we will generate labels using Compose on data provided by NASA simulating turbofan engine degradation. Then, the labels are used to generate features and train a machine learning model to predict the Remaining Useful Life (RUL) of an engine."
   ]
  },
  {
   "cell_type": "code",
   "execution_count": 3,
   "metadata": {},
   "outputs": [],
   "source": [
    "%matplotlib inline\n",
    "import composeml as cp\n",
    "import featuretools as ft\n",
    "\n",
    "from demo.predict_rul import load_sample\n",
    "from evalml import AutoMLSearch\n",
    "from evalml.preprocessing import split_data"
   ]
  },
  {
   "cell_type": "raw",
   "metadata": {
    "raw_mimetype": "text/restructuredtext"
   },
   "source": [
    "Load Data\n",
    "=========\n",
    "In this dataset, we have 249 engines (:code:`engine_no`) which are monitored over time (:code:`time_in_cycles`). Each engine had :code:`operational_settings` and :code:`sensor_measurements` recorded for each cycle. The **Remaining Useful Life** (RUL) is the amount of cycles an engine has left before it needs maintenance. What makes this dataset special is that the engines run all the way until failure, giving us precise RUL information for every engine at every point in time.\n",
    "\n",
    "You can download the data directly from NASA `here <https://ti.arc.nasa.gov/c/6/>`_. After downloading the data, you can set the :code:`file` parameter as an absolute path to :code:`train_FD004.txt`. With the file in place, we preview the data to get an idea on how to observations look."
   ]
  },
  {
   "cell_type": "code",
   "execution_count": 4,
   "metadata": {},
   "outputs": [
    {
     "data": {
      "text/html": [
       "<div>\n",
       "<style scoped>\n",
       "    .dataframe tbody tr th:only-of-type {\n",
       "        vertical-align: middle;\n",
       "    }\n",
       "\n",
       "    .dataframe tbody tr th {\n",
       "        vertical-align: top;\n",
       "    }\n",
       "\n",
       "    .dataframe thead th {\n",
       "        text-align: right;\n",
       "    }\n",
       "</style>\n",
       "<table border=\"1\" class=\"dataframe\">\n",
       "  <thead>\n",
       "    <tr style=\"text-align: right;\">\n",
       "      <th></th>\n",
       "      <th>engine_no</th>\n",
       "      <th>time_in_cycles</th>\n",
       "      <th>operational_setting_1</th>\n",
       "      <th>operational_setting_2</th>\n",
       "      <th>operational_setting_3</th>\n",
       "      <th>sensor_measurement_1</th>\n",
       "      <th>sensor_measurement_2</th>\n",
       "      <th>sensor_measurement_3</th>\n",
       "      <th>sensor_measurement_4</th>\n",
       "      <th>sensor_measurement_5</th>\n",
       "      <th>...</th>\n",
       "      <th>sensor_measurement_13</th>\n",
       "      <th>sensor_measurement_14</th>\n",
       "      <th>sensor_measurement_15</th>\n",
       "      <th>sensor_measurement_16</th>\n",
       "      <th>sensor_measurement_17</th>\n",
       "      <th>sensor_measurement_18</th>\n",
       "      <th>sensor_measurement_19</th>\n",
       "      <th>sensor_measurement_20</th>\n",
       "      <th>sensor_measurement_21</th>\n",
       "      <th>time</th>\n",
       "    </tr>\n",
       "    <tr>\n",
       "      <th>id</th>\n",
       "      <th></th>\n",
       "      <th></th>\n",
       "      <th></th>\n",
       "      <th></th>\n",
       "      <th></th>\n",
       "      <th></th>\n",
       "      <th></th>\n",
       "      <th></th>\n",
       "      <th></th>\n",
       "      <th></th>\n",
       "      <th></th>\n",
       "      <th></th>\n",
       "      <th></th>\n",
       "      <th></th>\n",
       "      <th></th>\n",
       "      <th></th>\n",
       "      <th></th>\n",
       "      <th></th>\n",
       "      <th></th>\n",
       "      <th></th>\n",
       "      <th></th>\n",
       "    </tr>\n",
       "  </thead>\n",
       "  <tbody>\n",
       "    <tr>\n",
       "      <th>0</th>\n",
       "      <td>1</td>\n",
       "      <td>1</td>\n",
       "      <td>42.0049</td>\n",
       "      <td>0.8400</td>\n",
       "      <td>100.0</td>\n",
       "      <td>445.00</td>\n",
       "      <td>549.68</td>\n",
       "      <td>1343.43</td>\n",
       "      <td>1112.93</td>\n",
       "      <td>3.91</td>\n",
       "      <td>...</td>\n",
       "      <td>2387.99</td>\n",
       "      <td>8074.83</td>\n",
       "      <td>9.3335</td>\n",
       "      <td>0.02</td>\n",
       "      <td>330</td>\n",
       "      <td>2212</td>\n",
       "      <td>100.00</td>\n",
       "      <td>10.62</td>\n",
       "      <td>6.3670</td>\n",
       "      <td>2000-01-01 00:00:00</td>\n",
       "    </tr>\n",
       "    <tr>\n",
       "      <th>1</th>\n",
       "      <td>1</td>\n",
       "      <td>2</td>\n",
       "      <td>20.0020</td>\n",
       "      <td>0.7002</td>\n",
       "      <td>100.0</td>\n",
       "      <td>491.19</td>\n",
       "      <td>606.07</td>\n",
       "      <td>1477.61</td>\n",
       "      <td>1237.50</td>\n",
       "      <td>9.35</td>\n",
       "      <td>...</td>\n",
       "      <td>2387.73</td>\n",
       "      <td>8046.13</td>\n",
       "      <td>9.1913</td>\n",
       "      <td>0.02</td>\n",
       "      <td>361</td>\n",
       "      <td>2324</td>\n",
       "      <td>100.00</td>\n",
       "      <td>24.37</td>\n",
       "      <td>14.6552</td>\n",
       "      <td>2000-01-01 00:10:00</td>\n",
       "    </tr>\n",
       "    <tr>\n",
       "      <th>2</th>\n",
       "      <td>1</td>\n",
       "      <td>3</td>\n",
       "      <td>42.0038</td>\n",
       "      <td>0.8409</td>\n",
       "      <td>100.0</td>\n",
       "      <td>445.00</td>\n",
       "      <td>548.95</td>\n",
       "      <td>1343.12</td>\n",
       "      <td>1117.05</td>\n",
       "      <td>3.91</td>\n",
       "      <td>...</td>\n",
       "      <td>2387.97</td>\n",
       "      <td>8066.62</td>\n",
       "      <td>9.4007</td>\n",
       "      <td>0.02</td>\n",
       "      <td>329</td>\n",
       "      <td>2212</td>\n",
       "      <td>100.00</td>\n",
       "      <td>10.48</td>\n",
       "      <td>6.4213</td>\n",
       "      <td>2000-01-01 00:20:00</td>\n",
       "    </tr>\n",
       "    <tr>\n",
       "      <th>3</th>\n",
       "      <td>1</td>\n",
       "      <td>4</td>\n",
       "      <td>42.0000</td>\n",
       "      <td>0.8400</td>\n",
       "      <td>100.0</td>\n",
       "      <td>445.00</td>\n",
       "      <td>548.70</td>\n",
       "      <td>1341.24</td>\n",
       "      <td>1118.03</td>\n",
       "      <td>3.91</td>\n",
       "      <td>...</td>\n",
       "      <td>2388.02</td>\n",
       "      <td>8076.05</td>\n",
       "      <td>9.3369</td>\n",
       "      <td>0.02</td>\n",
       "      <td>328</td>\n",
       "      <td>2212</td>\n",
       "      <td>100.00</td>\n",
       "      <td>10.54</td>\n",
       "      <td>6.4176</td>\n",
       "      <td>2000-01-01 00:30:00</td>\n",
       "    </tr>\n",
       "    <tr>\n",
       "      <th>4</th>\n",
       "      <td>1</td>\n",
       "      <td>5</td>\n",
       "      <td>25.0063</td>\n",
       "      <td>0.6207</td>\n",
       "      <td>60.0</td>\n",
       "      <td>462.54</td>\n",
       "      <td>536.10</td>\n",
       "      <td>1255.23</td>\n",
       "      <td>1033.59</td>\n",
       "      <td>7.05</td>\n",
       "      <td>...</td>\n",
       "      <td>2028.08</td>\n",
       "      <td>7865.80</td>\n",
       "      <td>10.8366</td>\n",
       "      <td>0.02</td>\n",
       "      <td>305</td>\n",
       "      <td>1915</td>\n",
       "      <td>84.93</td>\n",
       "      <td>14.03</td>\n",
       "      <td>8.6754</td>\n",
       "      <td>2000-01-01 00:40:00</td>\n",
       "    </tr>\n",
       "  </tbody>\n",
       "</table>\n",
       "<p>5 rows × 27 columns</p>\n",
       "</div>"
      ],
      "text/plain": [
       "    engine_no  time_in_cycles  operational_setting_1  operational_setting_2  \\\n",
       "id                                                                            \n",
       "0           1               1                42.0049                 0.8400   \n",
       "1           1               2                20.0020                 0.7002   \n",
       "2           1               3                42.0038                 0.8409   \n",
       "3           1               4                42.0000                 0.8400   \n",
       "4           1               5                25.0063                 0.6207   \n",
       "\n",
       "    operational_setting_3  sensor_measurement_1  sensor_measurement_2  \\\n",
       "id                                                                      \n",
       "0                   100.0                445.00                549.68   \n",
       "1                   100.0                491.19                606.07   \n",
       "2                   100.0                445.00                548.95   \n",
       "3                   100.0                445.00                548.70   \n",
       "4                    60.0                462.54                536.10   \n",
       "\n",
       "    sensor_measurement_3  sensor_measurement_4  sensor_measurement_5  ...  \\\n",
       "id                                                                    ...   \n",
       "0                1343.43               1112.93                  3.91  ...   \n",
       "1                1477.61               1237.50                  9.35  ...   \n",
       "2                1343.12               1117.05                  3.91  ...   \n",
       "3                1341.24               1118.03                  3.91  ...   \n",
       "4                1255.23               1033.59                  7.05  ...   \n",
       "\n",
       "    sensor_measurement_13  sensor_measurement_14  sensor_measurement_15  \\\n",
       "id                                                                        \n",
       "0                 2387.99                8074.83                 9.3335   \n",
       "1                 2387.73                8046.13                 9.1913   \n",
       "2                 2387.97                8066.62                 9.4007   \n",
       "3                 2388.02                8076.05                 9.3369   \n",
       "4                 2028.08                7865.80                10.8366   \n",
       "\n",
       "    sensor_measurement_16  sensor_measurement_17  sensor_measurement_18  \\\n",
       "id                                                                        \n",
       "0                    0.02                    330                   2212   \n",
       "1                    0.02                    361                   2324   \n",
       "2                    0.02                    329                   2212   \n",
       "3                    0.02                    328                   2212   \n",
       "4                    0.02                    305                   1915   \n",
       "\n",
       "    sensor_measurement_19  sensor_measurement_20  sensor_measurement_21  \\\n",
       "id                                                                        \n",
       "0                  100.00                  10.62                 6.3670   \n",
       "1                  100.00                  24.37                14.6552   \n",
       "2                  100.00                  10.48                 6.4213   \n",
       "3                  100.00                  10.54                 6.4176   \n",
       "4                   84.93                  14.03                 8.6754   \n",
       "\n",
       "                  time  \n",
       "id                      \n",
       "0  2000-01-01 00:00:00  \n",
       "1  2000-01-01 00:10:00  \n",
       "2  2000-01-01 00:20:00  \n",
       "3  2000-01-01 00:30:00  \n",
       "4  2000-01-01 00:40:00  \n",
       "\n",
       "[5 rows x 27 columns]"
      ]
     },
     "execution_count": 4,
     "metadata": {},
     "output_type": "execute_result"
    }
   ],
   "source": [
    "df = load_sample()\n",
    "\n",
    "df.head()"
   ]
  },
  {
   "cell_type": "raw",
   "metadata": {
    "raw_mimetype": "text/restructuredtext"
   },
   "source": [
    "Generate Labels\n",
    "===============\n",
    "Now with the observations loaded, we are ready to generate labels for our prediction problem.\n",
    "\n",
    "Define Labeling Function\n",
    "------------------------\n",
    "To get started, we define the labeling function that will return the RUL given the remaining observations of an engine."
   ]
  },
  {
   "cell_type": "code",
   "execution_count": 5,
   "metadata": {},
   "outputs": [],
   "source": [
    "def remaining_useful_life(df):\n",
    "    return len(df) - 1"
   ]
  },
  {
   "cell_type": "raw",
   "metadata": {
    "raw_mimetype": "text/restructuredtext"
   },
   "source": [
    "Create Label Maker\n",
    "------------------\n",
    "With the labeling function, we create the label maker for our prediction problem. To process the RUL for each engine, we set the :code:`target_entity` to the engine number. By default, the :code:`window_size` is set to the total observation size to contain the remaining observations for each engine."
   ]
  },
  {
   "cell_type": "code",
   "execution_count": 6,
   "metadata": {},
   "outputs": [],
   "source": [
    "lm = cp.LabelMaker(\n",
    "    target_entity='engine_no',\n",
    "    time_index='time',\n",
    "    labeling_function=remaining_useful_life,\n",
    ")"
   ]
  },
  {
   "cell_type": "raw",
   "metadata": {
    "raw_mimetype": "text/restructuredtext"
   },
   "source": [
    "Search Labels\n",
    "-------------\n",
    "Let's imagine we want to make predictions on turbines that are up and running. Turbines in general don't fail before 120 cycles, so we will only make labels for engines that reach at least 100 cycles. To do this, the :code:`minimum_data` parameter is set to 100. Using Compose, we can easily tweak this parameter as the requirements of our model changes. Additionally, we set :code:`gap` to one to create labels on every cycle and limit the search to 10 examples for each engine.\n",
    "\n",
    ".. seealso::\n",
    "    For more details on how the label maker works, see :doc:`/main_concepts`."
   ]
  },
  {
   "cell_type": "code",
   "execution_count": 7,
   "metadata": {},
   "outputs": [
    {
     "name": "stdout",
     "output_type": "stream",
     "text": [
      "Elapsed: 00:00 | Remaining: 00:00 | Progress: 100%|██████████| engine_no: 80/80 \n"
     ]
    },
    {
     "data": {
      "text/html": [
       "<div>\n",
       "<style scoped>\n",
       "    .dataframe tbody tr th:only-of-type {\n",
       "        vertical-align: middle;\n",
       "    }\n",
       "\n",
       "    .dataframe tbody tr th {\n",
       "        vertical-align: top;\n",
       "    }\n",
       "\n",
       "    .dataframe thead th {\n",
       "        text-align: right;\n",
       "    }\n",
       "</style>\n",
       "<table border=\"1\" class=\"dataframe\">\n",
       "  <thead>\n",
       "    <tr style=\"text-align: right;\">\n",
       "      <th></th>\n",
       "      <th>engine_no</th>\n",
       "      <th>time</th>\n",
       "      <th>remaining_useful_life</th>\n",
       "    </tr>\n",
       "  </thead>\n",
       "  <tbody>\n",
       "    <tr>\n",
       "      <th>0</th>\n",
       "      <td>1</td>\n",
       "      <td>2000-01-01 00:50:00</td>\n",
       "      <td>315</td>\n",
       "    </tr>\n",
       "    <tr>\n",
       "      <th>1</th>\n",
       "      <td>1</td>\n",
       "      <td>2000-01-01 04:10:00</td>\n",
       "      <td>295</td>\n",
       "    </tr>\n",
       "    <tr>\n",
       "      <th>2</th>\n",
       "      <td>1</td>\n",
       "      <td>2000-01-01 07:30:00</td>\n",
       "      <td>275</td>\n",
       "    </tr>\n",
       "    <tr>\n",
       "      <th>3</th>\n",
       "      <td>1</td>\n",
       "      <td>2000-01-01 10:50:00</td>\n",
       "      <td>255</td>\n",
       "    </tr>\n",
       "    <tr>\n",
       "      <th>4</th>\n",
       "      <td>1</td>\n",
       "      <td>2000-01-01 14:10:00</td>\n",
       "      <td>235</td>\n",
       "    </tr>\n",
       "  </tbody>\n",
       "</table>\n",
       "</div>"
      ],
      "text/plain": [
       "   engine_no                time  remaining_useful_life\n",
       "0          1 2000-01-01 00:50:00                    315\n",
       "1          1 2000-01-01 04:10:00                    295\n",
       "2          1 2000-01-01 07:30:00                    275\n",
       "3          1 2000-01-01 10:50:00                    255\n",
       "4          1 2000-01-01 14:10:00                    235"
      ]
     },
     "execution_count": 7,
     "metadata": {},
     "output_type": "execute_result"
    }
   ],
   "source": [
    "lt = lm.search(\n",
    "    df.sort_values('time'),\n",
    "    num_examples_per_instance=20,\n",
    "    minimum_data=5,\n",
    "    gap=20,\n",
    "    verbose=True,\n",
    ")\n",
    "\n",
    "lt.head()"
   ]
  },
  {
   "cell_type": "raw",
   "metadata": {
    "raw_mimetype": "text/restructuredtext"
   },
   "source": [
    "Continuous Labels\n",
    "-----------------\n",
    "The labeling function we defined returns continuous labels which can be used to train a regression model for our predictin problem. Alternatively, there are label transforms available to further process these labels into discrete values. In which case, can be used to train a classification model.\n",
    "\n",
    "Describe Labels\n",
    "~~~~~~~~~~~~~~~\n",
    "Let's print out the settings and transforms that were used to make the continuous labels. This is useful as a reference for understanding how the labels were generated from raw data."
   ]
  },
  {
   "cell_type": "code",
   "execution_count": 8,
   "metadata": {},
   "outputs": [
    {
     "name": "stdout",
     "output_type": "stream",
     "text": [
      "Settings\n",
      "--------\n",
      "gap                                             20\n",
      "minimum_data                                     5\n",
      "num_examples_per_instance                       20\n",
      "target_column                remaining_useful_life\n",
      "target_entity                            engine_no\n",
      "target_type                             continuous\n",
      "window_size                                   None\n",
      "\n",
      "\n",
      "Transforms\n",
      "----------\n",
      "No transforms applied\n",
      "\n"
     ]
    }
   ],
   "source": [
    "lt.describe()"
   ]
  },
  {
   "cell_type": "raw",
   "metadata": {
    "raw_mimetype": "text/restructuredtext"
   },
   "source": [
    "Let's plot the labels to get additional insight of the RUL.\n",
    "\n",
    "Label Distribution\n",
    "~~~~~~~~~~~~~~~~~~\n",
    "This plot shows the continuous label distribution."
   ]
  },
  {
   "cell_type": "code",
   "execution_count": 9,
   "metadata": {},
   "outputs": [
    {
     "data": {
      "image/png": "[encoded data removed]",
      "text/plain": [
       "<Figure size 432x288 with 1 Axes>"
      ]
     },
     "metadata": {
      "needs_background": "light"
     },
     "output_type": "display_data"
    }
   ],
   "source": [
    "lt.plot.distribution();"
   ]
  },
  {
   "cell_type": "raw",
   "metadata": {
    "raw_mimetype": "text/restructuredtext"
   },
   "source": [
    "Discrete Labels\n",
    "---------------\n",
    "\n",
    "Let's further process the labels into discrete values. We divide the RUL into quartile bins to predict which range an engine's RUL will fall in."
   ]
  },
  {
   "cell_type": "code",
   "execution_count": 10,
   "metadata": {},
   "outputs": [],
   "source": [
    "lt = lt.bin(4, quantiles=True, precision=0)"
   ]
  },
  {
   "cell_type": "raw",
   "metadata": {
    "raw_mimetype": "text/restructuredtext"
   },
   "source": [
    "Describe Labels\n",
    "~~~~~~~~~~~~~~~\n",
    "\n",
    "Next, let's print out the settings and transforms that were used to make the discrete labels. This time we can see the label distribution which is useful for determining if we have imbalanced labels. Also, we can see that the label type changed from continuous to discrete and the binning transform used in the previous step is included below."
   ]
  },
  {
   "cell_type": "code",
   "execution_count": 11,
   "metadata": {},
   "outputs": [
    {
     "name": "stdout",
     "output_type": "stream",
     "text": [
      "Label Distribution\n",
      "------------------\n",
      "(0.0, 64.0]       13\n",
      "(141.0, 227.0]    12\n",
      "(227.0, 315.0]    13\n",
      "(64.0, 141.0]     13\n",
      "Total:            51\n",
      "\n",
      "\n",
      "Settings\n",
      "--------\n",
      "gap                                             20\n",
      "minimum_data                                     5\n",
      "num_examples_per_instance                       20\n",
      "target_column                remaining_useful_life\n",
      "target_entity                            engine_no\n",
      "target_type                               discrete\n",
      "window_size                                   None\n",
      "\n",
      "\n",
      "Transforms\n",
      "----------\n",
      "1. bin\n",
      "  - bins:            4\n",
      "  - labels:       None\n",
      "  - precision:       0\n",
      "  - quantiles:    True\n",
      "  - right:        True\n",
      "\n"
     ]
    }
   ],
   "source": [
    "lt.describe()"
   ]
  },
  {
   "cell_type": "raw",
   "metadata": {
    "raw_mimetype": "text/restructuredtext"
   },
   "source": [
    "Let's plot the labels to get additional insight of the RUL.\n",
    "\n",
    "Label Distribution\n",
    "~~~~~~~~~~~~~~~~~~\n",
    "\n",
    "This plot shows the discrete label distribution."
   ]
  },
  {
   "cell_type": "code",
   "execution_count": 12,
   "metadata": {},
   "outputs": [
    {
     "data": {
      "image/png": "[encoded data removed]",
      "text/plain": [
       "<Figure size 432x288 with 1 Axes>"
      ]
     },
     "metadata": {
      "needs_background": "light"
     },
     "output_type": "display_data"
    }
   ],
   "source": [
    "lt.plot.distribution();"
   ]
  },
  {
   "cell_type": "raw",
   "metadata": {
    "raw_mimetype": "text/restructuredtext"
   },
   "source": [
    "Count by Time\n",
    "~~~~~~~~~~~~~\n",
    "This plot shows the label count accumulated across cutoff times."
   ]
  },
  {
   "cell_type": "code",
   "execution_count": 13,
   "metadata": {},
   "outputs": [
    {
     "data": {
      "image/png": "[encoded data removed]",
      "text/plain": [
       "<Figure size 432x288 with 1 Axes>"
      ]
     },
     "metadata": {
      "needs_background": "light"
     },
     "output_type": "display_data"
    }
   ],
   "source": [
    "lt.plot.count_by_time();"
   ]
  },
  {
   "cell_type": "raw",
   "metadata": {
    "raw_mimetype": "text/restructuredtext"
   },
   "source": [
    ".. currentmodule:: featuretools\n",
    "\n",
    "Generate Features\n",
    "=================\n",
    "Now, we are ready to generate features for our prediction problem.\n",
    "\n",
    "Create Entity Set\n",
    "-----------------\n",
    "To get started, let's create an :class:`EntitySet` for the observations.\n",
    "\n",
    ".. seealso::\n",
    "    For more details on working with entity sets, see :doc:`loading_data/using_entitysets`."
   ]
  },
  {
   "cell_type": "code",
   "execution_count": 14,
   "metadata": {},
   "outputs": [
    {
     "data": {
      "text/plain": [
       "Entityset: observations\n",
       "  Entities:\n",
       "    recordings [Rows: 1000, Columns: 28]\n",
       "    engines [Rows: 4, Columns: 2]\n",
       "    cycles [Rows: 321, Columns: 2]\n",
       "  Relationships:\n",
       "    recordings.engine_no -> engines.engine_no\n",
       "    recordings.time_in_cycles -> cycles.time_in_cycles"
      ]
     },
     "execution_count": 14,
     "metadata": {},
     "output_type": "execute_result"
    }
   ],
   "source": [
    "es = ft.EntitySet('observations')\n",
    "\n",
    "es.entity_from_dataframe(\n",
    "    dataframe=df.reset_index(),\n",
    "    entity_id='recordings',\n",
    "    index='id',\n",
    "    time_index='time',\n",
    ")\n",
    "\n",
    "es.normalize_entity(\n",
    "    base_entity_id='recordings',\n",
    "    new_entity_id='engines',\n",
    "    index='engine_no',\n",
    ")\n",
    "\n",
    "es.normalize_entity(\n",
    "    base_entity_id='recordings',\n",
    "    new_entity_id='cycles',\n",
    "    index='time_in_cycles',\n",
    ")"
   ]
  },
  {
   "cell_type": "raw",
   "metadata": {
    "raw_mimetype": "text/restructuredtext"
   },
   "source": [
    "Describe Entity Set\n",
    "-------------------\n",
    "\n",
    "To get an idea on how the entity set is structured, we can plot a diagram."
   ]
  },
  {
   "cell_type": "code",
   "execution_count": 15,
   "metadata": {},
   "outputs": [
    {
     "data": {
      "image/svg+xml": [
       "<?xml version=\"1.0\" encoding=\"UTF-8\" standalone=\"no\"?>\n",
       "<!DOCTYPE svg PUBLIC \"-//W3C//DTD SVG 1.1//EN\"\n",
       " \"http://www.w3.org/Graphics/SVG/1.1/DTD/svg11.dtd\">\n",
       "<!-- Generated by graphviz version 2.43.0 (0)\n",
       " -->\n",
       "<!-- Title: observations Pages: 1 -->\n",
       "<svg width=\"556pt\" height=\"526pt\"\n",
       " viewBox=\"0.00 0.00 555.83 526.00\" xmlns=\"http://www.w3.org/2000/svg\" xmlns:xlink=\"http://www.w3.org/1999/xlink\">\n",
       "<g id=\"graph0\" class=\"graph\" transform=\"scale(1 1) rotate(0) translate(4 522)\">\n",
       "<title>observations</title>\n",
       "<polygon fill=\"white\" stroke=\"transparent\" points=\"-4,4 -4,-522 551.83,-522 551.83,4 -4,4\"/>\n",
       "<!-- recordings -->\n",
       "<g id=\"node1\" class=\"node\">\n",
       "<title>recordings</title>\n",
       "<polygon fill=\"none\" stroke=\"black\" points=\"167.83,-95.5 167.83,-517.5 379,-517.5 379,-95.5 167.83,-95.5\"/>\n",
       "<text text-anchor=\"middle\" x=\"273.42\" y=\"-502.3\" font-family=\"Times,serif\" font-size=\"14.00\">recordings (1000 rows)</text>\n",
       "<polyline fill=\"none\" stroke=\"black\" points=\"167.83,-495.5 379,-495.5 \"/>\n",
       "<text text-anchor=\"start\" x=\"175.83\" y=\"-480.3\" font-family=\"Times,serif\" font-size=\"14.00\">id : index</text>\n",
       "<text text-anchor=\"start\" x=\"175.83\" y=\"-466.3\" font-family=\"Times,serif\" font-size=\"14.00\">engine_no : id</text>\n",
       "<text text-anchor=\"start\" x=\"175.83\" y=\"-452.3\" font-family=\"Times,serif\" font-size=\"14.00\">time_in_cycles : id</text>\n",
       "<text text-anchor=\"start\" x=\"175.83\" y=\"-438.3\" font-family=\"Times,serif\" font-size=\"14.00\">operational_setting_1 : numeric</text>\n",
       "<text text-anchor=\"start\" x=\"175.83\" y=\"-424.3\" font-family=\"Times,serif\" font-size=\"14.00\">operational_setting_2 : numeric</text>\n",
       "<text text-anchor=\"start\" x=\"175.83\" y=\"-410.3\" font-family=\"Times,serif\" font-size=\"14.00\">operational_setting_3 : numeric</text>\n",
       "<text text-anchor=\"start\" x=\"175.83\" y=\"-396.3\" font-family=\"Times,serif\" font-size=\"14.00\">sensor_measurement_1 : numeric</text>\n",
       "<text text-anchor=\"start\" x=\"175.83\" y=\"-382.3\" font-family=\"Times,serif\" font-size=\"14.00\">sensor_measurement_2 : numeric</text>\n",
       "<text text-anchor=\"start\" x=\"175.83\" y=\"-368.3\" font-family=\"Times,serif\" font-size=\"14.00\">sensor_measurement_3 : numeric</text>\n",
       "<text text-anchor=\"start\" x=\"175.83\" y=\"-354.3\" font-family=\"Times,serif\" font-size=\"14.00\">sensor_measurement_4 : numeric</text>\n",
       "<text text-anchor=\"start\" x=\"175.83\" y=\"-340.3\" font-family=\"Times,serif\" font-size=\"14.00\">sensor_measurement_5 : numeric</text>\n",
       "<text text-anchor=\"start\" x=\"175.83\" y=\"-326.3\" font-family=\"Times,serif\" font-size=\"14.00\">sensor_measurement_6 : numeric</text>\n",
       "<text text-anchor=\"start\" x=\"175.83\" y=\"-312.3\" font-family=\"Times,serif\" font-size=\"14.00\">sensor_measurement_7 : numeric</text>\n",
       "<text text-anchor=\"start\" x=\"175.83\" y=\"-298.3\" font-family=\"Times,serif\" font-size=\"14.00\">sensor_measurement_8 : numeric</text>\n",
       "<text text-anchor=\"start\" x=\"175.83\" y=\"-284.3\" font-family=\"Times,serif\" font-size=\"14.00\">sensor_measurement_9 : numeric</text>\n",
       "<text text-anchor=\"start\" x=\"175.83\" y=\"-270.3\" font-family=\"Times,serif\" font-size=\"14.00\">sensor_measurement_10 : numeric</text>\n",
       "<text text-anchor=\"start\" x=\"175.83\" y=\"-256.3\" font-family=\"Times,serif\" font-size=\"14.00\">sensor_measurement_11 : numeric</text>\n",
       "<text text-anchor=\"start\" x=\"175.83\" y=\"-242.3\" font-family=\"Times,serif\" font-size=\"14.00\">sensor_measurement_12 : numeric</text>\n",
       "<text text-anchor=\"start\" x=\"175.83\" y=\"-228.3\" font-family=\"Times,serif\" font-size=\"14.00\">sensor_measurement_13 : numeric</text>\n",
       "<text text-anchor=\"start\" x=\"175.83\" y=\"-214.3\" font-family=\"Times,serif\" font-size=\"14.00\">sensor_measurement_14 : numeric</text>\n",
       "<text text-anchor=\"start\" x=\"175.83\" y=\"-200.3\" font-family=\"Times,serif\" font-size=\"14.00\">sensor_measurement_15 : numeric</text>\n",
       "<text text-anchor=\"start\" x=\"175.83\" y=\"-186.3\" font-family=\"Times,serif\" font-size=\"14.00\">sensor_measurement_16 : numeric</text>\n",
       "<text text-anchor=\"start\" x=\"175.83\" y=\"-172.3\" font-family=\"Times,serif\" font-size=\"14.00\">sensor_measurement_17 : numeric</text>\n",
       "<text text-anchor=\"start\" x=\"175.83\" y=\"-158.3\" font-family=\"Times,serif\" font-size=\"14.00\">sensor_measurement_18 : numeric</text>\n",
       "<text text-anchor=\"start\" x=\"175.83\" y=\"-144.3\" font-family=\"Times,serif\" font-size=\"14.00\">sensor_measurement_19 : numeric</text>\n",
       "<text text-anchor=\"start\" x=\"175.83\" y=\"-130.3\" font-family=\"Times,serif\" font-size=\"14.00\">sensor_measurement_20 : numeric</text>\n",
       "<text text-anchor=\"start\" x=\"175.83\" y=\"-116.3\" font-family=\"Times,serif\" font-size=\"14.00\">sensor_measurement_21 : numeric</text>\n",
       "<text text-anchor=\"start\" x=\"175.83\" y=\"-102.3\" font-family=\"Times,serif\" font-size=\"14.00\">time : datetime_time_index</text>\n",
       "</g>\n",
       "<!-- engines -->\n",
       "<g id=\"node2\" class=\"node\">\n",
       "<title>engines</title>\n",
       "<polygon fill=\"none\" stroke=\"black\" points=\"0,-0.5 0,-58.5 264.83,-58.5 264.83,-0.5 0,-0.5\"/>\n",
       "<text text-anchor=\"middle\" x=\"132.42\" y=\"-43.3\" font-family=\"Times,serif\" font-size=\"14.00\">engines (4 rows)</text>\n",
       "<polyline fill=\"none\" stroke=\"black\" points=\"0,-36.5 264.83,-36.5 \"/>\n",
       "<text text-anchor=\"start\" x=\"8\" y=\"-21.3\" font-family=\"Times,serif\" font-size=\"14.00\">engine_no : index</text>\n",
       "<text text-anchor=\"start\" x=\"8\" y=\"-7.3\" font-family=\"Times,serif\" font-size=\"14.00\">first_recordings_time : datetime_time_index</text>\n",
       "</g>\n",
       "<!-- recordings&#45;&gt;engines -->\n",
       "<g id=\"edge1\" class=\"edge\">\n",
       "<title>recordings&#45;&gt;engines</title>\n",
       "<path fill=\"none\" stroke=\"black\" d=\"M216.33,-95.5C216.33,-95.5 216.33,-68.53 216.33,-68.53\"/>\n",
       "<polygon fill=\"black\" stroke=\"black\" points=\"219.83,-68.53 216.33,-58.53 212.83,-68.53 219.83,-68.53\"/>\n",
       "<text text-anchor=\"middle\" x=\"187.18\" y=\"-70.81\" font-family=\"Times,serif\" font-size=\"14.00\">engine_no</text>\n",
       "</g>\n",
       "<!-- cycles -->\n",
       "<g id=\"node3\" class=\"node\">\n",
       "<title>cycles</title>\n",
       "<polygon fill=\"none\" stroke=\"black\" points=\"283,-0.5 283,-58.5 547.83,-58.5 547.83,-0.5 283,-0.5\"/>\n",
       "<text text-anchor=\"middle\" x=\"415.42\" y=\"-43.3\" font-family=\"Times,serif\" font-size=\"14.00\">cycles (321 rows)</text>\n",
       "<polyline fill=\"none\" stroke=\"black\" points=\"283,-36.5 547.83,-36.5 \"/>\n",
       "<text text-anchor=\"start\" x=\"291\" y=\"-21.3\" font-family=\"Times,serif\" font-size=\"14.00\">time_in_cycles : index</text>\n",
       "<text text-anchor=\"start\" x=\"291\" y=\"-7.3\" font-family=\"Times,serif\" font-size=\"14.00\">first_recordings_time : datetime_time_index</text>\n",
       "</g>\n",
       "<!-- recordings&#45;&gt;cycles -->\n",
       "<g id=\"edge2\" class=\"edge\">\n",
       "<title>recordings&#45;&gt;cycles</title>\n",
       "<path fill=\"none\" stroke=\"black\" d=\"M331,-95.5C331,-95.5 331,-68.53 331,-68.53\"/>\n",
       "<polygon fill=\"black\" stroke=\"black\" points=\"334.5,-68.53 331,-58.53 327.5,-68.53 334.5,-68.53\"/>\n",
       "<text text-anchor=\"middle\" x=\"288.62\" y=\"-70.81\" font-family=\"Times,serif\" font-size=\"14.00\">time_in_cycles</text>\n",
       "</g>\n",
       "</g>\n",
       "</svg>\n"
      ],
      "text/plain": [
       "<graphviz.dot.Digraph at 0x10676c7d0>"
      ]
     },
     "execution_count": 15,
     "metadata": {},
     "output_type": "execute_result"
    }
   ],
   "source": [
    "es.plot()"
   ]
  },
  {
   "cell_type": "raw",
   "metadata": {
    "raw_mimetype": "text/restructuredtext"
   },
   "source": [
    "Create Feature Matrix\n",
    "---------------------\n",
    "To simplify the calculation for the feature matrix, we only use 20 percent of the labels."
   ]
  },
  {
   "cell_type": "raw",
   "metadata": {},
   "source": [
    "lt = lt.sample(frac=.2, random_state=0)"
   ]
  },
  {
   "cell_type": "raw",
   "metadata": {
    "raw_mimetype": "text/restructuredtext"
   },
   "source": [
    "Let's generate features that correspond to the labels. To do this, we set the :code:`target_entity` to engines and the :code:`cutoff_time` to our labels so that the features are calculated for each engine only using data up to and including the cutoff time of each label. Notice that the output of Compose integrates easily with Featuretools.\n",
    "\n",
    ".. seealso::\n",
    "    For more details on calculating features using cutoff times, see :doc:`automated_feature_engineering/handling_time`."
   ]
  },
  {
   "cell_type": "code",
   "execution_count": 16,
   "metadata": {},
   "outputs": [
    {
     "name": "stdout",
     "output_type": "stream",
     "text": [
      "Built 48 features\n",
      "Elapsed: 00:06 | Progress: 100%|██████████\n"
     ]
    },
    {
     "data": {
      "text/html": [
       "<div>\n",
       "<style scoped>\n",
       "    .dataframe tbody tr th:only-of-type {\n",
       "        vertical-align: middle;\n",
       "    }\n",
       "\n",
       "    .dataframe tbody tr th {\n",
       "        vertical-align: top;\n",
       "    }\n",
       "\n",
       "    .dataframe thead th {\n",
       "        text-align: right;\n",
       "    }\n",
       "</style>\n",
       "<table border=\"1\" class=\"dataframe\">\n",
       "  <thead>\n",
       "    <tr style=\"text-align: right;\">\n",
       "      <th></th>\n",
       "      <th></th>\n",
       "      <th>SUM(recordings.sensor_measurement_20)</th>\n",
       "      <th>SUM(recordings.sensor_measurement_5)</th>\n",
       "      <th>SUM(recordings.sensor_measurement_15)</th>\n",
       "      <th>SUM(recordings.sensor_measurement_2)</th>\n",
       "      <th>SUM(recordings.operational_setting_1)</th>\n",
       "      <th>SUM(recordings.sensor_measurement_18)</th>\n",
       "      <th>SUM(recordings.sensor_measurement_8)</th>\n",
       "      <th>SUM(recordings.sensor_measurement_9)</th>\n",
       "      <th>SUM(recordings.sensor_measurement_11)</th>\n",
       "      <th>SUM(recordings.sensor_measurement_17)</th>\n",
       "      <th>...</th>\n",
       "      <th>SUM(recordings.cycles.SUM(recordings.sensor_measurement_16))</th>\n",
       "      <th>SUM(recordings.cycles.SUM(recordings.sensor_measurement_21))</th>\n",
       "      <th>SUM(recordings.cycles.SUM(recordings.sensor_measurement_15))</th>\n",
       "      <th>SUM(recordings.cycles.SUM(recordings.sensor_measurement_20))</th>\n",
       "      <th>SUM(recordings.cycles.SUM(recordings.sensor_measurement_9))</th>\n",
       "      <th>SUM(recordings.cycles.SUM(recordings.sensor_measurement_7))</th>\n",
       "      <th>SUM(recordings.cycles.SUM(recordings.sensor_measurement_11))</th>\n",
       "      <th>SUM(recordings.cycles.SUM(recordings.sensor_measurement_6))</th>\n",
       "      <th>SUM(recordings.cycles.SUM(recordings.operational_setting_3))</th>\n",
       "      <th>remaining_useful_life</th>\n",
       "    </tr>\n",
       "    <tr>\n",
       "      <th>engine_no</th>\n",
       "      <th>time</th>\n",
       "      <th></th>\n",
       "      <th></th>\n",
       "      <th></th>\n",
       "      <th></th>\n",
       "      <th></th>\n",
       "      <th></th>\n",
       "      <th></th>\n",
       "      <th></th>\n",
       "      <th></th>\n",
       "      <th></th>\n",
       "      <th></th>\n",
       "      <th></th>\n",
       "      <th></th>\n",
       "      <th></th>\n",
       "      <th></th>\n",
       "      <th></th>\n",
       "      <th></th>\n",
       "      <th></th>\n",
       "      <th></th>\n",
       "      <th></th>\n",
       "      <th></th>\n",
       "    </tr>\n",
       "  </thead>\n",
       "  <tbody>\n",
       "    <tr>\n",
       "      <th rowspan=\"5\" valign=\"top\">1</th>\n",
       "      <th>2000-01-01 00:50:00</th>\n",
       "      <td>70.04</td>\n",
       "      <td>28.13</td>\n",
       "      <td>48.0990</td>\n",
       "      <td>2789.50</td>\n",
       "      <td>171.0170</td>\n",
       "      <td>10875</td>\n",
       "      <td>10874.54</td>\n",
       "      <td>41638.90</td>\n",
       "      <td>205.45</td>\n",
       "      <td>1653</td>\n",
       "      <td>...</td>\n",
       "      <td>0.10</td>\n",
       "      <td>42.5365</td>\n",
       "      <td>48.0990</td>\n",
       "      <td>70.04</td>\n",
       "      <td>41638.90</td>\n",
       "      <td>920.44</td>\n",
       "      <td>205.45</td>\n",
       "      <td>39.70</td>\n",
       "      <td>460.0</td>\n",
       "      <td>(227.0, 315.0]</td>\n",
       "    </tr>\n",
       "    <tr>\n",
       "      <th>2000-01-01 04:10:00</th>\n",
       "      <td>490.85</td>\n",
       "      <td>193.41</td>\n",
       "      <td>236.7149</td>\n",
       "      <td>14410.61</td>\n",
       "      <td>639.0537</td>\n",
       "      <td>55256</td>\n",
       "      <td>55252.70</td>\n",
       "      <td>211714.13</td>\n",
       "      <td>1049.86</td>\n",
       "      <td>8563</td>\n",
       "      <td>...</td>\n",
       "      <td>0.54</td>\n",
       "      <td>295.2742</td>\n",
       "      <td>236.7149</td>\n",
       "      <td>490.85</td>\n",
       "      <td>211714.13</td>\n",
       "      <td>6605.79</td>\n",
       "      <td>1049.86</td>\n",
       "      <td>276.33</td>\n",
       "      <td>2300.0</td>\n",
       "      <td>(227.0, 315.0]</td>\n",
       "    </tr>\n",
       "    <tr>\n",
       "      <th>2000-01-01 07:30:00</th>\n",
       "      <td>880.67</td>\n",
       "      <td>349.26</td>\n",
       "      <td>428.9520</td>\n",
       "      <td>25813.75</td>\n",
       "      <td>1128.1028</td>\n",
       "      <td>98671</td>\n",
       "      <td>98664.69</td>\n",
       "      <td>379760.09</td>\n",
       "      <td>1874.82</td>\n",
       "      <td>15311</td>\n",
       "      <td>...</td>\n",
       "      <td>0.98</td>\n",
       "      <td>528.9393</td>\n",
       "      <td>428.9520</td>\n",
       "      <td>880.67</td>\n",
       "      <td>379760.09</td>\n",
       "      <td>11781.82</td>\n",
       "      <td>1874.82</td>\n",
       "      <td>496.56</td>\n",
       "      <td>4060.0</td>\n",
       "      <td>(227.0, 315.0]</td>\n",
       "    </tr>\n",
       "    <tr>\n",
       "      <th>2000-01-01 10:50:00</th>\n",
       "      <td>1312.52</td>\n",
       "      <td>514.70</td>\n",
       "      <td>613.1760</td>\n",
       "      <td>37496.09</td>\n",
       "      <td>1600.1473</td>\n",
       "      <td>143705</td>\n",
       "      <td>143694.65</td>\n",
       "      <td>550823.50</td>\n",
       "      <td>2734.53</td>\n",
       "      <td>22302</td>\n",
       "      <td>...</td>\n",
       "      <td>1.44</td>\n",
       "      <td>788.4988</td>\n",
       "      <td>613.1760</td>\n",
       "      <td>1312.52</td>\n",
       "      <td>550823.50</td>\n",
       "      <td>17673.33</td>\n",
       "      <td>2734.53</td>\n",
       "      <td>736.42</td>\n",
       "      <td>5980.0</td>\n",
       "      <td>(227.0, 315.0]</td>\n",
       "    </tr>\n",
       "    <tr>\n",
       "      <th>2000-01-01 14:10:00</th>\n",
       "      <td>1706.80</td>\n",
       "      <td>663.76</td>\n",
       "      <td>797.0065</td>\n",
       "      <td>49063.70</td>\n",
       "      <td>2134.2039</td>\n",
       "      <td>188802</td>\n",
       "      <td>188788.43</td>\n",
       "      <td>721240.61</td>\n",
       "      <td>3591.92</td>\n",
       "      <td>29240</td>\n",
       "      <td>...</td>\n",
       "      <td>1.89</td>\n",
       "      <td>1025.8136</td>\n",
       "      <td>797.0065</td>\n",
       "      <td>1706.80</td>\n",
       "      <td>721240.61</td>\n",
       "      <td>23012.97</td>\n",
       "      <td>3591.92</td>\n",
       "      <td>953.22</td>\n",
       "      <td>7940.0</td>\n",
       "      <td>(227.0, 315.0]</td>\n",
       "    </tr>\n",
       "  </tbody>\n",
       "</table>\n",
       "<p>5 rows × 49 columns</p>\n",
       "</div>"
      ],
      "text/plain": [
       "                               SUM(recordings.sensor_measurement_20)  \\\n",
       "engine_no time                                                         \n",
       "1         2000-01-01 00:50:00                                  70.04   \n",
       "          2000-01-01 04:10:00                                 490.85   \n",
       "          2000-01-01 07:30:00                                 880.67   \n",
       "          2000-01-01 10:50:00                                1312.52   \n",
       "          2000-01-01 14:10:00                                1706.80   \n",
       "\n",
       "                               SUM(recordings.sensor_measurement_5)  \\\n",
       "engine_no time                                                        \n",
       "1         2000-01-01 00:50:00                                 28.13   \n",
       "          2000-01-01 04:10:00                                193.41   \n",
       "          2000-01-01 07:30:00                                349.26   \n",
       "          2000-01-01 10:50:00                                514.70   \n",
       "          2000-01-01 14:10:00                                663.76   \n",
       "\n",
       "                               SUM(recordings.sensor_measurement_15)  \\\n",
       "engine_no time                                                         \n",
       "1         2000-01-01 00:50:00                                48.0990   \n",
       "          2000-01-01 04:10:00                               236.7149   \n",
       "          2000-01-01 07:30:00                               428.9520   \n",
       "          2000-01-01 10:50:00                               613.1760   \n",
       "          2000-01-01 14:10:00                               797.0065   \n",
       "\n",
       "                               SUM(recordings.sensor_measurement_2)  \\\n",
       "engine_no time                                                        \n",
       "1         2000-01-01 00:50:00                               2789.50   \n",
       "          2000-01-01 04:10:00                              14410.61   \n",
       "          2000-01-01 07:30:00                              25813.75   \n",
       "          2000-01-01 10:50:00                              37496.09   \n",
       "          2000-01-01 14:10:00                              49063.70   \n",
       "\n",
       "                               SUM(recordings.operational_setting_1)  \\\n",
       "engine_no time                                                         \n",
       "1         2000-01-01 00:50:00                               171.0170   \n",
       "          2000-01-01 04:10:00                               639.0537   \n",
       "          2000-01-01 07:30:00                              1128.1028   \n",
       "          2000-01-01 10:50:00                              1600.1473   \n",
       "          2000-01-01 14:10:00                              2134.2039   \n",
       "\n",
       "                               SUM(recordings.sensor_measurement_18)  \\\n",
       "engine_no time                                                         \n",
       "1         2000-01-01 00:50:00                                  10875   \n",
       "          2000-01-01 04:10:00                                  55256   \n",
       "          2000-01-01 07:30:00                                  98671   \n",
       "          2000-01-01 10:50:00                                 143705   \n",
       "          2000-01-01 14:10:00                                 188802   \n",
       "\n",
       "                               SUM(recordings.sensor_measurement_8)  \\\n",
       "engine_no time                                                        \n",
       "1         2000-01-01 00:50:00                              10874.54   \n",
       "          2000-01-01 04:10:00                              55252.70   \n",
       "          2000-01-01 07:30:00                              98664.69   \n",
       "          2000-01-01 10:50:00                             143694.65   \n",
       "          2000-01-01 14:10:00                             188788.43   \n",
       "\n",
       "                               SUM(recordings.sensor_measurement_9)  \\\n",
       "engine_no time                                                        \n",
       "1         2000-01-01 00:50:00                              41638.90   \n",
       "          2000-01-01 04:10:00                             211714.13   \n",
       "          2000-01-01 07:30:00                             379760.09   \n",
       "          2000-01-01 10:50:00                             550823.50   \n",
       "          2000-01-01 14:10:00                             721240.61   \n",
       "\n",
       "                               SUM(recordings.sensor_measurement_11)  \\\n",
       "engine_no time                                                         \n",
       "1         2000-01-01 00:50:00                                 205.45   \n",
       "          2000-01-01 04:10:00                                1049.86   \n",
       "          2000-01-01 07:30:00                                1874.82   \n",
       "          2000-01-01 10:50:00                                2734.53   \n",
       "          2000-01-01 14:10:00                                3591.92   \n",
       "\n",
       "                               SUM(recordings.sensor_measurement_17)  ...  \\\n",
       "engine_no time                                                        ...   \n",
       "1         2000-01-01 00:50:00                                   1653  ...   \n",
       "          2000-01-01 04:10:00                                   8563  ...   \n",
       "          2000-01-01 07:30:00                                  15311  ...   \n",
       "          2000-01-01 10:50:00                                  22302  ...   \n",
       "          2000-01-01 14:10:00                                  29240  ...   \n",
       "\n",
       "                               SUM(recordings.cycles.SUM(recordings.sensor_measurement_16))  \\\n",
       "engine_no time                                                                                \n",
       "1         2000-01-01 00:50:00                                               0.10              \n",
       "          2000-01-01 04:10:00                                               0.54              \n",
       "          2000-01-01 07:30:00                                               0.98              \n",
       "          2000-01-01 10:50:00                                               1.44              \n",
       "          2000-01-01 14:10:00                                               1.89              \n",
       "\n",
       "                               SUM(recordings.cycles.SUM(recordings.sensor_measurement_21))  \\\n",
       "engine_no time                                                                                \n",
       "1         2000-01-01 00:50:00                                            42.5365              \n",
       "          2000-01-01 04:10:00                                           295.2742              \n",
       "          2000-01-01 07:30:00                                           528.9393              \n",
       "          2000-01-01 10:50:00                                           788.4988              \n",
       "          2000-01-01 14:10:00                                          1025.8136              \n",
       "\n",
       "                               SUM(recordings.cycles.SUM(recordings.sensor_measurement_15))  \\\n",
       "engine_no time                                                                                \n",
       "1         2000-01-01 00:50:00                                            48.0990              \n",
       "          2000-01-01 04:10:00                                           236.7149              \n",
       "          2000-01-01 07:30:00                                           428.9520              \n",
       "          2000-01-01 10:50:00                                           613.1760              \n",
       "          2000-01-01 14:10:00                                           797.0065              \n",
       "\n",
       "                               SUM(recordings.cycles.SUM(recordings.sensor_measurement_20))  \\\n",
       "engine_no time                                                                                \n",
       "1         2000-01-01 00:50:00                                              70.04              \n",
       "          2000-01-01 04:10:00                                             490.85              \n",
       "          2000-01-01 07:30:00                                             880.67              \n",
       "          2000-01-01 10:50:00                                            1312.52              \n",
       "          2000-01-01 14:10:00                                            1706.80              \n",
       "\n",
       "                               SUM(recordings.cycles.SUM(recordings.sensor_measurement_9))  \\\n",
       "engine_no time                                                                               \n",
       "1         2000-01-01 00:50:00                                           41638.90             \n",
       "          2000-01-01 04:10:00                                          211714.13             \n",
       "          2000-01-01 07:30:00                                          379760.09             \n",
       "          2000-01-01 10:50:00                                          550823.50             \n",
       "          2000-01-01 14:10:00                                          721240.61             \n",
       "\n",
       "                               SUM(recordings.cycles.SUM(recordings.sensor_measurement_7))  \\\n",
       "engine_no time                                                                               \n",
       "1         2000-01-01 00:50:00                                             920.44             \n",
       "          2000-01-01 04:10:00                                            6605.79             \n",
       "          2000-01-01 07:30:00                                           11781.82             \n",
       "          2000-01-01 10:50:00                                           17673.33             \n",
       "          2000-01-01 14:10:00                                           23012.97             \n",
       "\n",
       "                               SUM(recordings.cycles.SUM(recordings.sensor_measurement_11))  \\\n",
       "engine_no time                                                                                \n",
       "1         2000-01-01 00:50:00                                             205.45              \n",
       "          2000-01-01 04:10:00                                            1049.86              \n",
       "          2000-01-01 07:30:00                                            1874.82              \n",
       "          2000-01-01 10:50:00                                            2734.53              \n",
       "          2000-01-01 14:10:00                                            3591.92              \n",
       "\n",
       "                               SUM(recordings.cycles.SUM(recordings.sensor_measurement_6))  \\\n",
       "engine_no time                                                                               \n",
       "1         2000-01-01 00:50:00                                              39.70             \n",
       "          2000-01-01 04:10:00                                             276.33             \n",
       "          2000-01-01 07:30:00                                             496.56             \n",
       "          2000-01-01 10:50:00                                             736.42             \n",
       "          2000-01-01 14:10:00                                             953.22             \n",
       "\n",
       "                               SUM(recordings.cycles.SUM(recordings.operational_setting_3))  \\\n",
       "engine_no time                                                                                \n",
       "1         2000-01-01 00:50:00                                              460.0              \n",
       "          2000-01-01 04:10:00                                             2300.0              \n",
       "          2000-01-01 07:30:00                                             4060.0              \n",
       "          2000-01-01 10:50:00                                             5980.0              \n",
       "          2000-01-01 14:10:00                                             7940.0              \n",
       "\n",
       "                               remaining_useful_life  \n",
       "engine_no time                                        \n",
       "1         2000-01-01 00:50:00         (227.0, 315.0]  \n",
       "          2000-01-01 04:10:00         (227.0, 315.0]  \n",
       "          2000-01-01 07:30:00         (227.0, 315.0]  \n",
       "          2000-01-01 10:50:00         (227.0, 315.0]  \n",
       "          2000-01-01 14:10:00         (227.0, 315.0]  \n",
       "\n",
       "[5 rows x 49 columns]"
      ]
     },
     "execution_count": 16,
     "metadata": {},
     "output_type": "execute_result"
    }
   ],
   "source": [
    "X, features = ft.dfs(\n",
    "    entityset=es,\n",
    "    target_entity='engines',\n",
    "    agg_primitives=['sum'],\n",
    "    trans_primitives=[],\n",
    "    cutoff_time=lt,\n",
    "    cutoff_time_in_index=True,\n",
    "    include_cutoff_time=False,\n",
    "    max_depth=3,\n",
    "    verbose=True,\n",
    ")\n",
    "\n",
    "X.head()"
   ]
  },
  {
   "cell_type": "code",
   "execution_count": 17,
   "metadata": {},
   "outputs": [
    {
     "data": {
      "text/plain": [
       "engine_no  time               \n",
       "1          2000-01-01 00:50:00    3\n",
       "           2000-01-01 04:10:00    3\n",
       "           2000-01-01 07:30:00    3\n",
       "           2000-01-01 10:50:00    3\n",
       "           2000-01-01 14:10:00    3\n",
       "dtype: int8"
      ]
     },
     "execution_count": 17,
     "metadata": {},
     "output_type": "execute_result"
    }
   ],
   "source": [
    "y = X.pop('remaining_useful_life').cat.codes\n",
    "\n",
    "y.head()"
   ]
  },
  {
   "cell_type": "raw",
   "metadata": {
    "raw_mimetype": "text/restructuredtext"
   },
   "source": [
    "Machine Learning\n",
    "================\n",
    "Now, we are ready to create a machine learning model for our prediction problem.\n",
    "\n",
    "Preprocess Features\n",
    "-------------------\n",
    "Let's extract the labels from the feature matrix and fill any missing values with zeros. Additionally, the categorical features are one-hot encoded."
   ]
  },
  {
   "cell_type": "raw",
   "metadata": {
    "raw_mimetype": "text/restructuredtext"
   },
   "source": [
    "Split Labels and Features\n",
    "-------------------------\n",
    "Then, we split the labels and features into training and holdout sets."
   ]
  },
  {
   "cell_type": "code",
   "execution_count": 18,
   "metadata": {},
   "outputs": [],
   "source": [
    "X_train, X_holdout, y_train, y_holdout = split_data(\n",
    "    X=X,\n",
    "    y=y,\n",
    "    test_size=0.2,\n",
    "    random_state=0,\n",
    ")"
   ]
  },
  {
   "cell_type": "raw",
   "metadata": {
    "raw_mimetype": "text/restructuredtext"
   },
   "source": [
    "Train Model\n",
    "-----------\n",
    "Next, we train a random forest classifer on the training set."
   ]
  },
  {
   "cell_type": "code",
   "execution_count": 19,
   "metadata": {},
   "outputs": [
    {
     "name": "stdout",
     "output_type": "stream",
     "text": [
      "Using default limit of max_pipelines=5.\n",
      "\n",
      "Generating pipelines to search over...\n",
      "*****************************\n",
      "* Beginning pipeline search *\n",
      "*****************************\n",
      "\n",
      "Optimizing for F1 Macro. \n",
      "Greater score is better.\n",
      "\n",
      "Searching up to 5 pipelines. \n",
      "Allowed model families: catboost, xgboost, linear_model, random_forest\n",
      "\n"
     ]
    },
    {
     "data": {
      "application/vnd.jupyter.widget-view+json": {
       "model_id": "dc48b4c93e9f4d76916b9d2f51fa3ff9",
       "version_major": 2,
       "version_minor": 0
      },
      "text/plain": [
       "FigureWidget({\n",
       "    'data': [{'mode': 'lines+markers',\n",
       "              'name': 'Best Score',\n",
       "              'type'…"
      ]
     },
     "metadata": {},
     "output_type": "display_data"
    },
    {
     "name": "stdout",
     "output_type": "stream",
     "text": [
      "(1/5) Mode Baseline Multiclass Classificati... Elapsed:00:00\n",
      "\tStarting cross validation\n",
      "\tFinished cross validation - mean F1 Macro: 0.239\n",
      "(2/5) CatBoost Classifier w/ Simple Imputer    Elapsed:00:00\n",
      "\tStarting cross validation\n",
      "\tFinished cross validation - mean F1 Macro: 0.752\n",
      "(3/5) XGBoost Classifier w/ Simple Imputer     Elapsed:00:03\n",
      "\tStarting cross validation\n",
      "\tFinished cross validation - mean F1 Macro: 0.792\n",
      "(4/5) Random Forest Classifier w/ Simple Im... Elapsed:00:04\n",
      "\tStarting cross validation\n",
      "\tFinished cross validation - mean F1 Macro: 0.773\n",
      "(5/5) Logistic Regression Classifier w/ Sim... Elapsed:00:05\n",
      "\tStarting cross validation\n",
      "\tFinished cross validation - mean F1 Macro: 0.618\n",
      "\n",
      "Search finished after 00:15            \n",
      "Best pipeline: XGBoost Classifier w/ Simple Imputer\n",
      "Best pipeline F1 Macro: 0.791534\n"
     ]
    }
   ],
   "source": [
    "automl = AutoMLSearch(\n",
    "    problem_type='multiclass',\n",
    "    objective='f1_macro',\n",
    "    random_state=0,\n",
    ")\n",
    "\n",
    "automl.search(X_train, y_train, data_checks=None)"
   ]
  },
  {
   "cell_type": "code",
   "execution_count": 20,
   "metadata": {},
   "outputs": [
    {
     "name": "stdout",
     "output_type": "stream",
     "text": [
      "****************************************\n",
      "* XGBoost Classifier w/ Simple Imputer *\n",
      "****************************************\n",
      "\n",
      "Problem Type: Multiclass Classification\n",
      "Model Family: XGBoost\n",
      "\n",
      "Pipeline Steps\n",
      "==============\n",
      "1. Simple Imputer\n",
      "\t * impute_strategy : most_frequent\n",
      "\t * fill_value : None\n",
      "2. XGBoost Classifier\n",
      "\t * eta : 0.1\n",
      "\t * max_depth : 6\n",
      "\t * min_child_weight : 1\n",
      "\t * n_estimators : 100\n"
     ]
    },
    {
     "data": {
      "image/svg+xml": [
       "<?xml version=\"1.0\" encoding=\"UTF-8\" standalone=\"no\"?>\n",
       "<!DOCTYPE svg PUBLIC \"-//W3C//DTD SVG 1.1//EN\"\n",
       " \"http://www.w3.org/Graphics/SVG/1.1/DTD/svg11.dtd\">\n",
       "<!-- Generated by graphviz version 2.43.0 (0)\n",
       " -->\n",
       "<!-- Title: XGBoost Classifier w/ Simple Imputer Pages: 1 -->\n",
       "<svg width=\"378pt\" height=\"95pt\"\n",
       " viewBox=\"0.00 0.00 377.72 95.00\" xmlns=\"http://www.w3.org/2000/svg\" xmlns:xlink=\"http://www.w3.org/1999/xlink\">\n",
       "<g id=\"graph0\" class=\"graph\" transform=\"scale(1 1) rotate(0) translate(4 91)\">\n",
       "<title>XGBoost Classifier w/ Simple Imputer</title>\n",
       "<polygon fill=\"white\" stroke=\"transparent\" points=\"-4,4 -4,-91 373.72,-91 373.72,4 -4,4\"/>\n",
       "<!-- Simple Imputer -->\n",
       "<g id=\"node1\" class=\"node\">\n",
       "<title>Simple Imputer</title>\n",
       "<polygon fill=\"none\" stroke=\"black\" points=\"0,-14.5 0,-72.5 197.96,-72.5 197.96,-14.5 0,-14.5\"/>\n",
       "<text text-anchor=\"middle\" x=\"98.98\" y=\"-57.3\" font-family=\"Times,serif\" font-size=\"14.00\">Simple Imputer</text>\n",
       "<polyline fill=\"none\" stroke=\"black\" points=\"0,-50.5 197.96,-50.5 \"/>\n",
       "<text text-anchor=\"start\" x=\"8\" y=\"-35.3\" font-family=\"Times,serif\" font-size=\"14.00\">impute_strategy : most_frequent</text>\n",
       "<text text-anchor=\"start\" x=\"8\" y=\"-21.3\" font-family=\"Times,serif\" font-size=\"14.00\">fill_value : None</text>\n",
       "</g>\n",
       "<!-- XGBoost Classifier -->\n",
       "<g id=\"node2\" class=\"node\">\n",
       "<title>XGBoost Classifier</title>\n",
       "<polygon fill=\"none\" stroke=\"black\" points=\"233.96,-0.5 233.96,-86.5 369.72,-86.5 369.72,-0.5 233.96,-0.5\"/>\n",
       "<text text-anchor=\"middle\" x=\"301.84\" y=\"-71.3\" font-family=\"Times,serif\" font-size=\"14.00\">XGBoost Classifier</text>\n",
       "<polyline fill=\"none\" stroke=\"black\" points=\"233.96,-64.5 369.72,-64.5 \"/>\n",
       "<text text-anchor=\"start\" x=\"241.96\" y=\"-49.3\" font-family=\"Times,serif\" font-size=\"14.00\">eta : 0.10</text>\n",
       "<text text-anchor=\"start\" x=\"241.96\" y=\"-35.3\" font-family=\"Times,serif\" font-size=\"14.00\">max_depth : 6</text>\n",
       "<text text-anchor=\"start\" x=\"241.96\" y=\"-21.3\" font-family=\"Times,serif\" font-size=\"14.00\">min_child_weight : 1</text>\n",
       "<text text-anchor=\"start\" x=\"241.96\" y=\"-7.3\" font-family=\"Times,serif\" font-size=\"14.00\">n_estimators : 100</text>\n",
       "</g>\n",
       "<!-- Simple Imputer&#45;&gt;XGBoost Classifier -->\n",
       "<g id=\"edge1\" class=\"edge\">\n",
       "<title>Simple Imputer&#45;&gt;XGBoost Classifier</title>\n",
       "<path fill=\"none\" stroke=\"black\" d=\"M198.03,-43.5C198.03,-43.5 223.69,-43.5 223.69,-43.5\"/>\n",
       "<polygon fill=\"black\" stroke=\"black\" points=\"223.69,-47 233.69,-43.5 223.69,-40 223.69,-47\"/>\n",
       "</g>\n",
       "</g>\n",
       "</svg>\n"
      ],
      "text/plain": [
       "<graphviz.dot.Digraph at 0x15ef50790>"
      ]
     },
     "execution_count": 20,
     "metadata": {},
     "output_type": "execute_result"
    }
   ],
   "source": [
    "automl.best_pipeline.describe()\n",
    "automl.best_pipeline.graph()"
   ]
  },
  {
   "cell_type": "raw",
   "metadata": {
    "raw_mimetype": "text/restructuredtext"
   },
   "source": [
    "Test Model\n",
    "----------\n",
    "Lastly, we score the model performance by evaluating predictions on the holdout set."
   ]
  },
  {
   "cell_type": "code",
   "execution_count": 21,
   "metadata": {},
   "outputs": [
    {
     "data": {
      "text/plain": [
       "{'F1 Macro': 0.9142857142857143}"
      ]
     },
     "execution_count": 21,
     "metadata": {},
     "output_type": "execute_result"
    }
   ],
   "source": [
    "best_pipeline = automl.best_pipeline.fit(X_train, y_train)\n",
    "\n",
    "score = best_pipeline.score(\n",
    "    X=X_holdout,\n",
    "    y=y_holdout,\n",
    "    objectives=['f1_macro'],\n",
    ")\n",
    "\n",
    "dict(score)"
   ]
  }
 ],
 "metadata": {
  "celltoolbar": "Raw Cell Format",
  "jupytext": {
   "cell_metadata_filter": "-all",
   "main_language": "python",
   "notebook_metadata_filter": "-all"
  },
  "kernelspec": {
   "display_name": "Python 3",
   "language": "python",
   "name": "python3"
  },
  "language_info": {
   "codemirror_mode": {
    "name": "ipython",
    "version": 3
   },
   "file_extension": ".py",
   "mimetype": "text/x-python",
   "name": "python",
   "nbconvert_exporter": "python",
   "pygments_lexer": "ipython3",
   "version": "3.7.5"
  }
 },
 "nbformat": 4,
 "nbformat_minor": 4
}
