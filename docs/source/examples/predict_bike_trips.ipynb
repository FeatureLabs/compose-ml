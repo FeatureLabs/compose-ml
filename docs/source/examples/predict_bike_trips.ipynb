{
 "cells": [
  {
   "cell_type": "markdown",
   "metadata": {},
   "source": [
    "# Predict Bike Trips"
   ]
  },
  {
   "cell_type": "code",
   "execution_count": null,
   "metadata": {},
   "outputs": [],
   "source": [
    "from demo.chicago_bike import load_sample\n",
    "from matplotlib.pyplot import subplots\n",
    "import composeml as cp\n",
    "import featuretools as ft\n",
    "import evalml"
   ]
  },
  {
   "cell_type": "code",
   "execution_count": null,
   "metadata": {},
   "outputs": [],
   "source": [
    "df = load_sample()\n",
    "\n",
    "df.head()"
   ]
  },
  {
   "cell_type": "markdown",
   "metadata": {},
   "source": [
    "## Prediction Engineering"
   ]
  },
  {
   "cell_type": "code",
   "execution_count": null,
   "metadata": {},
   "outputs": [],
   "source": [
    "def trip_count(ds):\n",
    "    return len(ds)"
   ]
  },
  {
   "cell_type": "code",
   "execution_count": null,
   "metadata": {},
   "outputs": [],
   "source": [
    "lm = cp.LabelMaker(\n",
    "    target_entity='from_station_id',\n",
    "    labeling_function=trip_count,\n",
    "    time_index='starttime',\n",
    "    window_size='13h',\n",
    ")"
   ]
  },
  {
   "cell_type": "code",
   "execution_count": null,
   "metadata": {},
   "outputs": [],
   "source": [
    "lt = lm.search(\n",
    "    df.sort_values('starttime'),\n",
    "    num_examples_per_instance=-1,\n",
    "    minimum_data='2014-06-30 08:00',\n",
    "    verbose=False,\n",
    ")\n",
    "\n",
    "lt.head()"
   ]
  },
  {
   "cell_type": "code",
   "execution_count": null,
   "metadata": {},
   "outputs": [],
   "source": [
    "lt.describe()"
   ]
  },
  {
   "cell_type": "code",
   "execution_count": null,
   "metadata": {},
   "outputs": [],
   "source": [
    "fig, ax = subplots(nrows=2, ncols=1, figsize=(6, 8))\n",
    "lt.plot.distribution(ax=ax[0])\n",
    "lt.plot.count_by_time(ax=ax[1])\n",
    "fig.tight_layout(pad=2)"
   ]
  },
  {
   "cell_type": "markdown",
   "metadata": {},
   "source": [
    "## Feature Engineering"
   ]
  },
  {
   "cell_type": "code",
   "execution_count": null,
   "metadata": {},
   "outputs": [],
   "source": [
    "es = ft.EntitySet('chicago_bike')\n",
    "\n",
    "es.entity_from_dataframe(\n",
    "    dataframe=df.reset_index(),\n",
    "    entity_id='trips',\n",
    "    time_index='starttime',\n",
    "    index='trip_id',\n",
    ")\n",
    "                  \n",
    "es.normalize_entity(\n",
    "    base_entity_id='trips',\n",
    "    new_entity_id='from_station_id',\n",
    "    index='from_station_id',\n",
    "    make_time_index=False,\n",
    ")\n",
    "\n",
    "es.normalize_entity(\n",
    "    base_entity_id='trips',\n",
    "    new_entity_id='weather',\n",
    "    index='events',\n",
    "    make_time_index=False,\n",
    ")                 \n",
    "\n",
    "es.normalize_entity(\n",
    "    base_entity_id='trips',\n",
    "    new_entity_id='gender',\n",
    "    index='gender',\n",
    "    make_time_index=False,\n",
    ")\n",
    "\n",
    "es[\"trips\"][\"gender\"].interesting_values = ['Male', 'Female']\n",
    "es[\"trips\"][\"events\"].interesting_values = ['tstorms']\n",
    "es.plot()"
   ]
  },
  {
   "cell_type": "code",
   "execution_count": null,
   "metadata": {},
   "outputs": [],
   "source": [
    "fm, fd = ft.dfs(\n",
    "    entityset=es,\n",
    "    target_entity='from_station_id',\n",
    "    trans_primitives=['hour', 'week', 'is_weekend'],\n",
    "    cutoff_time=lt,\n",
    "    cutoff_time_in_index=True,\n",
    "    include_cutoff_time=False,\n",
    "    verbose=False,\n",
    ")\n",
    "\n",
    "fm.head()"
   ]
  },
  {
   "cell_type": "markdown",
   "metadata": {},
   "source": [
    "## Machine Learning"
   ]
  },
  {
   "cell_type": "code",
   "execution_count": null,
   "metadata": {},
   "outputs": [],
   "source": [
    "y = fm.pop('trip_count')\n",
    "splits = evalml.preprocessing.split_data(fm, y, test_size=0.1, random_state=0, regression=True)\n",
    "X_train, X_holdout, y_train, y_holdout = splits"
   ]
  },
  {
   "cell_type": "code",
   "execution_count": null,
   "metadata": {},
   "outputs": [],
   "source": [
    "automl = evalml.AutoMLSearch(problem_type='regression', objective='r2', random_state=0)\n",
    "automl.search(X_train, y_train, data_checks='disabled', show_iteration_plot=False)"
   ]
  },
  {
   "cell_type": "code",
   "execution_count": null,
   "metadata": {},
   "outputs": [],
   "source": [
    "automl.best_pipeline.describe()\n",
    "automl.best_pipeline.graph()"
   ]
  },
  {
   "cell_type": "code",
   "execution_count": null,
   "metadata": {},
   "outputs": [],
   "source": [
    "best_pipeline = automl.best_pipeline.fit(X_train, y_train)\n",
    "score = best_pipeline.score(X_holdout, y_holdout, objectives=['r2'])\n",
    "dict(score)"
   ]
  },
  {
   "cell_type": "code",
   "execution_count": null,
   "metadata": {},
   "outputs": [],
   "source": [
    "feature_importance = best_pipeline.feature_importance\n",
    "feature_importance = feature_importance.set_index('feature')['importance']\n",
    "top_k = feature_importance.abs().sort_values().tail(20).index\n",
    "feature_importance[top_k].plot.barh(figsize=(8, 8), fontsize=14, width=.7);"
   ]
  }
 ],
 "metadata": {
  "kernelspec": {
   "display_name": "Python 3",
   "language": "python",
   "name": "python3"
  },
  "language_info": {
   "codemirror_mode": {
    "name": "ipython",
    "version": 3
   },
   "file_extension": ".py",
   "mimetype": "text/x-python",
   "name": "python",
   "nbconvert_exporter": "python",
   "pygments_lexer": "ipython3",
   "version": "3.7.5"
  }
 },
 "nbformat": 4,
 "nbformat_minor": 4
}
