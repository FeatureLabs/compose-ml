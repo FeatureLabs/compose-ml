{
 "cells": [
  {
   "cell_type": "markdown",
   "metadata": {},
   "source": [
    "# Getting Started\n",
    "\n",
    "In this example, we will generate labels on a mock dataset of transactions. For each customer, we want to label whether the total purchase amount over the next hour of transactions will exceed 100. Additionally, we want to predict one hour in advance.\n",
    "\n",
    "\n",
    "## Install\n",
    "\n",
    "For installation, we run the following command.\n",
    "\n",
    "```\n",
    "pip install composeml\n",
    "```\n",
    "\n",
    "## Load Data\n",
    "With the package installed, we load in the data. To get an idea on how the transactions looks, we preview the data frame."
   ]
  },
  {
   "cell_type": "code",
   "execution_count": null,
   "metadata": {},
   "outputs": [],
   "source": [
    "from composeml.datasets import transactions\n",
    "\n",
    "df = transactions()\n",
    "\n",
    "df[df.columns[:5]].head()"
   ]
  },
  {
   "cell_type": "markdown",
   "metadata": {},
   "source": [
    "## Create Labeling Function\n",
    "\n",
    "First, we define the function that will return the total purchase amount given a hour of transactions."
   ]
  },
  {
   "cell_type": "code",
   "execution_count": null,
   "metadata": {},
   "outputs": [],
   "source": [
    "def my_labeling_function(df_slice):\n",
    "    label = df_slice[\"amount\"].sum()\n",
    "    return label"
   ]
  },
  {
   "cell_type": "raw",
   "metadata": {
    "raw_mimetype": "text/restructuredtext"
   },
   "source": [
    "Construct Label Maker\n",
    "---------------------\n",
    "\n",
    ".. currentmodule:: composeml\n",
    "\n",
    "With the labeling function, we create the :class:`LabelMaker` for our prediction problem. We need an hour of transactions for each label, so we set :code:`window_size` to one hour."
   ]
  },
  {
   "cell_type": "code",
   "execution_count": null,
   "metadata": {},
   "outputs": [],
   "source": [
    "from composeml import LabelMaker\n",
    "\n",
    "label_maker = LabelMaker(\n",
    "    target_entity=\"customer_id\",\n",
    "    time_index=\"transaction_time\",\n",
    "    labeling_function=my_labeling_function,\n",
    "    window_size=\"1h\",\n",
    ")"
   ]
  },
  {
   "cell_type": "raw",
   "metadata": {
    "raw_mimetype": "text/restructuredtext"
   },
   "source": [
    "Generate Labels\n",
    "---------------\n",
    "\n",
    "Next, we automatically search and extract the labels by using :py:meth:`LabelMaker.search`."
   ]
  },
  {
   "cell_type": "code",
   "execution_count": null,
   "metadata": {},
   "outputs": [],
   "source": [
    "labels = label_maker.search(\n",
    "    df,\n",
    "    minimum_data=\"1h\",\n",
    "    num_examples_per_instance=25,\n",
    "    gap=1,\n",
    "    verbose=True,\n",
    ")\n",
    "\n",
    "labels.head()"
   ]
  },
  {
   "cell_type": "raw",
   "metadata": {
    "raw_mimetype": "text/restructuredtext"
   },
   "source": [
    "Transform Labels\n",
    "----------------\n",
    "\n",
    "With the generated :class:`LabelTimes`, we will apply specific transforms for our prediction problem.\n",
    "\n",
    "Apply Threshold on Labels\n",
    "~~~~~~~~~~~~~~~~~~~~~~~~~\n",
    "\n",
    "We apply :py:meth:`LabelTimes.threshold` to make the labels binary for totaled amounts exceeding 100."
   ]
  },
  {
   "cell_type": "code",
   "execution_count": null,
   "metadata": {},
   "outputs": [],
   "source": [
    "labels = labels.threshold(100)\n",
    "\n",
    "labels.head()"
   ]
  },
  {
   "cell_type": "raw",
   "metadata": {
    "raw_mimetype": "text/restructuredtext"
   },
   "source": [
    "Lead Label Times\n",
    "~~~~~~~~~~~~~~~~\n",
    "\n",
    "Lastly, we use :py:meth:`LabelTimes.apply_lead` to shift the label times 1 hour earlier for predicting in advance."
   ]
  },
  {
   "cell_type": "code",
   "execution_count": null,
   "metadata": {},
   "outputs": [],
   "source": [
    "labels = labels.apply_lead('1h')\n",
    "\n",
    "labels.head()"
   ]
  },
  {
   "cell_type": "raw",
   "metadata": {
    "raw_mimetype": "text/restructuredtext"
   },
   "source": [
    "Describe Labels\n",
    "---------------\n",
    "\n",
    "We could use :py:meth:`LabelTimes.describe` to get the steps and settings used to make the labels."
   ]
  },
  {
   "cell_type": "code",
   "execution_count": null,
   "metadata": {},
   "outputs": [],
   "source": [
    "labels.describe()"
   ]
  },
  {
   "cell_type": "raw",
   "metadata": {
    "raw_mimetype": "text/restructuredtext"
   },
   "source": [
    "Plot Labels\n",
    "-----------\n",
    "\n",
    "Also, there are plots available for insight to the labels.\n",
    "\n",
    "Label Distribution\n",
    "~~~~~~~~~~~~~~~~~~\n",
    "\n",
    ".. code-block:: python\n",
    "\n",
    "   labels.plot.distribution()\n",
    "   \n",
    ".. image:: images/toc_getting_started_0.png\n",
    "\n",
    "\n",
    "Label Count vs. Time\n",
    "~~~~~~~~~~~~~~~~~~~~\n",
    "\n",
    ".. code-block:: python\n",
    "\n",
    "   labels.plot.count_by_time(figsize=(7, 5))\n",
    "\n",
    ".. image:: images/toc_getting_started_1.1.png\n"
   ]
  }
 ],
 "metadata": {
  "celltoolbar": "Raw Cell Format",
  "kernelspec": {
   "display_name": "Python 3",
   "language": "python",
   "name": "python3"
  },
  "language_info": {
   "codemirror_mode": {
    "name": "ipython",
    "version": 3
   },
   "file_extension": ".py",
   "mimetype": "text/x-python",
   "name": "python",
   "nbconvert_exporter": "python",
   "pygments_lexer": "ipython3",
   "version": "3.7.0"
  },
  "widgets": {
   "application/vnd.jupyter.widget-state+json": {
    "state": {},
    "version_major": 2,
    "version_minor": 0
   }
  }
 },
 "nbformat": 4,
 "nbformat_minor": 2
}
