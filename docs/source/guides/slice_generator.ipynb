{
 "cells": [
  {
   "cell_type": "raw",
   "metadata": {
    "raw_mimetype": "text/restructuredtext"
   },
   "source": [
    "===============\n",
    "Slice Generator\n",
    "===============\n",
    "The slice generator is the underlying function used to generate data slices for the labeling function. If the label maker raises an error during the search or the ouptut labels doesn't seem right, then you will need to check the logic in the labeling function or inspect the data for any inherent errors. This is where the slice generator can help us do both. Ideally, you also want to use the slice generator during the development of your labeling function for best practice. However, it is an optional step and not required to generate labels.\n",
    "\n",
    "In this guide, we will use the slice generator to inspect data slices and develop our labeling function."
   ]
  },
  {
   "cell_type": "code",
   "execution_count": 3,
   "metadata": {},
   "outputs": [],
   "source": [
    "import composeml as cp"
   ]
  },
  {
   "cell_type": "raw",
   "metadata": {
    "raw_mimetype": "text/restructuredtext"
   },
   "source": [
    "Load Data\n",
    "=========\n",
    "Let's load in a mock dataset of transactions and preview the data to see how it looks."
   ]
  },
  {
   "cell_type": "code",
   "execution_count": 4,
   "metadata": {},
   "outputs": [
    {
     "data": {
      "text/html": [
       "<div>\n",
       "<style scoped>\n",
       "    .dataframe tbody tr th:only-of-type {\n",
       "        vertical-align: middle;\n",
       "    }\n",
       "\n",
       "    .dataframe tbody tr th {\n",
       "        vertical-align: top;\n",
       "    }\n",
       "\n",
       "    .dataframe thead th {\n",
       "        text-align: right;\n",
       "    }\n",
       "</style>\n",
       "<table border=\"1\" class=\"dataframe\">\n",
       "  <thead>\n",
       "    <tr style=\"text-align: right;\">\n",
       "      <th></th>\n",
       "      <th>transaction_id</th>\n",
       "      <th>session_id</th>\n",
       "      <th>transaction_time</th>\n",
       "      <th>product_id</th>\n",
       "      <th>amount</th>\n",
       "      <th>customer_id</th>\n",
       "      <th>device</th>\n",
       "      <th>session_start</th>\n",
       "      <th>zip_code</th>\n",
       "      <th>join_date</th>\n",
       "      <th>date_of_birth</th>\n",
       "      <th>brand</th>\n",
       "    </tr>\n",
       "  </thead>\n",
       "  <tbody>\n",
       "    <tr>\n",
       "      <th>0</th>\n",
       "      <td>298</td>\n",
       "      <td>1</td>\n",
       "      <td>2014-01-01 00:00:00</td>\n",
       "      <td>5</td>\n",
       "      <td>127.64</td>\n",
       "      <td>2</td>\n",
       "      <td>desktop</td>\n",
       "      <td>2014-01-01 00:00:00</td>\n",
       "      <td>13244</td>\n",
       "      <td>2012-04-15 23:31:04</td>\n",
       "      <td>1986-08-18 00:00:00</td>\n",
       "      <td>A</td>\n",
       "    </tr>\n",
       "    <tr>\n",
       "      <th>1</th>\n",
       "      <td>10</td>\n",
       "      <td>1</td>\n",
       "      <td>2014-01-01 00:09:45</td>\n",
       "      <td>5</td>\n",
       "      <td>57.39</td>\n",
       "      <td>2</td>\n",
       "      <td>desktop</td>\n",
       "      <td>2014-01-01 00:00:00</td>\n",
       "      <td>13244</td>\n",
       "      <td>2012-04-15 23:31:04</td>\n",
       "      <td>1986-08-18 00:00:00</td>\n",
       "      <td>A</td>\n",
       "    </tr>\n",
       "    <tr>\n",
       "      <th>2</th>\n",
       "      <td>495</td>\n",
       "      <td>1</td>\n",
       "      <td>2014-01-01 00:14:05</td>\n",
       "      <td>5</td>\n",
       "      <td>69.45</td>\n",
       "      <td>2</td>\n",
       "      <td>desktop</td>\n",
       "      <td>2014-01-01 00:00:00</td>\n",
       "      <td>13244</td>\n",
       "      <td>2012-04-15 23:31:04</td>\n",
       "      <td>1986-08-18 00:00:00</td>\n",
       "      <td>A</td>\n",
       "    </tr>\n",
       "    <tr>\n",
       "      <th>3</th>\n",
       "      <td>460</td>\n",
       "      <td>10</td>\n",
       "      <td>2014-01-01 02:33:50</td>\n",
       "      <td>5</td>\n",
       "      <td>123.19</td>\n",
       "      <td>2</td>\n",
       "      <td>tablet</td>\n",
       "      <td>2014-01-01 02:31:40</td>\n",
       "      <td>13244</td>\n",
       "      <td>2012-04-15 23:31:04</td>\n",
       "      <td>1986-08-18 00:00:00</td>\n",
       "      <td>A</td>\n",
       "    </tr>\n",
       "    <tr>\n",
       "      <th>4</th>\n",
       "      <td>302</td>\n",
       "      <td>10</td>\n",
       "      <td>2014-01-01 02:37:05</td>\n",
       "      <td>5</td>\n",
       "      <td>64.47</td>\n",
       "      <td>2</td>\n",
       "      <td>tablet</td>\n",
       "      <td>2014-01-01 02:31:40</td>\n",
       "      <td>13244</td>\n",
       "      <td>2012-04-15 23:31:04</td>\n",
       "      <td>1986-08-18 00:00:00</td>\n",
       "      <td>A</td>\n",
       "    </tr>\n",
       "  </tbody>\n",
       "</table>\n",
       "</div>"
      ],
      "text/plain": [
       "   transaction_id  session_id    transaction_time  product_id  amount  \\\n",
       "0             298           1 2014-01-01 00:00:00           5  127.64   \n",
       "1              10           1 2014-01-01 00:09:45           5   57.39   \n",
       "2             495           1 2014-01-01 00:14:05           5   69.45   \n",
       "3             460          10 2014-01-01 02:33:50           5  123.19   \n",
       "4             302          10 2014-01-01 02:37:05           5   64.47   \n",
       "\n",
       "   customer_id   device        session_start  zip_code            join_date  \\\n",
       "0            2  desktop  2014-01-01 00:00:00     13244  2012-04-15 23:31:04   \n",
       "1            2  desktop  2014-01-01 00:00:00     13244  2012-04-15 23:31:04   \n",
       "2            2  desktop  2014-01-01 00:00:00     13244  2012-04-15 23:31:04   \n",
       "3            2   tablet  2014-01-01 02:31:40     13244  2012-04-15 23:31:04   \n",
       "4            2   tablet  2014-01-01 02:31:40     13244  2012-04-15 23:31:04   \n",
       "\n",
       "         date_of_birth brand  \n",
       "0  1986-08-18 00:00:00     A  \n",
       "1  1986-08-18 00:00:00     A  \n",
       "2  1986-08-18 00:00:00     A  \n",
       "3  1986-08-18 00:00:00     A  \n",
       "4  1986-08-18 00:00:00     A  "
      ]
     },
     "execution_count": 4,
     "metadata": {},
     "output_type": "execute_result"
    }
   ],
   "source": [
    "df = cp.demos.load_transactions()\n",
    "\n",
    "df.head()"
   ]
  },
  {
   "cell_type": "raw",
   "metadata": {
    "raw_mimetype": "text/restructuredtext"
   },
   "source": [
    "Labeling Function\n",
    "=================\n",
    "Let's define a labeling function that will return how much a customer spent given a slice of transactions."
   ]
  },
  {
   "cell_type": "code",
   "execution_count": 9,
   "metadata": {},
   "outputs": [],
   "source": [
    "def total_spent(df):\n",
    "    total = df['amount'].sum()\n",
    "    return total"
   ]
  },
  {
   "cell_type": "raw",
   "metadata": {
    "raw_mimetype": "text/restructuredtext"
   },
   "source": [
    "Data Slices\n",
    "===========\n",
    "The gap size will determine whether the data slices overlap or spread out.\n",
    "\n",
    "Overlap\n",
    "-------\n",
    "When the the gap size is less than the window size, the data slices will overlap. The amount of overlap is the difference between the window and gap size. For example, if the window size is 3 hours and the gap size is 1 hour, then 2 hours will overlap on each data slice. Let's generate and inspect the data slices using these parameters. First, we create a lable maker with a 3-hour window size."
   ]
  },
  {
   "cell_type": "code",
   "execution_count": 11,
   "metadata": {},
   "outputs": [],
   "source": [
    "lm = cp.LabelMaker(\n",
    "    target_entity=\"customer_id\",\n",
    "    time_index=\"transaction_time\",\n",
    "    labeling_function=total_spent,\n",
    "    window_size=\"3h\",\n",
    ")"
   ]
  },
  {
   "cell_type": "raw",
   "metadata": {
    "raw_mimetype": "text/restructuredtext"
   },
   "source": [
    ".. currentmodule:: composeml\n",
    "\n",
    "Then, we use :meth:`LabelMaker.slice` with a 1-hour gap size to generate the data slices.\n",
    "\n",
    ".. tip::\n",
    "   You can directly set :code:`minimum_data` as the first cutoff time!"
   ]
  },
  {
   "cell_type": "code",
   "execution_count": 18,
   "metadata": {},
   "outputs": [],
   "source": [
    "slices = label_maker.slice(\n",
    "    df.sort_values('transaction_time'),\n",
    "    num_examples_per_instance=-1,\n",
    "    minimum_data='2014-01-01',\n",
    "    gap=\"1h\",\n",
    ")"
   ]
  },
  {
   "cell_type": "raw",
   "metadata": {
    "raw_mimetype": "text/restructuredtext"
   },
   "source": [
    "Slice 1\n",
    "~~~~~~~"
   ]
  },
  {
   "cell_type": "code",
   "execution_count": 19,
   "metadata": {},
   "outputs": [
    {
     "name": "stdout",
     "output_type": "stream",
     "text": [
      "slice_number                                             1\n",
      "customer_id                                              1\n",
      "window          [2014-01-01 00:00:00, 2014-01-01 03:00:00)\n",
      "gap             [2014-01-01 00:00:00, 2014-01-01 01:00:00)\n"
     ]
    },
    {
     "data": {
      "text/html": [
       "<div>\n",
       "<style scoped>\n",
       "    .dataframe tbody tr th:only-of-type {\n",
       "        vertical-align: middle;\n",
       "    }\n",
       "\n",
       "    .dataframe tbody tr th {\n",
       "        vertical-align: top;\n",
       "    }\n",
       "\n",
       "    .dataframe thead th {\n",
       "        text-align: right;\n",
       "    }\n",
       "</style>\n",
       "<table border=\"1\" class=\"dataframe\">\n",
       "  <thead>\n",
       "    <tr style=\"text-align: right;\">\n",
       "      <th></th>\n",
       "      <th>transaction_id</th>\n",
       "      <th>session_id</th>\n",
       "      <th>product_id</th>\n",
       "      <th>amount</th>\n",
       "      <th>customer_id</th>\n",
       "      <th>device</th>\n",
       "      <th>session_start</th>\n",
       "      <th>zip_code</th>\n",
       "      <th>join_date</th>\n",
       "      <th>date_of_birth</th>\n",
       "      <th>brand</th>\n",
       "    </tr>\n",
       "    <tr>\n",
       "      <th>transaction_time</th>\n",
       "      <th></th>\n",
       "      <th></th>\n",
       "      <th></th>\n",
       "      <th></th>\n",
       "      <th></th>\n",
       "      <th></th>\n",
       "      <th></th>\n",
       "      <th></th>\n",
       "      <th></th>\n",
       "      <th></th>\n",
       "      <th></th>\n",
       "    </tr>\n",
       "  </thead>\n",
       "  <tbody>\n",
       "    <tr>\n",
       "      <th>2014-01-01 00:45:30</th>\n",
       "      <td>275</td>\n",
       "      <td>4</td>\n",
       "      <td>5</td>\n",
       "      <td>108.11</td>\n",
       "      <td>1</td>\n",
       "      <td>mobile</td>\n",
       "      <td>2014-01-01 00:44:25</td>\n",
       "      <td>60091</td>\n",
       "      <td>2011-04-17 10:48:33</td>\n",
       "      <td>1994-07-18 00:00:00</td>\n",
       "      <td>A</td>\n",
       "    </tr>\n",
       "    <tr>\n",
       "      <th>2014-01-01 00:46:35</th>\n",
       "      <td>101</td>\n",
       "      <td>4</td>\n",
       "      <td>5</td>\n",
       "      <td>112.53</td>\n",
       "      <td>1</td>\n",
       "      <td>mobile</td>\n",
       "      <td>2014-01-01 00:44:25</td>\n",
       "      <td>60091</td>\n",
       "      <td>2011-04-17 10:48:33</td>\n",
       "      <td>1994-07-18 00:00:00</td>\n",
       "      <td>A</td>\n",
       "    </tr>\n",
       "    <tr>\n",
       "      <th>2014-01-01 00:47:40</th>\n",
       "      <td>80</td>\n",
       "      <td>4</td>\n",
       "      <td>5</td>\n",
       "      <td>6.29</td>\n",
       "      <td>1</td>\n",
       "      <td>mobile</td>\n",
       "      <td>2014-01-01 00:44:25</td>\n",
       "      <td>60091</td>\n",
       "      <td>2011-04-17 10:48:33</td>\n",
       "      <td>1994-07-18 00:00:00</td>\n",
       "      <td>A</td>\n",
       "    </tr>\n",
       "    <tr>\n",
       "      <th>2014-01-01 00:52:00</th>\n",
       "      <td>163</td>\n",
       "      <td>4</td>\n",
       "      <td>5</td>\n",
       "      <td>31.37</td>\n",
       "      <td>1</td>\n",
       "      <td>mobile</td>\n",
       "      <td>2014-01-01 00:44:25</td>\n",
       "      <td>60091</td>\n",
       "      <td>2011-04-17 10:48:33</td>\n",
       "      <td>1994-07-18 00:00:00</td>\n",
       "      <td>A</td>\n",
       "    </tr>\n",
       "    <tr>\n",
       "      <th>2014-01-01 00:53:05</th>\n",
       "      <td>293</td>\n",
       "      <td>4</td>\n",
       "      <td>5</td>\n",
       "      <td>82.88</td>\n",
       "      <td>1</td>\n",
       "      <td>mobile</td>\n",
       "      <td>2014-01-01 00:44:25</td>\n",
       "      <td>60091</td>\n",
       "      <td>2011-04-17 10:48:33</td>\n",
       "      <td>1994-07-18 00:00:00</td>\n",
       "      <td>A</td>\n",
       "    </tr>\n",
       "  </tbody>\n",
       "</table>\n",
       "</div>"
      ],
      "text/plain": [
       "slice_number                                             1\n",
       "customer_id                                              1\n",
       "window          [2014-01-01 00:00:00, 2014-01-01 03:00:00)\n",
       "gap             [2014-01-01 00:00:00, 2014-01-01 01:00:00)"
      ]
     },
     "execution_count": 19,
     "metadata": {},
     "output_type": "execute_result"
    }
   ],
   "source": [
    "ds = next(slices)\n",
    "print(ds)\n",
    "ds.head()"
   ]
  },
  {
   "cell_type": "code",
   "execution_count": 41,
   "metadata": {},
   "outputs": [
    {
     "data": {
      "text/plain": [
       "821.6400000000001"
      ]
     },
     "execution_count": 41,
     "metadata": {},
     "output_type": "execute_result"
    }
   ],
   "source": [
    "total_spent(ds)"
   ]
  },
  {
   "cell_type": "raw",
   "metadata": {
    "raw_mimetype": "text/restructuredtext"
   },
   "source": [
    "Slice 2\n",
    "~~~~~~~"
   ]
  },
  {
   "cell_type": "code",
   "execution_count": 38,
   "metadata": {},
   "outputs": [
    {
     "name": "stdout",
     "output_type": "stream",
     "text": [
      "slice_number                                             2\n",
      "customer_id                                              1\n",
      "window          [2014-01-01 01:00:00, 2014-01-01 04:00:00)\n",
      "gap             [2014-01-01 01:00:00, 2014-01-01 02:00:00)\n",
      "\n"
     ]
    },
    {
     "data": {
      "text/html": [
       "<div>\n",
       "<style scoped>\n",
       "    .dataframe tbody tr th:only-of-type {\n",
       "        vertical-align: middle;\n",
       "    }\n",
       "\n",
       "    .dataframe tbody tr th {\n",
       "        vertical-align: top;\n",
       "    }\n",
       "\n",
       "    .dataframe thead th {\n",
       "        text-align: right;\n",
       "    }\n",
       "</style>\n",
       "<table border=\"1\" class=\"dataframe\">\n",
       "  <thead>\n",
       "    <tr style=\"text-align: right;\">\n",
       "      <th></th>\n",
       "      <th>transaction_id</th>\n",
       "      <th>session_id</th>\n",
       "      <th>product_id</th>\n",
       "      <th>amount</th>\n",
       "      <th>customer_id</th>\n",
       "      <th>device</th>\n",
       "      <th>session_start</th>\n",
       "      <th>zip_code</th>\n",
       "      <th>join_date</th>\n",
       "      <th>date_of_birth</th>\n",
       "      <th>brand</th>\n",
       "    </tr>\n",
       "    <tr>\n",
       "      <th>transaction_time</th>\n",
       "      <th></th>\n",
       "      <th></th>\n",
       "      <th></th>\n",
       "      <th></th>\n",
       "      <th></th>\n",
       "      <th></th>\n",
       "      <th></th>\n",
       "      <th></th>\n",
       "      <th></th>\n",
       "      <th></th>\n",
       "      <th></th>\n",
       "    </tr>\n",
       "  </thead>\n",
       "  <tbody>\n",
       "    <tr>\n",
       "      <th>2014-01-01 01:03:55</th>\n",
       "      <td>488</td>\n",
       "      <td>4</td>\n",
       "      <td>5</td>\n",
       "      <td>129.00</td>\n",
       "      <td>1</td>\n",
       "      <td>mobile</td>\n",
       "      <td>2014-01-01 00:44:25</td>\n",
       "      <td>60091</td>\n",
       "      <td>2011-04-17 10:48:33</td>\n",
       "      <td>1994-07-18 00:00:00</td>\n",
       "      <td>A</td>\n",
       "    </tr>\n",
       "    <tr>\n",
       "      <th>2014-01-01 01:05:00</th>\n",
       "      <td>413</td>\n",
       "      <td>4</td>\n",
       "      <td>5</td>\n",
       "      <td>119.98</td>\n",
       "      <td>1</td>\n",
       "      <td>mobile</td>\n",
       "      <td>2014-01-01 00:44:25</td>\n",
       "      <td>60091</td>\n",
       "      <td>2011-04-17 10:48:33</td>\n",
       "      <td>1994-07-18 00:00:00</td>\n",
       "      <td>A</td>\n",
       "    </tr>\n",
       "    <tr>\n",
       "      <th>2014-01-01 01:31:00</th>\n",
       "      <td>191</td>\n",
       "      <td>6</td>\n",
       "      <td>5</td>\n",
       "      <td>139.23</td>\n",
       "      <td>1</td>\n",
       "      <td>tablet</td>\n",
       "      <td>2014-01-01 01:23:25</td>\n",
       "      <td>60091</td>\n",
       "      <td>2011-04-17 10:48:33</td>\n",
       "      <td>1994-07-18 00:00:00</td>\n",
       "      <td>A</td>\n",
       "    </tr>\n",
       "    <tr>\n",
       "      <th>2014-01-01 01:37:30</th>\n",
       "      <td>372</td>\n",
       "      <td>6</td>\n",
       "      <td>5</td>\n",
       "      <td>114.84</td>\n",
       "      <td>1</td>\n",
       "      <td>tablet</td>\n",
       "      <td>2014-01-01 01:23:25</td>\n",
       "      <td>60091</td>\n",
       "      <td>2011-04-17 10:48:33</td>\n",
       "      <td>1994-07-18 00:00:00</td>\n",
       "      <td>A</td>\n",
       "    </tr>\n",
       "    <tr>\n",
       "      <th>2014-01-01 01:38:35</th>\n",
       "      <td>387</td>\n",
       "      <td>6</td>\n",
       "      <td>5</td>\n",
       "      <td>49.71</td>\n",
       "      <td>1</td>\n",
       "      <td>tablet</td>\n",
       "      <td>2014-01-01 01:23:25</td>\n",
       "      <td>60091</td>\n",
       "      <td>2011-04-17 10:48:33</td>\n",
       "      <td>1994-07-18 00:00:00</td>\n",
       "      <td>A</td>\n",
       "    </tr>\n",
       "  </tbody>\n",
       "</table>\n",
       "</div>"
      ],
      "text/plain": [
       "slice_number                                             2\n",
       "customer_id                                              1\n",
       "window          [2014-01-01 01:00:00, 2014-01-01 04:00:00)\n",
       "gap             [2014-01-01 01:00:00, 2014-01-01 02:00:00)"
      ]
     },
     "execution_count": 38,
     "metadata": {},
     "output_type": "execute_result"
    }
   ],
   "source": [
    "ds = next(slices)\n",
    "print(ds, end='\\n\\n')\n",
    "ds.head()"
   ]
  },
  {
   "cell_type": "code",
   "execution_count": 41,
   "metadata": {},
   "outputs": [
    {
     "data": {
      "text/plain": [
       "821.6400000000001"
      ]
     },
     "execution_count": 41,
     "metadata": {},
     "output_type": "execute_result"
    }
   ],
   "source": [
    "total_spent(ds)"
   ]
  },
  {
   "cell_type": "raw",
   "metadata": {
    "raw_mimetype": "text/restructuredtext"
   },
   "source": [
    "Spread Out\n",
    "----------\n",
    "When the the gap size is greater than the window size, then there is data in-between data slices that will be skipped. The amount of data skipped is the difference between the gap and window size. For example, if the gap size is 8 hours and the window size is 5 hours, then 3 hours of data will be skipped in-between data slices.\n",
    "\n",
    "Consecutive\n",
    "-----------\n",
    "When the the gap size is equal to the window size, the data slices are consecutive. In other words, the data slices do not overlap and are not spread out (e.g. don't skip any data). This is the default value for the gap size."
   ]
  }
 ],
 "metadata": {
  "celltoolbar": "Raw Cell Format",
  "jupytext": {
   "cell_metadata_filter": "-all",
   "notebook_metadata_filter": "-all"
  },
  "kernelspec": {
   "display_name": "Python 3",
   "language": "python",
   "name": "python3"
  },
  "language_info": {
   "codemirror_mode": {
    "name": "ipython",
    "version": 3
   },
   "file_extension": ".py",
   "mimetype": "text/x-python",
   "name": "python",
   "nbconvert_exporter": "python",
   "pygments_lexer": "ipython3",
   "version": "3.7.0"
  }
 },
 "nbformat": 4,
 "nbformat_minor": 2
}
