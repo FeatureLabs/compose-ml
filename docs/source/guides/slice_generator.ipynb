{
 "cells": [
  {
   "cell_type": "raw",
   "metadata": {
    "raw_mimetype": "text/restructuredtext"
   },
   "source": [
    "===============\n",
    "Slice Generator\n",
    "===============\n",
    "The slice generator is the underlying function used to generate data slices for the labeling function. If the label maker raises an error during the search or the ouptut labels doesn't seem right, then you will need to check the logic in the labeling function or inspect the data for any inherent errors. This is where the slice generator can help us do both. Ideally, you also want to use the slice generator during the development of your labeling function for best practice. However, it is an optional step and not required to generate labels.\n",
    "\n",
    "In this guide, we will use the slice generator to inspect data slices and develop our labeling function."
   ]
  },
  {
   "cell_type": "code",
   "execution_count": 3,
   "metadata": {},
   "outputs": [],
   "source": [
    "import composeml as cp"
   ]
  },
  {
   "cell_type": "raw",
   "metadata": {
    "raw_mimetype": "text/restructuredtext"
   },
   "source": [
    "Load Data\n",
    "=========\n",
    "Let's load in a mock dataset of transcations and preview the data to see how it looks."
   ]
  },
  {
   "cell_type": "code",
   "execution_count": 4,
   "metadata": {},
   "outputs": [
    {
     "data": {
      "text/html": [
       "<div>\n",
       "<style scoped>\n",
       "    .dataframe tbody tr th:only-of-type {\n",
       "        vertical-align: middle;\n",
       "    }\n",
       "\n",
       "    .dataframe tbody tr th {\n",
       "        vertical-align: top;\n",
       "    }\n",
       "\n",
       "    .dataframe thead th {\n",
       "        text-align: right;\n",
       "    }\n",
       "</style>\n",
       "<table border=\"1\" class=\"dataframe\">\n",
       "  <thead>\n",
       "    <tr style=\"text-align: right;\">\n",
       "      <th></th>\n",
       "      <th>transaction_id</th>\n",
       "      <th>session_id</th>\n",
       "      <th>transaction_time</th>\n",
       "      <th>product_id</th>\n",
       "      <th>amount</th>\n",
       "      <th>customer_id</th>\n",
       "      <th>device</th>\n",
       "      <th>session_start</th>\n",
       "      <th>zip_code</th>\n",
       "      <th>join_date</th>\n",
       "      <th>date_of_birth</th>\n",
       "      <th>brand</th>\n",
       "    </tr>\n",
       "  </thead>\n",
       "  <tbody>\n",
       "    <tr>\n",
       "      <th>0</th>\n",
       "      <td>298</td>\n",
       "      <td>1</td>\n",
       "      <td>2014-01-01 00:00:00</td>\n",
       "      <td>5</td>\n",
       "      <td>127.64</td>\n",
       "      <td>2</td>\n",
       "      <td>desktop</td>\n",
       "      <td>2014-01-01 00:00:00</td>\n",
       "      <td>13244</td>\n",
       "      <td>2012-04-15 23:31:04</td>\n",
       "      <td>1986-08-18 00:00:00</td>\n",
       "      <td>A</td>\n",
       "    </tr>\n",
       "    <tr>\n",
       "      <th>1</th>\n",
       "      <td>10</td>\n",
       "      <td>1</td>\n",
       "      <td>2014-01-01 00:09:45</td>\n",
       "      <td>5</td>\n",
       "      <td>57.39</td>\n",
       "      <td>2</td>\n",
       "      <td>desktop</td>\n",
       "      <td>2014-01-01 00:00:00</td>\n",
       "      <td>13244</td>\n",
       "      <td>2012-04-15 23:31:04</td>\n",
       "      <td>1986-08-18 00:00:00</td>\n",
       "      <td>A</td>\n",
       "    </tr>\n",
       "    <tr>\n",
       "      <th>2</th>\n",
       "      <td>495</td>\n",
       "      <td>1</td>\n",
       "      <td>2014-01-01 00:14:05</td>\n",
       "      <td>5</td>\n",
       "      <td>69.45</td>\n",
       "      <td>2</td>\n",
       "      <td>desktop</td>\n",
       "      <td>2014-01-01 00:00:00</td>\n",
       "      <td>13244</td>\n",
       "      <td>2012-04-15 23:31:04</td>\n",
       "      <td>1986-08-18 00:00:00</td>\n",
       "      <td>A</td>\n",
       "    </tr>\n",
       "    <tr>\n",
       "      <th>3</th>\n",
       "      <td>460</td>\n",
       "      <td>10</td>\n",
       "      <td>2014-01-01 02:33:50</td>\n",
       "      <td>5</td>\n",
       "      <td>123.19</td>\n",
       "      <td>2</td>\n",
       "      <td>tablet</td>\n",
       "      <td>2014-01-01 02:31:40</td>\n",
       "      <td>13244</td>\n",
       "      <td>2012-04-15 23:31:04</td>\n",
       "      <td>1986-08-18 00:00:00</td>\n",
       "      <td>A</td>\n",
       "    </tr>\n",
       "    <tr>\n",
       "      <th>4</th>\n",
       "      <td>302</td>\n",
       "      <td>10</td>\n",
       "      <td>2014-01-01 02:37:05</td>\n",
       "      <td>5</td>\n",
       "      <td>64.47</td>\n",
       "      <td>2</td>\n",
       "      <td>tablet</td>\n",
       "      <td>2014-01-01 02:31:40</td>\n",
       "      <td>13244</td>\n",
       "      <td>2012-04-15 23:31:04</td>\n",
       "      <td>1986-08-18 00:00:00</td>\n",
       "      <td>A</td>\n",
       "    </tr>\n",
       "  </tbody>\n",
       "</table>\n",
       "</div>"
      ],
      "text/plain": [
       "   transaction_id  session_id    transaction_time  product_id  amount  \\\n",
       "0             298           1 2014-01-01 00:00:00           5  127.64   \n",
       "1              10           1 2014-01-01 00:09:45           5   57.39   \n",
       "2             495           1 2014-01-01 00:14:05           5   69.45   \n",
       "3             460          10 2014-01-01 02:33:50           5  123.19   \n",
       "4             302          10 2014-01-01 02:37:05           5   64.47   \n",
       "\n",
       "   customer_id   device        session_start  zip_code            join_date  \\\n",
       "0            2  desktop  2014-01-01 00:00:00     13244  2012-04-15 23:31:04   \n",
       "1            2  desktop  2014-01-01 00:00:00     13244  2012-04-15 23:31:04   \n",
       "2            2  desktop  2014-01-01 00:00:00     13244  2012-04-15 23:31:04   \n",
       "3            2   tablet  2014-01-01 02:31:40     13244  2012-04-15 23:31:04   \n",
       "4            2   tablet  2014-01-01 02:31:40     13244  2012-04-15 23:31:04   \n",
       "\n",
       "         date_of_birth brand  \n",
       "0  1986-08-18 00:00:00     A  \n",
       "1  1986-08-18 00:00:00     A  \n",
       "2  1986-08-18 00:00:00     A  \n",
       "3  1986-08-18 00:00:00     A  \n",
       "4  1986-08-18 00:00:00     A  "
      ]
     },
     "execution_count": 4,
     "metadata": {},
     "output_type": "execute_result"
    }
   ],
   "source": [
    "df = cp.demos.load_transactions()\n",
    "\n",
    "df.head()"
   ]
  },
  {
   "cell_type": "raw",
   "metadata": {
    "raw_mimetype": "text/restructuredtext"
   },
   "source": [
    "Generate Slices\n",
    "===============\n",
    "The slice generator can be used from the label maker by calling :code:`slice` instead of :code:`search`. All the parameters for :code:`slice` can be passed directly to :code:`search`.\n",
    "\n",
    "The gap size will determine whether the data slices overlap or spread out.\n",
    "\n",
    "When the the gap size is less than the window size, the data slices will overlap. The amount of overlap is the amount that the window size is larger than the gap size. For example, if the window size is 8 hours and the gap size is 5 hours, then 3 hours will overlap on each data slice.\n",
    "\n",
    "When the the gap size is greater than the window size, then there is data in-between data slices that will be skipped. The amount of data that is skipped is the amount that the gap size is larger than the window size. For example, if the gap size is 8 hours and the window size is 5 hours, then 3 hours of data will be skipped in-between data slices.\n",
    "\n",
    "When the the gap size is equal to the window size, the data slices are consecutive. In other words, the data slices do not overlap and are not spread out (e.g. don't skip any data). This is the default value for the gap size."
   ]
  }
 ],
 "metadata": {
  "celltoolbar": "Raw Cell Format",
  "jupytext": {
   "cell_metadata_filter": "-all",
   "notebook_metadata_filter": "-all"
  },
  "kernelspec": {
   "display_name": "Python 3",
   "language": "python",
   "name": "python3"
  },
  "language_info": {
   "codemirror_mode": {
    "name": "ipython",
    "version": 3
   },
   "file_extension": ".py",
   "mimetype": "text/x-python",
   "name": "python",
   "nbconvert_exporter": "python",
   "pygments_lexer": "ipython3",
   "version": "3.7.0"
  }
 },
 "nbformat": 4,
 "nbformat_minor": 2
}
