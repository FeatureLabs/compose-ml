{
 "cells": [
  {
   "cell_type": "raw",
   "metadata": {
    "raw_mimetype": "text/restructuredtext"
   },
   "source": [
    "===============\n",
    "Slice Generator\n",
    "===============\n",
    "The slice generator is the underlying function used to generate labels. If the label maker raises an error during the search or the ouptut labels don't seem right, then you will need to check the logic in the labeling function or inspect the data for any inherent errors. This is where the slice generator can help us do both. Ideally, you also want use the slice generator during the development of your labeling function for best practice. However, it is an optional step and not required to generate labels.\n",
    "\n",
    "Inspecting Data\n",
    "================\n",
    "In this example, we will use the slice generator to get a better understanding on how the label maker uses the gap and window size to generate data slices.\n",
    "\n",
    "The slice generator can be used from the label maker by calling :code:`slice` instead of :code:`search`. All the parameters for :code:`slice` can be passed directly to :code:`search`."
   ]
  }
 ],
 "metadata": {
  "celltoolbar": "Raw Cell Format",
  "jupytext": {
   "cell_metadata_filter": "-all",
   "notebook_metadata_filter": "-all"
  },
  "kernelspec": {
   "display_name": "Python 3",
   "language": "python",
   "name": "python3"
  },
  "language_info": {
   "codemirror_mode": {
    "name": "ipython",
    "version": 3
   },
   "file_extension": ".py",
   "mimetype": "text/x-python",
   "name": "python",
   "nbconvert_exporter": "python",
   "pygments_lexer": "ipython3",
   "version": "3.7.0"
  }
 },
 "nbformat": 4,
 "nbformat_minor": 2
}
