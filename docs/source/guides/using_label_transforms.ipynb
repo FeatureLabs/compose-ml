{
 "cells": [
  {
   "cell_type": "raw",
   "metadata": {
    "raw_mimetype": "text/restructuredtext"
   },
   "source": [
    ".. currentmodule:: composeml\n",
    "\n",
    "======================\n",
    "Using Label Transforms\n",
    "======================\n",
    "\n",
    "In this guide, we will demonstrate how to use the transforms that are available on :class:`LabelTimes`. Each transform will return a copy of the label times. This is useful for trying out multiple transforms in different settings without having to recalculate the labels. As a result, we could see which labels give a better performance in less time.\n",
    "\n",
    "Generate Labels\n",
    "===============\n",
    "\n",
    "Let's start by generating labels on a mock dataset of transactions. Each label is defined as the total spent by a customer given one hour of transactions."
   ]
  },
  {
   "cell_type": "code",
   "execution_count": null,
   "metadata": {},
   "outputs": [],
   "source": [
    "import composeml as cp\n",
    "\n",
    "def total_spent(df):\n",
    "    return df['amount'].sum()\n",
    "\n",
    "label_maker = cp.LabelMaker(\n",
    "    labeling_function=total_spent,\n",
    "    target_entity='customer_id',\n",
    "    time_index='transaction_time',\n",
    "    window_size='1h',\n",
    ")\n",
    "\n",
    "labels = label_maker.search(\n",
    "    cp.demos.load_transactions(),\n",
    "    num_examples_per_instance=10,\n",
    "    label_type='continuous',\n",
    "    minimum_data='2h',\n",
    "    gap='2min',\n",
    "    verbose=True,\n",
    ")"
   ]
  },
  {
   "cell_type": "raw",
   "metadata": {
    "raw_mimetype": "text/restructuredtext"
   },
   "source": [
    "To get an idea on how the labels looks, we preview the data frame. "
   ]
  },
  {
   "cell_type": "code",
   "execution_count": null,
   "metadata": {},
   "outputs": [],
   "source": [
    "labels.head()"
   ]
  },
  {
   "cell_type": "raw",
   "metadata": {
    "raw_mimetype": "text/restructuredtext"
   },
   "source": [
    "Threshold on Labels\n",
    "===================\n",
    "\n",
    ":meth:`LabelTimes.threshold` will create binary labels by testing if label values are above a threshold. In this example, a threshold is applied to determine which customers spent over 100."
   ]
  },
  {
   "cell_type": "code",
   "execution_count": null,
   "metadata": {},
   "outputs": [],
   "source": [
    "labels.threshold(100).head()"
   ]
  },
  {
   "cell_type": "raw",
   "metadata": {
    "raw_mimetype": "text/restructuredtext"
   },
   "source": [
    "Lead Labels Times\n",
    "=================\n",
    "\n",
    ":meth:`LabelTimes.apply_lead` will shift the label time earlier. This is useful for training a model to predict in advance. In this example, a one hour lead is applied to the label times."
   ]
  },
  {
   "cell_type": "code",
   "execution_count": null,
   "metadata": {},
   "outputs": [],
   "source": [
    "labels.apply_lead('1h').head()"
   ]
  },
  {
   "cell_type": "raw",
   "metadata": {
    "raw_mimetype": "text/restructuredtext"
   },
   "source": [
    "Bin Labels\n",
    "==========\n",
    "\n",
    ":meth:`LabelTimes.bin` will bin the labels into discrete intervals. There are two types of bins. Bins could either be based on values or quantiles. Additionally, the widths of the bins could either be defined by the user or divided equally. The following examples will go through each type.\n",
    "\n",
    "Value Based\n",
    "-----------\n",
    "\n",
    "To use bins based on values, :code:`quantiles` should be set to :code:`False` which is the default value.\n",
    "\n",
    "Equal Width\n",
    "~~~~~~~~~~~\n",
    "\n",
    "To group values into bins of equal width, set bins as a scalar value. In this example, the total spent is grouped into bins of equal width."
   ]
  },
  {
   "cell_type": "code",
   "execution_count": null,
   "metadata": {},
   "outputs": [],
   "source": [
    "labels.bin(4, quantiles=False).head()"
   ]
  },
  {
   "cell_type": "raw",
   "metadata": {
    "raw_mimetype": "text/restructuredtext"
   },
   "source": [
    "Custom Widths\n",
    "~~~~~~~~~~~~~\n",
    "\n",
    "To group values into bins of custom widths, set bins as an array of values to define edges. In this example, the total spent is grouped into bins of custom widths."
   ]
  },
  {
   "cell_type": "code",
   "execution_count": null,
   "metadata": {},
   "outputs": [],
   "source": [
    "inf = float('inf')\n",
    "edges = [-inf, 34, 50, 67, inf]\n",
    "labels.bin(edges, quantiles=False,).head()"
   ]
  },
  {
   "cell_type": "raw",
   "metadata": {
    "raw_mimetype": "text/restructuredtext"
   },
   "source": [
    "Quantile Based\n",
    "--------------\n",
    "\n",
    "To use bins based on quantiles, :code:`quantiles` should be set to :code:`True`.\n",
    "\n",
    "Equal Width\n",
    "~~~~~~~~~~~\n",
    "\n",
    "To group values into quantile bins of equal width, set bins to the number of quantiles as a scalar value (e.g. 4 for quartiles, 10 for deciles, etc.). In this example, the total spent is grouped into bins based on the quartiles."
   ]
  },
  {
   "cell_type": "code",
   "execution_count": null,
   "metadata": {},
   "outputs": [],
   "source": [
    "labels.bin(4, quantiles=True).head()"
   ]
  },
  {
   "cell_type": "raw",
   "metadata": {
    "raw_mimetype": "text/restructuredtext"
   },
   "source": [
    "To verify quartile values, we could check the descriptive statistics."
   ]
  },
  {
   "cell_type": "code",
   "execution_count": null,
   "metadata": {},
   "outputs": [],
   "source": [
    "stats = labels.total_spent.describe()\n",
    "stats = stats.round(3).to_string()\n",
    "print(stats)"
   ]
  },
  {
   "cell_type": "raw",
   "metadata": {
    "raw_mimetype": "text/restructuredtext"
   },
   "source": [
    "Custom Widths\n",
    "~~~~~~~~~~~~~\n",
    "\n",
    "To group values into quantile bins of custom widths, set bins as an array of quantiles. In this example, the total spent is grouped into quantile bins of custom widths."
   ]
  },
  {
   "cell_type": "code",
   "execution_count": null,
   "metadata": {},
   "outputs": [],
   "source": [
    "quantiles = [0, .34, .5, .67, 1]\n",
    "labels.bin(quantiles, quantiles=True).head()"
   ]
  },
  {
   "cell_type": "raw",
   "metadata": {
    "raw_mimetype": "text/restructuredtext"
   },
   "source": [
    "Label Bins\n",
    "----------\n",
    "\n",
    "To assign bins with custom labels, set :code:`labels` to the array of values. The number of labels need to match the number of bins. In this example, the total spent is grouped into bins with custom labels."
   ]
  },
  {
   "cell_type": "code",
   "execution_count": null,
   "metadata": {},
   "outputs": [],
   "source": [
    "values = ['low', 'medium', 'high']\n",
    "labels.bin(3, labels=values).head()"
   ]
  },
  {
   "cell_type": "raw",
   "metadata": {
    "raw_mimetype": "text/restructuredtext"
   },
   "source": [
    "Describe Labels\n",
    "===============\n",
    "\n",
    ":meth:`LabelTimes.describe` will print out the distribution with the settings and transforms that were used to make the labels. This is useful as a reference for understanding how the labels were generated from raw data. Also, the label distribution is helpful for determining if we have imbalanced labels. In this examlpe, a description of the labels is printed after transforming the labels into discrete values."
   ]
  },
  {
   "cell_type": "code",
   "execution_count": null,
   "metadata": {},
   "outputs": [],
   "source": [
    "labels.threshold(100).describe()"
   ]
  }
 ],
 "metadata": {
  "celltoolbar": "Raw Cell Format",
  "kernelspec": {
   "display_name": "Python 3",
   "language": "python",
   "name": "python3"
  },
  "language_info": {
   "codemirror_mode": {
    "name": "ipython",
    "version": 3
   },
   "file_extension": ".py",
   "mimetype": "text/x-python",
   "name": "python",
   "nbconvert_exporter": "python",
   "pygments_lexer": "ipython3",
   "version": "3.7.0"
  }
 },
 "nbformat": 4,
 "nbformat_minor": 2
}
