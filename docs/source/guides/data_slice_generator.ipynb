{
 "cells": [
  {
   "cell_type": "raw",
   "metadata": {
    "raw_mimetype": "text/restructuredtext"
   },
   "source": [
    "====================\n",
    "Data Slice Generator\n",
    "====================\n",
    "The data slice generator is the underlying function used to generate data slices for the labeling function. If the label maker raises an error during the search or the output labels doesn't seem right, then you will need to check the logic in the labeling function or inspect the data for any inherent errors. This is where the data slice generator can help us do both. Ideally, you also want to use the generator during the development of your labeling function for best practice. However, it is an optional step and not required to generate labels.\n",
    "\n",
    "In this guide, we will use the data slice generator to inspect data slices and develop our labeling function. To get started, let's load a mock dataset of transactions and sample the data to see how the transactions look."
   ]
  },
  {
   "cell_type": "code",
   "execution_count": 3,
   "metadata": {},
   "outputs": [],
   "source": [
    "import composeml as cp"
   ]
  },
  {
   "cell_type": "code",
   "execution_count": 121,
   "metadata": {},
   "outputs": [
    {
     "data": {
      "text/html": [
       "<div>\n",
       "<style scoped>\n",
       "    .dataframe tbody tr th:only-of-type {\n",
       "        vertical-align: middle;\n",
       "    }\n",
       "\n",
       "    .dataframe tbody tr th {\n",
       "        vertical-align: top;\n",
       "    }\n",
       "\n",
       "    .dataframe thead th {\n",
       "        text-align: right;\n",
       "    }\n",
       "</style>\n",
       "<table border=\"1\" class=\"dataframe\">\n",
       "  <thead>\n",
       "    <tr style=\"text-align: right;\">\n",
       "      <th></th>\n",
       "      <th>transaction_id</th>\n",
       "      <th>session_id</th>\n",
       "      <th>transaction_time</th>\n",
       "      <th>product_id</th>\n",
       "      <th>amount</th>\n",
       "      <th>customer_id</th>\n",
       "      <th>device</th>\n",
       "    </tr>\n",
       "  </thead>\n",
       "  <tbody>\n",
       "    <tr>\n",
       "      <th>26</th>\n",
       "      <td>94</td>\n",
       "      <td>24</td>\n",
       "      <td>2014-01-01 05:55:20</td>\n",
       "      <td>5</td>\n",
       "      <td>100.42</td>\n",
       "      <td>5</td>\n",
       "      <td>tablet</td>\n",
       "    </tr>\n",
       "    <tr>\n",
       "      <th>86</th>\n",
       "      <td>274</td>\n",
       "      <td>7</td>\n",
       "      <td>2014-01-01 01:46:10</td>\n",
       "      <td>5</td>\n",
       "      <td>14.45</td>\n",
       "      <td>3</td>\n",
       "      <td>tablet</td>\n",
       "    </tr>\n",
       "    <tr>\n",
       "      <th>2</th>\n",
       "      <td>495</td>\n",
       "      <td>1</td>\n",
       "      <td>2014-01-01 00:14:05</td>\n",
       "      <td>5</td>\n",
       "      <td>69.45</td>\n",
       "      <td>2</td>\n",
       "      <td>desktop</td>\n",
       "    </tr>\n",
       "    <tr>\n",
       "      <th>55</th>\n",
       "      <td>275</td>\n",
       "      <td>4</td>\n",
       "      <td>2014-01-01 00:45:30</td>\n",
       "      <td>5</td>\n",
       "      <td>108.11</td>\n",
       "      <td>1</td>\n",
       "      <td>mobile</td>\n",
       "    </tr>\n",
       "    <tr>\n",
       "      <th>75</th>\n",
       "      <td>368</td>\n",
       "      <td>27</td>\n",
       "      <td>2014-01-01 06:36:30</td>\n",
       "      <td>5</td>\n",
       "      <td>139.43</td>\n",
       "      <td>1</td>\n",
       "      <td>mobile</td>\n",
       "    </tr>\n",
       "  </tbody>\n",
       "</table>\n",
       "</div>"
      ],
      "text/plain": [
       "    transaction_id  session_id    transaction_time  product_id  amount  \\\n",
       "26              94          24 2014-01-01 05:55:20           5  100.42   \n",
       "86             274           7 2014-01-01 01:46:10           5   14.45   \n",
       "2              495           1 2014-01-01 00:14:05           5   69.45   \n",
       "55             275           4 2014-01-01 00:45:30           5  108.11   \n",
       "75             368          27 2014-01-01 06:36:30           5  139.43   \n",
       "\n",
       "    customer_id   device  \n",
       "26            5   tablet  \n",
       "86            3   tablet  \n",
       "2             2  desktop  \n",
       "55            1   mobile  \n",
       "75            1   mobile  "
      ]
     },
     "execution_count": 121,
     "metadata": {},
     "output_type": "execute_result"
    }
   ],
   "source": [
    "df = cp.demos.load_transactions()\n",
    "df = df[df.columns[:7]]\n",
    "df.sample(n=5, random_state=0)"
   ]
  },
  {
   "cell_type": "raw",
   "metadata": {
    "raw_mimetype": "text/restructuredtext"
   },
   "source": [
    "Labeling Function\n",
    "=================\n",
    "Let's define a labeling function that will return how much a customer spent given a slice of transactions."
   ]
  },
  {
   "cell_type": "code",
   "execution_count": 43,
   "metadata": {},
   "outputs": [],
   "source": [
    "def total_spent(df):\n",
    "    total = df['amount'].sum()\n",
    "    return total"
   ]
  },
  {
   "cell_type": "raw",
   "metadata": {
    "raw_mimetype": "text/restructuredtext"
   },
   "source": [
    ".. currentmodule:: composeml\n",
    "\n",
    "Data Slices\n",
    "===========\n",
    "The :meth:`LabelMaker.slice` method will create the data slice generator. The parameters of this method can be passed directly to :meth:`LabelMaker.search` to generate the labels. In the following sections, we will use the data slice generator to see how the gap size can make the data slices overlap, consecutive, or spread out.\n",
    "\n",
    ".. seealso::\n",
    "    For more details on how the label maker works, see :doc:`/main_concepts`.\n",
    "\n",
    "Overlap\n",
    "-------\n",
    "When the the gap size is less than the window size, the data slices will overlap. The amount of overlap is the difference between the window and gap size. For example, if the window size is 3 hours and the gap size is 1 hour, then 2 hours will overlap on each data slice. To demonstrate this example, let's generate data slices using these parameters.\n",
    "\n",
    "We create a lable maker with the 3-hour window size."
   ]
  },
  {
   "cell_type": "code",
   "execution_count": 78,
   "metadata": {},
   "outputs": [],
   "source": [
    "lm = cp.LabelMaker(\n",
    "    target_entity=\"customer_id\",\n",
    "    time_index=\"transaction_time\",\n",
    "    labeling_function=total_spent,\n",
    "    window_size=\"3h\",\n",
    ")"
   ]
  },
  {
   "cell_type": "raw",
   "metadata": {
    "raw_mimetype": "text/restructuredtext"
   },
   "source": [
    "Then, we create a data slice generator with the 1-hour gap size.\n",
    "\n",
    ".. tip::\n",
    "   You can directly set :code:`minimum_data` as the first cutoff time."
   ]
  },
  {
   "cell_type": "code",
   "execution_count": 79,
   "metadata": {},
   "outputs": [],
   "source": [
    "slices = lm.slice(\n",
    "    df.sort_values('transaction_time'),\n",
    "    num_examples_per_instance=-1,\n",
    "    minimum_data='2014-01-01',\n",
    "    gap=\"1h\",\n",
    ")"
   ]
  },
  {
   "cell_type": "raw",
   "metadata": {
    "raw_mimetype": "text/restructuredtext"
   },
   "source": [
    "Overlap - Data Slice #1\n",
    "~~~~~~~~~~~~~~~~~~~~~~~\n",
    "By printing this data slice, we can see that it's the first slice of transactions (denoted by the :code:`slice_number`) for customer 1. This data slice contains all of the customer's transactions that occurred within the 3-hour window between :code:`2014-01-01 00:00:00` and :code:`2014-01-01 03:00:00`. We can also see that the 1-hour gap spaces apart the cutoff time of this data slice at :code:`2014-01-01 00:00:00` from the cutoff time of the next data slice at :code:`2014-01-01 01:00:00`."
   ]
  },
  {
   "cell_type": "code",
   "execution_count": 80,
   "metadata": {},
   "outputs": [
    {
     "name": "stdout",
     "output_type": "stream",
     "text": [
      "slice_number                                             1\n",
      "customer_id                                              1\n",
      "window          [2014-01-01 00:00:00, 2014-01-01 03:00:00)\n",
      "gap             [2014-01-01 00:00:00, 2014-01-01 01:00:00)\n"
     ]
    },
    {
     "data": {
      "text/html": [
       "<div>\n",
       "<style scoped>\n",
       "    .dataframe tbody tr th:only-of-type {\n",
       "        vertical-align: middle;\n",
       "    }\n",
       "\n",
       "    .dataframe tbody tr th {\n",
       "        vertical-align: top;\n",
       "    }\n",
       "\n",
       "    .dataframe thead th {\n",
       "        text-align: right;\n",
       "    }\n",
       "</style>\n",
       "<table border=\"1\" class=\"dataframe\">\n",
       "  <thead>\n",
       "    <tr style=\"text-align: right;\">\n",
       "      <th></th>\n",
       "      <th>transaction_id</th>\n",
       "      <th>session_id</th>\n",
       "      <th>product_id</th>\n",
       "      <th>amount</th>\n",
       "      <th>customer_id</th>\n",
       "      <th>device</th>\n",
       "    </tr>\n",
       "    <tr>\n",
       "      <th>transaction_time</th>\n",
       "      <th></th>\n",
       "      <th></th>\n",
       "      <th></th>\n",
       "      <th></th>\n",
       "      <th></th>\n",
       "      <th></th>\n",
       "    </tr>\n",
       "  </thead>\n",
       "  <tbody>\n",
       "    <tr>\n",
       "      <th>2014-01-01 00:45:30</th>\n",
       "      <td>275</td>\n",
       "      <td>4</td>\n",
       "      <td>5</td>\n",
       "      <td>108.11</td>\n",
       "      <td>1</td>\n",
       "      <td>mobile</td>\n",
       "    </tr>\n",
       "    <tr>\n",
       "      <th>2014-01-01 00:46:35</th>\n",
       "      <td>101</td>\n",
       "      <td>4</td>\n",
       "      <td>5</td>\n",
       "      <td>112.53</td>\n",
       "      <td>1</td>\n",
       "      <td>mobile</td>\n",
       "    </tr>\n",
       "    <tr>\n",
       "      <th>2014-01-01 00:47:40</th>\n",
       "      <td>80</td>\n",
       "      <td>4</td>\n",
       "      <td>5</td>\n",
       "      <td>6.29</td>\n",
       "      <td>1</td>\n",
       "      <td>mobile</td>\n",
       "    </tr>\n",
       "    <tr>\n",
       "      <th>2014-01-01 00:52:00</th>\n",
       "      <td>163</td>\n",
       "      <td>4</td>\n",
       "      <td>5</td>\n",
       "      <td>31.37</td>\n",
       "      <td>1</td>\n",
       "      <td>mobile</td>\n",
       "    </tr>\n",
       "    <tr>\n",
       "      <th>2014-01-01 00:53:05</th>\n",
       "      <td>293</td>\n",
       "      <td>4</td>\n",
       "      <td>5</td>\n",
       "      <td>82.88</td>\n",
       "      <td>1</td>\n",
       "      <td>mobile</td>\n",
       "    </tr>\n",
       "    <tr>\n",
       "      <th>2014-01-01 00:57:25</th>\n",
       "      <td>103</td>\n",
       "      <td>4</td>\n",
       "      <td>5</td>\n",
       "      <td>20.79</td>\n",
       "      <td>1</td>\n",
       "      <td>mobile</td>\n",
       "    </tr>\n",
       "    <tr>\n",
       "      <th>2014-01-01 01:03:55</th>\n",
       "      <td>488</td>\n",
       "      <td>4</td>\n",
       "      <td>5</td>\n",
       "      <td>129.00</td>\n",
       "      <td>1</td>\n",
       "      <td>mobile</td>\n",
       "    </tr>\n",
       "    <tr>\n",
       "      <th>2014-01-01 01:05:00</th>\n",
       "      <td>413</td>\n",
       "      <td>4</td>\n",
       "      <td>5</td>\n",
       "      <td>119.98</td>\n",
       "      <td>1</td>\n",
       "      <td>mobile</td>\n",
       "    </tr>\n",
       "    <tr>\n",
       "      <th>2014-01-01 01:31:00</th>\n",
       "      <td>191</td>\n",
       "      <td>6</td>\n",
       "      <td>5</td>\n",
       "      <td>139.23</td>\n",
       "      <td>1</td>\n",
       "      <td>tablet</td>\n",
       "    </tr>\n",
       "    <tr>\n",
       "      <th>2014-01-01 01:37:30</th>\n",
       "      <td>372</td>\n",
       "      <td>6</td>\n",
       "      <td>5</td>\n",
       "      <td>114.84</td>\n",
       "      <td>1</td>\n",
       "      <td>tablet</td>\n",
       "    </tr>\n",
       "    <tr>\n",
       "      <th>2014-01-01 01:38:35</th>\n",
       "      <td>387</td>\n",
       "      <td>6</td>\n",
       "      <td>5</td>\n",
       "      <td>49.71</td>\n",
       "      <td>1</td>\n",
       "      <td>tablet</td>\n",
       "    </tr>\n",
       "    <tr>\n",
       "      <th>2014-01-01 02:28:25</th>\n",
       "      <td>287</td>\n",
       "      <td>9</td>\n",
       "      <td>5</td>\n",
       "      <td>50.94</td>\n",
       "      <td>1</td>\n",
       "      <td>desktop</td>\n",
       "    </tr>\n",
       "  </tbody>\n",
       "</table>\n",
       "</div>"
      ],
      "text/plain": [
       "slice_number                                             1\n",
       "customer_id                                              1\n",
       "window          [2014-01-01 00:00:00, 2014-01-01 03:00:00)\n",
       "gap             [2014-01-01 00:00:00, 2014-01-01 01:00:00)"
      ]
     },
     "execution_count": 80,
     "metadata": {},
     "output_type": "execute_result"
    }
   ],
   "source": [
    "ds = next(slices)\n",
    "print(ds)\n",
    "ds"
   ]
  },
  {
   "cell_type": "raw",
   "metadata": {
    "raw_mimetype": "text/restructuredtext"
   },
   "source": [
    "Let's apply our labeling function for the total spent on this data slice."
   ]
  },
  {
   "cell_type": "code",
   "execution_count": 81,
   "metadata": {},
   "outputs": [
    {
     "data": {
      "text/plain": [
       "965.6700000000001"
      ]
     },
     "execution_count": 81,
     "metadata": {},
     "output_type": "execute_result"
    }
   ],
   "source": [
    "total_spent(ds)"
   ]
  },
  {
   "cell_type": "raw",
   "metadata": {
    "raw_mimetype": "text/restructuredtext"
   },
   "source": [
    "Overlap - Data Slice #2\n",
    "~~~~~~~~~~~~~~~~~~~~~~~\n",
    "In the second slice of transactions, we can see that there is a 2-hour overlap on transactions that occurred between :code:`2014-01-01 01:00:00` and :code:`2014-01-01 03:00:00`. This is useful for labels that require a rolling window."
   ]
  },
  {
   "cell_type": "code",
   "execution_count": 82,
   "metadata": {},
   "outputs": [
    {
     "name": "stdout",
     "output_type": "stream",
     "text": [
      "slice_number                                             2\n",
      "customer_id                                              1\n",
      "window          [2014-01-01 01:00:00, 2014-01-01 04:00:00)\n",
      "gap             [2014-01-01 01:00:00, 2014-01-01 02:00:00)\n"
     ]
    },
    {
     "data": {
      "text/html": [
       "<div>\n",
       "<style scoped>\n",
       "    .dataframe tbody tr th:only-of-type {\n",
       "        vertical-align: middle;\n",
       "    }\n",
       "\n",
       "    .dataframe tbody tr th {\n",
       "        vertical-align: top;\n",
       "    }\n",
       "\n",
       "    .dataframe thead th {\n",
       "        text-align: right;\n",
       "    }\n",
       "</style>\n",
       "<table border=\"1\" class=\"dataframe\">\n",
       "  <thead>\n",
       "    <tr style=\"text-align: right;\">\n",
       "      <th></th>\n",
       "      <th>transaction_id</th>\n",
       "      <th>session_id</th>\n",
       "      <th>product_id</th>\n",
       "      <th>amount</th>\n",
       "      <th>customer_id</th>\n",
       "      <th>device</th>\n",
       "    </tr>\n",
       "    <tr>\n",
       "      <th>transaction_time</th>\n",
       "      <th></th>\n",
       "      <th></th>\n",
       "      <th></th>\n",
       "      <th></th>\n",
       "      <th></th>\n",
       "      <th></th>\n",
       "    </tr>\n",
       "  </thead>\n",
       "  <tbody>\n",
       "    <tr>\n",
       "      <th>2014-01-01 01:03:55</th>\n",
       "      <td>488</td>\n",
       "      <td>4</td>\n",
       "      <td>5</td>\n",
       "      <td>129.00</td>\n",
       "      <td>1</td>\n",
       "      <td>mobile</td>\n",
       "    </tr>\n",
       "    <tr>\n",
       "      <th>2014-01-01 01:05:00</th>\n",
       "      <td>413</td>\n",
       "      <td>4</td>\n",
       "      <td>5</td>\n",
       "      <td>119.98</td>\n",
       "      <td>1</td>\n",
       "      <td>mobile</td>\n",
       "    </tr>\n",
       "    <tr>\n",
       "      <th>2014-01-01 01:31:00</th>\n",
       "      <td>191</td>\n",
       "      <td>6</td>\n",
       "      <td>5</td>\n",
       "      <td>139.23</td>\n",
       "      <td>1</td>\n",
       "      <td>tablet</td>\n",
       "    </tr>\n",
       "    <tr>\n",
       "      <th>2014-01-01 01:37:30</th>\n",
       "      <td>372</td>\n",
       "      <td>6</td>\n",
       "      <td>5</td>\n",
       "      <td>114.84</td>\n",
       "      <td>1</td>\n",
       "      <td>tablet</td>\n",
       "    </tr>\n",
       "    <tr>\n",
       "      <th>2014-01-01 01:38:35</th>\n",
       "      <td>387</td>\n",
       "      <td>6</td>\n",
       "      <td>5</td>\n",
       "      <td>49.71</td>\n",
       "      <td>1</td>\n",
       "      <td>tablet</td>\n",
       "    </tr>\n",
       "    <tr>\n",
       "      <th>2014-01-01 02:28:25</th>\n",
       "      <td>287</td>\n",
       "      <td>9</td>\n",
       "      <td>5</td>\n",
       "      <td>50.94</td>\n",
       "      <td>1</td>\n",
       "      <td>desktop</td>\n",
       "    </tr>\n",
       "    <tr>\n",
       "      <th>2014-01-01 03:29:05</th>\n",
       "      <td>190</td>\n",
       "      <td>14</td>\n",
       "      <td>5</td>\n",
       "      <td>110.52</td>\n",
       "      <td>1</td>\n",
       "      <td>tablet</td>\n",
       "    </tr>\n",
       "    <tr>\n",
       "      <th>2014-01-01 03:39:55</th>\n",
       "      <td>7</td>\n",
       "      <td>14</td>\n",
       "      <td>5</td>\n",
       "      <td>107.42</td>\n",
       "      <td>1</td>\n",
       "      <td>tablet</td>\n",
       "    </tr>\n",
       "  </tbody>\n",
       "</table>\n",
       "</div>"
      ],
      "text/plain": [
       "slice_number                                             2\n",
       "customer_id                                              1\n",
       "window          [2014-01-01 01:00:00, 2014-01-01 04:00:00)\n",
       "gap             [2014-01-01 01:00:00, 2014-01-01 02:00:00)"
      ]
     },
     "execution_count": 82,
     "metadata": {},
     "output_type": "execute_result"
    }
   ],
   "source": [
    "ds = next(slices)\n",
    "print(ds)\n",
    "ds"
   ]
  },
  {
   "cell_type": "raw",
   "metadata": {
    "raw_mimetype": "text/restructuredtext"
   },
   "source": [
    "Let's apply our labeling function for the total spent on this data slice."
   ]
  },
  {
   "cell_type": "code",
   "execution_count": 83,
   "metadata": {},
   "outputs": [
    {
     "data": {
      "text/plain": [
       "821.6400000000001"
      ]
     },
     "execution_count": 83,
     "metadata": {},
     "output_type": "execute_result"
    }
   ],
   "source": [
    "total_spent(ds)"
   ]
  },
  {
   "cell_type": "raw",
   "metadata": {
    "raw_mimetype": "text/restructuredtext"
   },
   "source": [
    "Spread Out\n",
    "----------\n",
    "When the the gap size is greater than the window size, then there is data in-between data slices that will be skipped. The amount of data skipped is the difference between the gap and window size. For example, if the gap size is 3 hours and the window size is 1 hours, then 2 hours of data will be skipped in-between data slices. To demonstrate this example, let's generate data slices using these parameters.\n",
    "\n",
    "We create a lable maker with the 1-hour window size."
   ]
  },
  {
   "cell_type": "code",
   "execution_count": 84,
   "metadata": {},
   "outputs": [],
   "source": [
    "lm = cp.LabelMaker(\n",
    "    target_entity=\"customer_id\",\n",
    "    time_index=\"transaction_time\",\n",
    "    labeling_function=total_spent,\n",
    "    window_size=\"1h\",\n",
    ")"
   ]
  },
  {
   "cell_type": "raw",
   "metadata": {
    "raw_mimetype": "text/restructuredtext"
   },
   "source": [
    "Then, we create a data slice generator with the 3-hour gap size."
   ]
  },
  {
   "cell_type": "code",
   "execution_count": 85,
   "metadata": {},
   "outputs": [],
   "source": [
    "slices = lm.slice(\n",
    "    df.sort_values('transaction_time'),\n",
    "    num_examples_per_instance=-1,\n",
    "    minimum_data='2014-01-01',\n",
    "    gap=\"3h\",\n",
    ")"
   ]
  },
  {
   "cell_type": "raw",
   "metadata": {
    "raw_mimetype": "text/restructuredtext"
   },
   "source": [
    "Spread Out - Data Slice #1\n",
    "~~~~~~~~~~~~~~~~~~~~~~~~~~"
   ]
  },
  {
   "cell_type": "code",
   "execution_count": 86,
   "metadata": {},
   "outputs": [
    {
     "name": "stdout",
     "output_type": "stream",
     "text": [
      "slice_number                                             1\n",
      "customer_id                                              1\n",
      "window          [2014-01-01 00:00:00, 2014-01-01 01:00:00)\n",
      "gap             [2014-01-01 00:00:00, 2014-01-01 03:00:00)\n"
     ]
    },
    {
     "data": {
      "text/html": [
       "<div>\n",
       "<style scoped>\n",
       "    .dataframe tbody tr th:only-of-type {\n",
       "        vertical-align: middle;\n",
       "    }\n",
       "\n",
       "    .dataframe tbody tr th {\n",
       "        vertical-align: top;\n",
       "    }\n",
       "\n",
       "    .dataframe thead th {\n",
       "        text-align: right;\n",
       "    }\n",
       "</style>\n",
       "<table border=\"1\" class=\"dataframe\">\n",
       "  <thead>\n",
       "    <tr style=\"text-align: right;\">\n",
       "      <th></th>\n",
       "      <th>transaction_id</th>\n",
       "      <th>session_id</th>\n",
       "      <th>product_id</th>\n",
       "      <th>amount</th>\n",
       "      <th>customer_id</th>\n",
       "      <th>device</th>\n",
       "    </tr>\n",
       "    <tr>\n",
       "      <th>transaction_time</th>\n",
       "      <th></th>\n",
       "      <th></th>\n",
       "      <th></th>\n",
       "      <th></th>\n",
       "      <th></th>\n",
       "      <th></th>\n",
       "    </tr>\n",
       "  </thead>\n",
       "  <tbody>\n",
       "    <tr>\n",
       "      <th>2014-01-01 00:45:30</th>\n",
       "      <td>275</td>\n",
       "      <td>4</td>\n",
       "      <td>5</td>\n",
       "      <td>108.11</td>\n",
       "      <td>1</td>\n",
       "      <td>mobile</td>\n",
       "    </tr>\n",
       "    <tr>\n",
       "      <th>2014-01-01 00:46:35</th>\n",
       "      <td>101</td>\n",
       "      <td>4</td>\n",
       "      <td>5</td>\n",
       "      <td>112.53</td>\n",
       "      <td>1</td>\n",
       "      <td>mobile</td>\n",
       "    </tr>\n",
       "    <tr>\n",
       "      <th>2014-01-01 00:47:40</th>\n",
       "      <td>80</td>\n",
       "      <td>4</td>\n",
       "      <td>5</td>\n",
       "      <td>6.29</td>\n",
       "      <td>1</td>\n",
       "      <td>mobile</td>\n",
       "    </tr>\n",
       "    <tr>\n",
       "      <th>2014-01-01 00:52:00</th>\n",
       "      <td>163</td>\n",
       "      <td>4</td>\n",
       "      <td>5</td>\n",
       "      <td>31.37</td>\n",
       "      <td>1</td>\n",
       "      <td>mobile</td>\n",
       "    </tr>\n",
       "    <tr>\n",
       "      <th>2014-01-01 00:53:05</th>\n",
       "      <td>293</td>\n",
       "      <td>4</td>\n",
       "      <td>5</td>\n",
       "      <td>82.88</td>\n",
       "      <td>1</td>\n",
       "      <td>mobile</td>\n",
       "    </tr>\n",
       "    <tr>\n",
       "      <th>2014-01-01 00:57:25</th>\n",
       "      <td>103</td>\n",
       "      <td>4</td>\n",
       "      <td>5</td>\n",
       "      <td>20.79</td>\n",
       "      <td>1</td>\n",
       "      <td>mobile</td>\n",
       "    </tr>\n",
       "  </tbody>\n",
       "</table>\n",
       "</div>"
      ],
      "text/plain": [
       "slice_number                                             1\n",
       "customer_id                                              1\n",
       "window          [2014-01-01 00:00:00, 2014-01-01 01:00:00)\n",
       "gap             [2014-01-01 00:00:00, 2014-01-01 03:00:00)"
      ]
     },
     "execution_count": 86,
     "metadata": {},
     "output_type": "execute_result"
    }
   ],
   "source": [
    "ds = next(slices)\n",
    "print(ds)\n",
    "ds"
   ]
  },
  {
   "cell_type": "raw",
   "metadata": {
    "raw_mimetype": "text/restructuredtext"
   },
   "source": [
    "Let's apply our labeling function for the total spent on this data slice."
   ]
  },
  {
   "cell_type": "code",
   "execution_count": 87,
   "metadata": {},
   "outputs": [
    {
     "data": {
      "text/plain": [
       "361.96999999999997"
      ]
     },
     "execution_count": 87,
     "metadata": {},
     "output_type": "execute_result"
    }
   ],
   "source": [
    "total_spent(ds)"
   ]
  },
  {
   "cell_type": "raw",
   "metadata": {
    "raw_mimetype": "text/restructuredtext"
   },
   "source": [
    "Spread Out - Data Slice #2\n",
    "~~~~~~~~~~~~~~~~~~~~~~~~~~"
   ]
  },
  {
   "cell_type": "code",
   "execution_count": 88,
   "metadata": {},
   "outputs": [
    {
     "name": "stdout",
     "output_type": "stream",
     "text": [
      "slice_number                                             2\n",
      "customer_id                                              1\n",
      "window          [2014-01-01 03:00:00, 2014-01-01 04:00:00)\n",
      "gap             [2014-01-01 03:00:00, 2014-01-01 06:00:00)\n"
     ]
    },
    {
     "data": {
      "text/html": [
       "<div>\n",
       "<style scoped>\n",
       "    .dataframe tbody tr th:only-of-type {\n",
       "        vertical-align: middle;\n",
       "    }\n",
       "\n",
       "    .dataframe tbody tr th {\n",
       "        vertical-align: top;\n",
       "    }\n",
       "\n",
       "    .dataframe thead th {\n",
       "        text-align: right;\n",
       "    }\n",
       "</style>\n",
       "<table border=\"1\" class=\"dataframe\">\n",
       "  <thead>\n",
       "    <tr style=\"text-align: right;\">\n",
       "      <th></th>\n",
       "      <th>transaction_id</th>\n",
       "      <th>session_id</th>\n",
       "      <th>product_id</th>\n",
       "      <th>amount</th>\n",
       "      <th>customer_id</th>\n",
       "      <th>device</th>\n",
       "    </tr>\n",
       "    <tr>\n",
       "      <th>transaction_time</th>\n",
       "      <th></th>\n",
       "      <th></th>\n",
       "      <th></th>\n",
       "      <th></th>\n",
       "      <th></th>\n",
       "      <th></th>\n",
       "    </tr>\n",
       "  </thead>\n",
       "  <tbody>\n",
       "    <tr>\n",
       "      <th>2014-01-01 03:29:05</th>\n",
       "      <td>190</td>\n",
       "      <td>14</td>\n",
       "      <td>5</td>\n",
       "      <td>110.52</td>\n",
       "      <td>1</td>\n",
       "      <td>tablet</td>\n",
       "    </tr>\n",
       "    <tr>\n",
       "      <th>2014-01-01 03:39:55</th>\n",
       "      <td>7</td>\n",
       "      <td>14</td>\n",
       "      <td>5</td>\n",
       "      <td>107.42</td>\n",
       "      <td>1</td>\n",
       "      <td>tablet</td>\n",
       "    </tr>\n",
       "  </tbody>\n",
       "</table>\n",
       "</div>"
      ],
      "text/plain": [
       "slice_number                                             2\n",
       "customer_id                                              1\n",
       "window          [2014-01-01 03:00:00, 2014-01-01 04:00:00)\n",
       "gap             [2014-01-01 03:00:00, 2014-01-01 06:00:00)"
      ]
     },
     "execution_count": 88,
     "metadata": {},
     "output_type": "execute_result"
    }
   ],
   "source": [
    "ds = next(slices)\n",
    "print(ds)\n",
    "ds"
   ]
  },
  {
   "cell_type": "raw",
   "metadata": {
    "raw_mimetype": "text/restructuredtext"
   },
   "source": [
    "Let's apply our labeling function for the total spent on this data slice."
   ]
  },
  {
   "cell_type": "code",
   "execution_count": 89,
   "metadata": {},
   "outputs": [
    {
     "data": {
      "text/plain": [
       "217.94"
      ]
     },
     "execution_count": 89,
     "metadata": {},
     "output_type": "execute_result"
    }
   ],
   "source": [
    "total_spent(ds)"
   ]
  },
  {
   "cell_type": "raw",
   "metadata": {
    "raw_mimetype": "text/restructuredtext"
   },
   "source": [
    "Consecutive\n",
    "-----------\n",
    "When the the gap size is equal to the window size, the data slices are consecutive. In other words, the data slices do not overlap and are not spread out (e.g. don't skip any data). This is the default value for the gap size. To demonstrate this example, let's generate data slices using these parameters.\n",
    "\n",
    "We create a lable maker with the 2-hour window size."
   ]
  },
  {
   "cell_type": "code",
   "execution_count": 92,
   "metadata": {},
   "outputs": [],
   "source": [
    "lm = cp.LabelMaker(\n",
    "    target_entity=\"customer_id\",\n",
    "    time_index=\"transacti1on_time\",\n",
    "    labeling_function=total_spent,\n",
    "    window_size=\"2h\",\n",
    ")"
   ]
  },
  {
   "cell_type": "raw",
   "metadata": {
    "raw_mimetype": "text/restructuredtext"
   },
   "source": [
    "Then, we create a data slice generator with the 2-hour gap size."
   ]
  },
  {
   "cell_type": "code",
   "execution_count": 93,
   "metadata": {},
   "outputs": [],
   "source": [
    "slices = lm.slice(\n",
    "    df.sort_values('transaction_time'),\n",
    "    num_examples_per_instance=-1,\n",
    "    minimum_data='2014-01-01',\n",
    ")"
   ]
  },
  {
   "cell_type": "raw",
   "metadata": {
    "raw_mimetype": "text/restructuredtext"
   },
   "source": [
    "Consecutive - Data Slice #1\n",
    "~~~~~~~~~~~~~~~~~~~~~~~~~~~"
   ]
  },
  {
   "cell_type": "code",
   "execution_count": 94,
   "metadata": {},
   "outputs": [
    {
     "name": "stdout",
     "output_type": "stream",
     "text": [
      "slice_number                                             1\n",
      "customer_id                                              1\n",
      "window          [2014-01-01 00:00:00, 2014-01-01 02:00:00)\n",
      "gap             [2014-01-01 00:00:00, 2014-01-01 02:00:00)\n"
     ]
    },
    {
     "data": {
      "text/html": [
       "<div>\n",
       "<style scoped>\n",
       "    .dataframe tbody tr th:only-of-type {\n",
       "        vertical-align: middle;\n",
       "    }\n",
       "\n",
       "    .dataframe tbody tr th {\n",
       "        vertical-align: top;\n",
       "    }\n",
       "\n",
       "    .dataframe thead th {\n",
       "        text-align: right;\n",
       "    }\n",
       "</style>\n",
       "<table border=\"1\" class=\"dataframe\">\n",
       "  <thead>\n",
       "    <tr style=\"text-align: right;\">\n",
       "      <th></th>\n",
       "      <th>transaction_id</th>\n",
       "      <th>session_id</th>\n",
       "      <th>product_id</th>\n",
       "      <th>amount</th>\n",
       "      <th>customer_id</th>\n",
       "      <th>device</th>\n",
       "    </tr>\n",
       "    <tr>\n",
       "      <th>transaction_time</th>\n",
       "      <th></th>\n",
       "      <th></th>\n",
       "      <th></th>\n",
       "      <th></th>\n",
       "      <th></th>\n",
       "      <th></th>\n",
       "    </tr>\n",
       "  </thead>\n",
       "  <tbody>\n",
       "    <tr>\n",
       "      <th>2014-01-01 00:45:30</th>\n",
       "      <td>275</td>\n",
       "      <td>4</td>\n",
       "      <td>5</td>\n",
       "      <td>108.11</td>\n",
       "      <td>1</td>\n",
       "      <td>mobile</td>\n",
       "    </tr>\n",
       "    <tr>\n",
       "      <th>2014-01-01 00:46:35</th>\n",
       "      <td>101</td>\n",
       "      <td>4</td>\n",
       "      <td>5</td>\n",
       "      <td>112.53</td>\n",
       "      <td>1</td>\n",
       "      <td>mobile</td>\n",
       "    </tr>\n",
       "    <tr>\n",
       "      <th>2014-01-01 00:47:40</th>\n",
       "      <td>80</td>\n",
       "      <td>4</td>\n",
       "      <td>5</td>\n",
       "      <td>6.29</td>\n",
       "      <td>1</td>\n",
       "      <td>mobile</td>\n",
       "    </tr>\n",
       "    <tr>\n",
       "      <th>2014-01-01 00:52:00</th>\n",
       "      <td>163</td>\n",
       "      <td>4</td>\n",
       "      <td>5</td>\n",
       "      <td>31.37</td>\n",
       "      <td>1</td>\n",
       "      <td>mobile</td>\n",
       "    </tr>\n",
       "    <tr>\n",
       "      <th>2014-01-01 00:53:05</th>\n",
       "      <td>293</td>\n",
       "      <td>4</td>\n",
       "      <td>5</td>\n",
       "      <td>82.88</td>\n",
       "      <td>1</td>\n",
       "      <td>mobile</td>\n",
       "    </tr>\n",
       "    <tr>\n",
       "      <th>2014-01-01 00:57:25</th>\n",
       "      <td>103</td>\n",
       "      <td>4</td>\n",
       "      <td>5</td>\n",
       "      <td>20.79</td>\n",
       "      <td>1</td>\n",
       "      <td>mobile</td>\n",
       "    </tr>\n",
       "    <tr>\n",
       "      <th>2014-01-01 01:03:55</th>\n",
       "      <td>488</td>\n",
       "      <td>4</td>\n",
       "      <td>5</td>\n",
       "      <td>129.00</td>\n",
       "      <td>1</td>\n",
       "      <td>mobile</td>\n",
       "    </tr>\n",
       "    <tr>\n",
       "      <th>2014-01-01 01:05:00</th>\n",
       "      <td>413</td>\n",
       "      <td>4</td>\n",
       "      <td>5</td>\n",
       "      <td>119.98</td>\n",
       "      <td>1</td>\n",
       "      <td>mobile</td>\n",
       "    </tr>\n",
       "    <tr>\n",
       "      <th>2014-01-01 01:31:00</th>\n",
       "      <td>191</td>\n",
       "      <td>6</td>\n",
       "      <td>5</td>\n",
       "      <td>139.23</td>\n",
       "      <td>1</td>\n",
       "      <td>tablet</td>\n",
       "    </tr>\n",
       "    <tr>\n",
       "      <th>2014-01-01 01:37:30</th>\n",
       "      <td>372</td>\n",
       "      <td>6</td>\n",
       "      <td>5</td>\n",
       "      <td>114.84</td>\n",
       "      <td>1</td>\n",
       "      <td>tablet</td>\n",
       "    </tr>\n",
       "    <tr>\n",
       "      <th>2014-01-01 01:38:35</th>\n",
       "      <td>387</td>\n",
       "      <td>6</td>\n",
       "      <td>5</td>\n",
       "      <td>49.71</td>\n",
       "      <td>1</td>\n",
       "      <td>tablet</td>\n",
       "    </tr>\n",
       "  </tbody>\n",
       "</table>\n",
       "</div>"
      ],
      "text/plain": [
       "slice_number                                             1\n",
       "customer_id                                              1\n",
       "window          [2014-01-01 00:00:00, 2014-01-01 02:00:00)\n",
       "gap             [2014-01-01 00:00:00, 2014-01-01 02:00:00)"
      ]
     },
     "execution_count": 94,
     "metadata": {},
     "output_type": "execute_result"
    }
   ],
   "source": [
    "ds = next(slices)\n",
    "print(ds)\n",
    "ds"
   ]
  },
  {
   "cell_type": "raw",
   "metadata": {
    "raw_mimetype": "text/restructuredtext"
   },
   "source": [
    "Let's apply our labeling function for the total spent on this data slice."
   ]
  },
  {
   "cell_type": "code",
   "execution_count": 95,
   "metadata": {},
   "outputs": [
    {
     "data": {
      "text/plain": [
       "914.7300000000001"
      ]
     },
     "execution_count": 95,
     "metadata": {},
     "output_type": "execute_result"
    }
   ],
   "source": [
    "total_spent(ds)"
   ]
  },
  {
   "cell_type": "raw",
   "metadata": {
    "raw_mimetype": "text/restructuredtext"
   },
   "source": [
    "Consecutive - Data Slice #2\n",
    "~~~~~~~~~~~~~~~~~~~~~~~~~~~"
   ]
  },
  {
   "cell_type": "code",
   "execution_count": 96,
   "metadata": {},
   "outputs": [
    {
     "name": "stdout",
     "output_type": "stream",
     "text": [
      "slice_number                                             2\n",
      "customer_id                                              1\n",
      "window          [2014-01-01 02:00:00, 2014-01-01 04:00:00)\n",
      "gap             [2014-01-01 02:00:00, 2014-01-01 04:00:00)\n"
     ]
    },
    {
     "data": {
      "text/html": [
       "<div>\n",
       "<style scoped>\n",
       "    .dataframe tbody tr th:only-of-type {\n",
       "        vertical-align: middle;\n",
       "    }\n",
       "\n",
       "    .dataframe tbody tr th {\n",
       "        vertical-align: top;\n",
       "    }\n",
       "\n",
       "    .dataframe thead th {\n",
       "        text-align: right;\n",
       "    }\n",
       "</style>\n",
       "<table border=\"1\" class=\"dataframe\">\n",
       "  <thead>\n",
       "    <tr style=\"text-align: right;\">\n",
       "      <th></th>\n",
       "      <th>transaction_id</th>\n",
       "      <th>session_id</th>\n",
       "      <th>product_id</th>\n",
       "      <th>amount</th>\n",
       "      <th>customer_id</th>\n",
       "      <th>device</th>\n",
       "    </tr>\n",
       "    <tr>\n",
       "      <th>transaction_time</th>\n",
       "      <th></th>\n",
       "      <th></th>\n",
       "      <th></th>\n",
       "      <th></th>\n",
       "      <th></th>\n",
       "      <th></th>\n",
       "    </tr>\n",
       "  </thead>\n",
       "  <tbody>\n",
       "    <tr>\n",
       "      <th>2014-01-01 02:28:25</th>\n",
       "      <td>287</td>\n",
       "      <td>9</td>\n",
       "      <td>5</td>\n",
       "      <td>50.94</td>\n",
       "      <td>1</td>\n",
       "      <td>desktop</td>\n",
       "    </tr>\n",
       "    <tr>\n",
       "      <th>2014-01-01 03:29:05</th>\n",
       "      <td>190</td>\n",
       "      <td>14</td>\n",
       "      <td>5</td>\n",
       "      <td>110.52</td>\n",
       "      <td>1</td>\n",
       "      <td>tablet</td>\n",
       "    </tr>\n",
       "    <tr>\n",
       "      <th>2014-01-01 03:39:55</th>\n",
       "      <td>7</td>\n",
       "      <td>14</td>\n",
       "      <td>5</td>\n",
       "      <td>107.42</td>\n",
       "      <td>1</td>\n",
       "      <td>tablet</td>\n",
       "    </tr>\n",
       "  </tbody>\n",
       "</table>\n",
       "</div>"
      ],
      "text/plain": [
       "slice_number                                             2\n",
       "customer_id                                              1\n",
       "window          [2014-01-01 02:00:00, 2014-01-01 04:00:00)\n",
       "gap             [2014-01-01 02:00:00, 2014-01-01 04:00:00)"
      ]
     },
     "execution_count": 96,
     "metadata": {},
     "output_type": "execute_result"
    }
   ],
   "source": [
    "ds = next(slices)\n",
    "print(ds)\n",
    "ds"
   ]
  },
  {
   "cell_type": "raw",
   "metadata": {
    "raw_mimetype": "text/restructuredtext"
   },
   "source": [
    "Let's apply our labeling function for the total spent on this data slice."
   ]
  },
  {
   "cell_type": "code",
   "execution_count": 97,
   "metadata": {},
   "outputs": [
    {
     "data": {
      "text/plain": [
       "268.88"
      ]
     },
     "execution_count": 97,
     "metadata": {},
     "output_type": "execute_result"
    }
   ],
   "source": [
    "total_spent(ds)"
   ]
  },
  {
   "cell_type": "raw",
   "metadata": {
    "raw_mimetype": "text/restructuredtext"
   },
   "source": [
    "Data Slice Context\n",
    "==================\n",
    "Each data slice has a :code:`context` attribute which can be used to access its metadata."
   ]
  },
  {
   "cell_type": "code",
   "execution_count": 239,
   "metadata": {},
   "outputs": [
    {
     "data": {
      "text/plain": [
       "{'gap': (Timestamp('2014-01-01 02:00:00'), Timestamp('2014-01-01 04:00:00')),\n",
       " 'window': (Timestamp('2014-01-01 02:00:00'),\n",
       "  Timestamp('2014-01-01 04:00:00')),\n",
       " 'slice_number': 2,\n",
       " 'target_entity': 'customer_id',\n",
       " 'target_instance': 1}"
      ]
     },
     "execution_count": 239,
     "metadata": {},
     "output_type": "execute_result"
    }
   ],
   "source": [
    "vars(ds.context)"
   ]
  }
 ],
 "metadata": {
  "celltoolbar": "Raw Cell Format",
  "jupytext": {
   "cell_metadata_filter": "-all",
   "notebook_metadata_filter": "-all"
  },
  "kernelspec": {
   "display_name": "Python 3",
   "language": "python",
   "name": "python3"
  },
  "language_info": {
   "codemirror_mode": {
    "name": "ipython",
    "version": 3
   },
   "file_extension": ".py",
   "mimetype": "text/x-python",
   "name": "python",
   "nbconvert_exporter": "python",
   "pygments_lexer": "ipython3",
   "version": "3.7.0"
  }
 },
 "nbformat": 4,
 "nbformat_minor": 2
}
