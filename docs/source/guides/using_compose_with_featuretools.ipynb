{
 "cells": [
  {
   "cell_type": "raw",
   "metadata": {
    "raw_mimetype": "text/restructuredtext"
   },
   "source": [
    "===============================\n",
    "Using Compose with Featuretools\n",
    "===============================\n",
    "\n",
    "In this guide, we will generate labels and features on a mock dataset of transactions using Compose and Featuretools. Then create a machine learning model for predicting one hour in advance whether customers will spend over $1200 within the next hour of transactions."
   ]
  },
  {
   "cell_type": "code",
   "execution_count": 1,
   "metadata": {},
   "outputs": [],
   "source": [
    "%matplotlib inline\n",
    "import composeml as cp\n",
    "import featuretools as ft\n",
    "import pandas as pd\n",
    "from sklearn.model_selection import train_test_split\n",
    "from sklearn.ensemble import RandomForestClassifier\n",
    "from sklearn.metrics import classification_report"
   ]
  },
  {
   "cell_type": "raw",
   "metadata": {
    "raw_mimetype": "text/restructuredtext"
   },
   "source": [
    "Load Data\n",
    "=========\n",
    "\n",
    "To get an idea on how the transactions looks, we preview the data frame."
   ]
  },
  {
   "cell_type": "code",
   "execution_count": 2,
   "metadata": {
    "scrolled": true
   },
   "outputs": [
    {
     "data": {
      "text/html": [
       "<div>\n",
       "<style scoped>\n",
       "    .dataframe tbody tr th:only-of-type {\n",
       "        vertical-align: middle;\n",
       "    }\n",
       "\n",
       "    .dataframe tbody tr th {\n",
       "        vertical-align: top;\n",
       "    }\n",
       "\n",
       "    .dataframe thead th {\n",
       "        text-align: right;\n",
       "    }\n",
       "</style>\n",
       "<table border=\"1\" class=\"dataframe\">\n",
       "  <thead>\n",
       "    <tr style=\"text-align: right;\">\n",
       "      <th></th>\n",
       "      <th>transaction_id</th>\n",
       "      <th>session_id</th>\n",
       "      <th>transaction_time</th>\n",
       "      <th>product_id</th>\n",
       "      <th>amount</th>\n",
       "      <th>customer_id</th>\n",
       "      <th>device</th>\n",
       "    </tr>\n",
       "  </thead>\n",
       "  <tbody>\n",
       "    <tr>\n",
       "      <th>0</th>\n",
       "      <td>298</td>\n",
       "      <td>1</td>\n",
       "      <td>2014-01-01 00:00:00</td>\n",
       "      <td>5</td>\n",
       "      <td>127.64</td>\n",
       "      <td>2</td>\n",
       "      <td>desktop</td>\n",
       "    </tr>\n",
       "    <tr>\n",
       "      <th>1</th>\n",
       "      <td>10</td>\n",
       "      <td>1</td>\n",
       "      <td>2014-01-01 00:09:45</td>\n",
       "      <td>5</td>\n",
       "      <td>57.39</td>\n",
       "      <td>2</td>\n",
       "      <td>desktop</td>\n",
       "    </tr>\n",
       "    <tr>\n",
       "      <th>2</th>\n",
       "      <td>495</td>\n",
       "      <td>1</td>\n",
       "      <td>2014-01-01 00:14:05</td>\n",
       "      <td>5</td>\n",
       "      <td>69.45</td>\n",
       "      <td>2</td>\n",
       "      <td>desktop</td>\n",
       "    </tr>\n",
       "    <tr>\n",
       "      <th>3</th>\n",
       "      <td>460</td>\n",
       "      <td>10</td>\n",
       "      <td>2014-01-01 02:33:50</td>\n",
       "      <td>5</td>\n",
       "      <td>123.19</td>\n",
       "      <td>2</td>\n",
       "      <td>tablet</td>\n",
       "    </tr>\n",
       "    <tr>\n",
       "      <th>4</th>\n",
       "      <td>302</td>\n",
       "      <td>10</td>\n",
       "      <td>2014-01-01 02:37:05</td>\n",
       "      <td>5</td>\n",
       "      <td>64.47</td>\n",
       "      <td>2</td>\n",
       "      <td>tablet</td>\n",
       "    </tr>\n",
       "  </tbody>\n",
       "</table>\n",
       "</div>"
      ],
      "text/plain": [
       "   transaction_id  session_id    transaction_time product_id  amount  \\\n",
       "0             298           1 2014-01-01 00:00:00          5  127.64   \n",
       "1              10           1 2014-01-01 00:09:45          5   57.39   \n",
       "2             495           1 2014-01-01 00:14:05          5   69.45   \n",
       "3             460          10 2014-01-01 02:33:50          5  123.19   \n",
       "4             302          10 2014-01-01 02:37:05          5   64.47   \n",
       "\n",
       "   customer_id   device  \n",
       "0            2  desktop  \n",
       "1            2  desktop  \n",
       "2            2  desktop  \n",
       "3            2   tablet  \n",
       "4            2   tablet  "
      ]
     },
     "execution_count": 2,
     "metadata": {},
     "output_type": "execute_result"
    }
   ],
   "source": [
    "transactions = ft.demo.load_mock_customer(\n",
    "    return_single_table=True,\n",
    "    random_seed=0,\n",
    ")\n",
    "\n",
    "transactions[transactions.columns[:7]].head()"
   ]
  },
  {
   "cell_type": "raw",
   "metadata": {
    "raw_mimetype": "text/restructuredtext"
   },
   "source": [
    "Generate Labels\n",
    "===============\n",
    "\n",
    "Now with the transactions loaded, we are ready to generate labels for our prediction problem.\n",
    "\n",
    "\n",
    "Create Labeling Function\n",
    "------------------------\n",
    "\n",
    "First, we define the function that will return the total purchase amount given a hour of transactions."
   ]
  },
  {
   "cell_type": "code",
   "execution_count": 3,
   "metadata": {},
   "outputs": [],
   "source": [
    "def total_spent(df):\n",
    "    total = df[\"amount\"].sum()\n",
    "    return total"
   ]
  },
  {
   "cell_type": "raw",
   "metadata": {
    "raw_mimetype": "text/restructuredtext"
   },
   "source": [
    ".. currentmodule:: composeml\n",
    "\n",
    "\n",
    "Construct Label Maker\n",
    "---------------------\n",
    "\n",
    "With our labeling function, we create the :class:`LabelMaker` for the transactions. The :code:`target_entity` is set to :code:`customer_id` so that the labels are generated for each customer. The :code:`window_size` is set to one hour to process one hour of transactions for a given customer."
   ]
  },
  {
   "cell_type": "code",
   "execution_count": 4,
   "metadata": {},
   "outputs": [],
   "source": [
    "label_maker = cp.LabelMaker(\n",
    "    target_entity='customer_id',\n",
    "    time_index='transaction_time',\n",
    "    labeling_function=total_spent,\n",
    "    window_size='1h',\n",
    ")"
   ]
  },
  {
   "cell_type": "raw",
   "metadata": {
    "raw_mimetype": "text/restructuredtext"
   },
   "source": [
    "Create Labels\n",
    "-------------\n",
    "\n",
    "Next, we automatically search and extract the labels by using :meth:`LabelMaker.search`.\n",
    "\n",
    ".. seealso::\n",
    "    \n",
    "    For more details on how the label maker works, see :doc:`/main_concepts`."
   ]
  },
  {
   "cell_type": "code",
   "execution_count": 5,
   "metadata": {},
   "outputs": [
    {
     "name": "stdout",
     "output_type": "stream",
     "text": [
      "Elapsed: 00:00 | Remaining: 00:00 | Progress: 100%|██████████| customer_id: 5/5 \n"
     ]
    },
    {
     "data": {
      "text/html": [
       "<div>\n",
       "<style scoped>\n",
       "    .dataframe tbody tr th:only-of-type {\n",
       "        vertical-align: middle;\n",
       "    }\n",
       "\n",
       "    .dataframe tbody tr th {\n",
       "        vertical-align: top;\n",
       "    }\n",
       "\n",
       "    .dataframe thead th {\n",
       "        text-align: right;\n",
       "    }\n",
       "</style>\n",
       "<table border=\"1\" class=\"dataframe\">\n",
       "  <thead>\n",
       "    <tr style=\"text-align: right;\">\n",
       "      <th></th>\n",
       "      <th>customer_id</th>\n",
       "      <th>time</th>\n",
       "      <th>total_spent</th>\n",
       "    </tr>\n",
       "    <tr>\n",
       "      <th>id</th>\n",
       "      <th></th>\n",
       "      <th></th>\n",
       "      <th></th>\n",
       "    </tr>\n",
       "  </thead>\n",
       "  <tbody>\n",
       "    <tr>\n",
       "      <th>0</th>\n",
       "      <td>1</td>\n",
       "      <td>2014-01-01 00:44:25</td>\n",
       "      <td>2880.53</td>\n",
       "    </tr>\n",
       "    <tr>\n",
       "      <th>1</th>\n",
       "      <td>1</td>\n",
       "      <td>2014-01-01 00:45:30</td>\n",
       "      <td>2859.18</td>\n",
       "    </tr>\n",
       "    <tr>\n",
       "      <th>2</th>\n",
       "      <td>1</td>\n",
       "      <td>2014-01-01 00:46:35</td>\n",
       "      <td>2751.07</td>\n",
       "    </tr>\n",
       "    <tr>\n",
       "      <th>3</th>\n",
       "      <td>1</td>\n",
       "      <td>2014-01-01 00:47:40</td>\n",
       "      <td>2638.54</td>\n",
       "    </tr>\n",
       "    <tr>\n",
       "      <th>4</th>\n",
       "      <td>1</td>\n",
       "      <td>2014-01-01 00:48:45</td>\n",
       "      <td>2632.25</td>\n",
       "    </tr>\n",
       "  </tbody>\n",
       "</table>\n",
       "</div>"
      ],
      "text/plain": [
       "    customer_id                time  total_spent\n",
       "id                                              \n",
       "0             1 2014-01-01 00:44:25      2880.53\n",
       "1             1 2014-01-01 00:45:30      2859.18\n",
       "2             1 2014-01-01 00:46:35      2751.07\n",
       "3             1 2014-01-01 00:47:40      2638.54\n",
       "4             1 2014-01-01 00:48:45      2632.25"
      ]
     },
     "execution_count": 5,
     "metadata": {},
     "output_type": "execute_result"
    }
   ],
   "source": [
    "labels = label_maker.search(\n",
    "    transactions.sort_values('transaction_time'),\n",
    "    num_examples_per_instance=-1,\n",
    "    gap=1,\n",
    ")\n",
    "\n",
    "labels.head()"
   ]
  },
  {
   "cell_type": "raw",
   "metadata": {
    "raw_mimetype": "text/restructuredtext"
   },
   "source": [
    "Transform Labels\n",
    "----------------\n",
    "\n",
    "With the generated :class:`LabelTimes`, we will apply specific transforms for our prediction problem.\n",
    "\n",
    "Apply Threshold on Labels\n",
    "~~~~~~~~~~~~~~~~~~~~~~~~~\n",
    "\n",
    "We apply :meth:`LabelTimes.threshold` to make the labels binary for total amounts exceeding $1200."
   ]
  },
  {
   "cell_type": "code",
   "execution_count": 6,
   "metadata": {},
   "outputs": [
    {
     "data": {
      "text/html": [
       "<div>\n",
       "<style scoped>\n",
       "    .dataframe tbody tr th:only-of-type {\n",
       "        vertical-align: middle;\n",
       "    }\n",
       "\n",
       "    .dataframe tbody tr th {\n",
       "        vertical-align: top;\n",
       "    }\n",
       "\n",
       "    .dataframe thead th {\n",
       "        text-align: right;\n",
       "    }\n",
       "</style>\n",
       "<table border=\"1\" class=\"dataframe\">\n",
       "  <thead>\n",
       "    <tr style=\"text-align: right;\">\n",
       "      <th></th>\n",
       "      <th>customer_id</th>\n",
       "      <th>time</th>\n",
       "      <th>total_spent</th>\n",
       "    </tr>\n",
       "    <tr>\n",
       "      <th>id</th>\n",
       "      <th></th>\n",
       "      <th></th>\n",
       "      <th></th>\n",
       "    </tr>\n",
       "  </thead>\n",
       "  <tbody>\n",
       "    <tr>\n",
       "      <th>0</th>\n",
       "      <td>1</td>\n",
       "      <td>2014-01-01 00:44:25</td>\n",
       "      <td>True</td>\n",
       "    </tr>\n",
       "    <tr>\n",
       "      <th>1</th>\n",
       "      <td>1</td>\n",
       "      <td>2014-01-01 00:45:30</td>\n",
       "      <td>True</td>\n",
       "    </tr>\n",
       "    <tr>\n",
       "      <th>2</th>\n",
       "      <td>1</td>\n",
       "      <td>2014-01-01 00:46:35</td>\n",
       "      <td>True</td>\n",
       "    </tr>\n",
       "    <tr>\n",
       "      <th>3</th>\n",
       "      <td>1</td>\n",
       "      <td>2014-01-01 00:47:40</td>\n",
       "      <td>True</td>\n",
       "    </tr>\n",
       "    <tr>\n",
       "      <th>4</th>\n",
       "      <td>1</td>\n",
       "      <td>2014-01-01 00:48:45</td>\n",
       "      <td>True</td>\n",
       "    </tr>\n",
       "  </tbody>\n",
       "</table>\n",
       "</div>"
      ],
      "text/plain": [
       "    customer_id                time  total_spent\n",
       "id                                              \n",
       "0             1 2014-01-01 00:44:25         True\n",
       "1             1 2014-01-01 00:45:30         True\n",
       "2             1 2014-01-01 00:46:35         True\n",
       "3             1 2014-01-01 00:47:40         True\n",
       "4             1 2014-01-01 00:48:45         True"
      ]
     },
     "execution_count": 6,
     "metadata": {},
     "output_type": "execute_result"
    }
   ],
   "source": [
    "labels = labels.threshold(1200)\n",
    "\n",
    "labels.head()"
   ]
  },
  {
   "cell_type": "raw",
   "metadata": {
    "raw_mimetype": "text/restructuredtext"
   },
   "source": [
    "Lead Label Times\n",
    "~~~~~~~~~~~~~~~~\n",
    "\n",
    "We also use :meth:`LabelTimes.apply_lead` to shift the label times 1 hour earlier for predicting in advance."
   ]
  },
  {
   "cell_type": "code",
   "execution_count": 7,
   "metadata": {},
   "outputs": [
    {
     "data": {
      "text/html": [
       "<div>\n",
       "<style scoped>\n",
       "    .dataframe tbody tr th:only-of-type {\n",
       "        vertical-align: middle;\n",
       "    }\n",
       "\n",
       "    .dataframe tbody tr th {\n",
       "        vertical-align: top;\n",
       "    }\n",
       "\n",
       "    .dataframe thead th {\n",
       "        text-align: right;\n",
       "    }\n",
       "</style>\n",
       "<table border=\"1\" class=\"dataframe\">\n",
       "  <thead>\n",
       "    <tr style=\"text-align: right;\">\n",
       "      <th></th>\n",
       "      <th>customer_id</th>\n",
       "      <th>time</th>\n",
       "      <th>total_spent</th>\n",
       "    </tr>\n",
       "    <tr>\n",
       "      <th>id</th>\n",
       "      <th></th>\n",
       "      <th></th>\n",
       "      <th></th>\n",
       "    </tr>\n",
       "  </thead>\n",
       "  <tbody>\n",
       "    <tr>\n",
       "      <th>0</th>\n",
       "      <td>1</td>\n",
       "      <td>2013-12-31 23:44:25</td>\n",
       "      <td>True</td>\n",
       "    </tr>\n",
       "    <tr>\n",
       "      <th>1</th>\n",
       "      <td>1</td>\n",
       "      <td>2013-12-31 23:45:30</td>\n",
       "      <td>True</td>\n",
       "    </tr>\n",
       "    <tr>\n",
       "      <th>2</th>\n",
       "      <td>1</td>\n",
       "      <td>2013-12-31 23:46:35</td>\n",
       "      <td>True</td>\n",
       "    </tr>\n",
       "    <tr>\n",
       "      <th>3</th>\n",
       "      <td>1</td>\n",
       "      <td>2013-12-31 23:47:40</td>\n",
       "      <td>True</td>\n",
       "    </tr>\n",
       "    <tr>\n",
       "      <th>4</th>\n",
       "      <td>1</td>\n",
       "      <td>2013-12-31 23:48:45</td>\n",
       "      <td>True</td>\n",
       "    </tr>\n",
       "  </tbody>\n",
       "</table>\n",
       "</div>"
      ],
      "text/plain": [
       "    customer_id                time  total_spent\n",
       "id                                              \n",
       "0             1 2013-12-31 23:44:25         True\n",
       "1             1 2013-12-31 23:45:30         True\n",
       "2             1 2013-12-31 23:46:35         True\n",
       "3             1 2013-12-31 23:47:40         True\n",
       "4             1 2013-12-31 23:48:45         True"
      ]
     },
     "execution_count": 7,
     "metadata": {},
     "output_type": "execute_result"
    }
   ],
   "source": [
    "labels = labels.apply_lead('1h')\n",
    "\n",
    "labels.head()"
   ]
  },
  {
   "cell_type": "raw",
   "metadata": {
    "raw_mimetype": "text/restructuredtext"
   },
   "source": [
    "Describe Labels\n",
    "---------------\n",
    "\n",
    "After transforming the labels, we could use :meth:`LabelTimes.describe` to print out the distribution with the settings and transforms that were used to make the labels. This is useful as a reference for understanding how the labels were generated from raw data. Also, the label distribution is helpful for determining if we have imbalanced labels."
   ]
  },
  {
   "cell_type": "code",
   "execution_count": 8,
   "metadata": {},
   "outputs": [
    {
     "name": "stdout",
     "output_type": "stream",
     "text": [
      "Label Distribution\n",
      "------------------\n",
      "False     248\n",
      "True      252\n",
      "Total:    500\n",
      "\n",
      "\n",
      "Settings\n",
      "--------\n",
      "gap                                    1\n",
      "label_type                      discrete\n",
      "labeling_function            total_spent\n",
      "minimum_data                        None\n",
      "num_examples_per_instance             -1\n",
      "target_entity                customer_id\n",
      "window_size                       <Hour>\n",
      "\n",
      "\n",
      "Transforms\n",
      "----------\n",
      "1. threshold\n",
      "  - value:    1200\n",
      "\n",
      "2. apply_lead\n",
      "  - value:    1h\n",
      "\n"
     ]
    }
   ],
   "source": [
    "labels.describe()"
   ]
  },
  {
   "cell_type": "raw",
   "metadata": {
    "raw_mimetype": "text/restructuredtext"
   },
   "source": [
    ".. currentmodule:: featuretools\n",
    "\n",
    "Generate Features\n",
    "=================\n",
    "\n",
    "Now with the generated labels, we are ready to generate features for our prediction problem.\n",
    "\n",
    "Create Entity Set\n",
    "-----------------\n",
    "\n",
    "Let's construct an :class:`EntitySet` and load the transactions as an entity by using :meth:`EntitySet.entity_from_dataframe`. Then extract additional entities by using :meth:`EntitySet.normalize_entity`."
   ]
  },
  {
   "cell_type": "code",
   "execution_count": 9,
   "metadata": {},
   "outputs": [],
   "source": [
    "es = ft.EntitySet('transactions')\n",
    "\n",
    "es.entity_from_dataframe(\n",
    "    'transactions',\n",
    "    transactions,\n",
    "    index='transaction_id',\n",
    "    time_index='transaction_time',\n",
    ")\n",
    "\n",
    "es.normalize_entity(\n",
    "    base_entity_id='transactions',\n",
    "    new_entity_id='sessions',\n",
    "    index='session_id',\n",
    "    make_time_index='session_start',\n",
    "    additional_variables=[\n",
    "        'device',\n",
    "        'customer_id',\n",
    "        'zip_code',\n",
    "        'session_start',\n",
    "        'join_date',\n",
    "        'date_of_birth',\n",
    "    ],\n",
    ")\n",
    "\n",
    "es.normalize_entity(\n",
    "    base_entity_id='sessions',\n",
    "    new_entity_id='customers',\n",
    "    index='customer_id',\n",
    "    make_time_index='join_date',\n",
    "    additional_variables=[\n",
    "        'zip_code',\n",
    "        'join_date',\n",
    "        'date_of_birth',\n",
    "    ],\n",
    ")\n",
    "\n",
    "es.normalize_entity(\n",
    "    base_entity_id='transactions',\n",
    "    new_entity_id='products',\n",
    "    index='product_id',\n",
    "    additional_variables=['brand'],\n",
    "    make_time_index=False,\n",
    ")\n",
    "\n",
    "es.add_last_time_indexes()"
   ]
  },
  {
   "cell_type": "raw",
   "metadata": {
    "raw_mimetype": "text/restructuredtext"
   },
   "source": [
    "Describe Entity Set\n",
    "-------------------\n",
    "\n",
    "To get information on how the entity set is structured, we could print the entity set and use :meth:`EntitySet.plot` to create a diagram."
   ]
  },
  {
   "cell_type": "code",
   "execution_count": 10,
   "metadata": {},
   "outputs": [
    {
     "name": "stdout",
     "output_type": "stream",
     "text": [
      "Entityset: transactions\n",
      "  Entities:\n",
      "    transactions [Rows: 500, Columns: 5]\n",
      "    sessions [Rows: 35, Columns: 4]\n",
      "    customers [Rows: 5, Columns: 4]\n",
      "    products [Rows: 5, Columns: 2]\n",
      "  Relationships:\n",
      "    transactions.session_id -> sessions.session_id\n",
      "    sessions.customer_id -> customers.customer_id\n",
      "    transactions.product_id -> products.product_id\n",
      "\n"
     ]
    },
    {
     "data": {
      "image/svg+xml": [
       "<?xml version=\"1.0\" encoding=\"UTF-8\" standalone=\"no\"?>\n",
       "<!DOCTYPE svg PUBLIC \"-//W3C//DTD SVG 1.1//EN\"\n",
       " \"http://www.w3.org/Graphics/SVG/1.1/DTD/svg11.dtd\">\n",
       "<!-- Generated by graphviz version 2.43.0 (0)\n",
       " -->\n",
       "<!-- Title: transactions Pages: 1 -->\n",
       "<svg width=\"362pt\" height=\"355pt\"\n",
       " viewBox=\"0.00 0.00 362.40 355.00\" xmlns=\"http://www.w3.org/2000/svg\" xmlns:xlink=\"http://www.w3.org/1999/xlink\">\n",
       "<g id=\"graph0\" class=\"graph\" transform=\"scale(1 1) rotate(0) translate(4 351)\">\n",
       "<title>transactions</title>\n",
       "<polygon fill=\"white\" stroke=\"transparent\" points=\"-4,4 -4,-351 358.4,-351 358.4,4 -4,4\"/>\n",
       "<!-- transactions -->\n",
       "<g id=\"node1\" class=\"node\">\n",
       "<title>transactions</title>\n",
       "<polygon fill=\"none\" stroke=\"black\" points=\"82.12,-246.5 82.12,-346.5 320.5,-346.5 320.5,-246.5 82.12,-246.5\"/>\n",
       "<text text-anchor=\"middle\" x=\"201.31\" y=\"-331.3\" font-family=\"Times,serif\" font-size=\"14.00\">transactions (500 rows)</text>\n",
       "<polyline fill=\"none\" stroke=\"black\" points=\"82.12,-324.5 320.5,-324.5 \"/>\n",
       "<text text-anchor=\"start\" x=\"90.12\" y=\"-309.3\" font-family=\"Times,serif\" font-size=\"14.00\">transaction_id : index</text>\n",
       "<text text-anchor=\"start\" x=\"90.12\" y=\"-295.3\" font-family=\"Times,serif\" font-size=\"14.00\">session_id : id</text>\n",
       "<text text-anchor=\"start\" x=\"90.12\" y=\"-281.3\" font-family=\"Times,serif\" font-size=\"14.00\">transaction_time : datetime_time_index</text>\n",
       "<text text-anchor=\"start\" x=\"90.12\" y=\"-267.3\" font-family=\"Times,serif\" font-size=\"14.00\">product_id : id</text>\n",
       "<text text-anchor=\"start\" x=\"90.12\" y=\"-253.3\" font-family=\"Times,serif\" font-size=\"14.00\">amount : numeric</text>\n",
       "</g>\n",
       "<!-- sessions -->\n",
       "<g id=\"node2\" class=\"node\">\n",
       "<title>sessions</title>\n",
       "<polygon fill=\"none\" stroke=\"black\" points=\"0,-123.5 0,-209.5 216.63,-209.5 216.63,-123.5 0,-123.5\"/>\n",
       "<text text-anchor=\"middle\" x=\"108.31\" y=\"-194.3\" font-family=\"Times,serif\" font-size=\"14.00\">sessions (35 rows)</text>\n",
       "<polyline fill=\"none\" stroke=\"black\" points=\"0,-187.5 216.63,-187.5 \"/>\n",
       "<text text-anchor=\"start\" x=\"8\" y=\"-172.3\" font-family=\"Times,serif\" font-size=\"14.00\">session_id : index</text>\n",
       "<text text-anchor=\"start\" x=\"8\" y=\"-158.3\" font-family=\"Times,serif\" font-size=\"14.00\">device : categorical</text>\n",
       "<text text-anchor=\"start\" x=\"8\" y=\"-144.3\" font-family=\"Times,serif\" font-size=\"14.00\">customer_id : id</text>\n",
       "<text text-anchor=\"start\" x=\"8\" y=\"-130.3\" font-family=\"Times,serif\" font-size=\"14.00\">session_start : datetime_time_index</text>\n",
       "</g>\n",
       "<!-- transactions&#45;&gt;sessions -->\n",
       "<g id=\"edge1\" class=\"edge\">\n",
       "<title>transactions&#45;&gt;sessions</title>\n",
       "<path fill=\"none\" stroke=\"black\" d=\"M149.38,-246.24C149.38,-246.24 149.38,-219.86 149.38,-219.86\"/>\n",
       "<polygon fill=\"black\" stroke=\"black\" points=\"152.88,-219.86 149.38,-209.86 145.88,-219.86 152.88,-219.86\"/>\n",
       "<text text-anchor=\"middle\" x=\"120.21\" y=\"-221.85\" font-family=\"Times,serif\" font-size=\"14.00\">session_id</text>\n",
       "</g>\n",
       "<!-- products -->\n",
       "<g id=\"node4\" class=\"node\">\n",
       "<title>products</title>\n",
       "<polygon fill=\"none\" stroke=\"black\" points=\"234.23,-137.5 234.23,-195.5 354.4,-195.5 354.4,-137.5 234.23,-137.5\"/>\n",
       "<text text-anchor=\"middle\" x=\"294.31\" y=\"-180.3\" font-family=\"Times,serif\" font-size=\"14.00\">products (5 rows)</text>\n",
       "<polyline fill=\"none\" stroke=\"black\" points=\"234.23,-173.5 354.4,-173.5 \"/>\n",
       "<text text-anchor=\"start\" x=\"242.23\" y=\"-158.3\" font-family=\"Times,serif\" font-size=\"14.00\">product_id : index</text>\n",
       "<text text-anchor=\"start\" x=\"242.23\" y=\"-144.3\" font-family=\"Times,serif\" font-size=\"14.00\">brand : categorical</text>\n",
       "</g>\n",
       "<!-- transactions&#45;&gt;products -->\n",
       "<g id=\"edge3\" class=\"edge\">\n",
       "<title>transactions&#45;&gt;products</title>\n",
       "<path fill=\"none\" stroke=\"black\" d=\"M277.37,-246.24C277.37,-246.24 277.37,-205.58 277.37,-205.58\"/>\n",
       "<polygon fill=\"black\" stroke=\"black\" points=\"280.87,-205.58 277.37,-195.58 273.87,-205.58 280.87,-205.58\"/>\n",
       "<text text-anchor=\"middle\" x=\"247.04\" y=\"-228.71\" font-family=\"Times,serif\" font-size=\"14.00\">product_id</text>\n",
       "</g>\n",
       "<!-- customers -->\n",
       "<g id=\"node3\" class=\"node\">\n",
       "<title>customers</title>\n",
       "<polygon fill=\"none\" stroke=\"black\" points=\"9.73,-0.5 9.73,-86.5 206.9,-86.5 206.9,-0.5 9.73,-0.5\"/>\n",
       "<text text-anchor=\"middle\" x=\"108.31\" y=\"-71.3\" font-family=\"Times,serif\" font-size=\"14.00\">customers (5 rows)</text>\n",
       "<polyline fill=\"none\" stroke=\"black\" points=\"9.73,-64.5 206.9,-64.5 \"/>\n",
       "<text text-anchor=\"start\" x=\"17.73\" y=\"-49.3\" font-family=\"Times,serif\" font-size=\"14.00\">customer_id : index</text>\n",
       "<text text-anchor=\"start\" x=\"17.73\" y=\"-35.3\" font-family=\"Times,serif\" font-size=\"14.00\">zip_code : categorical</text>\n",
       "<text text-anchor=\"start\" x=\"17.73\" y=\"-21.3\" font-family=\"Times,serif\" font-size=\"14.00\">join_date : datetime_time_index</text>\n",
       "<text text-anchor=\"start\" x=\"17.73\" y=\"-7.3\" font-family=\"Times,serif\" font-size=\"14.00\">date_of_birth : datetime</text>\n",
       "</g>\n",
       "<!-- sessions&#45;&gt;customers -->\n",
       "<g id=\"edge2\" class=\"edge\">\n",
       "<title>sessions&#45;&gt;customers</title>\n",
       "<path fill=\"none\" stroke=\"black\" d=\"M108.31,-123.48C108.31,-123.48 108.31,-96.7 108.31,-96.7\"/>\n",
       "<polygon fill=\"black\" stroke=\"black\" points=\"111.81,-96.7 108.31,-86.7 104.81,-96.7 111.81,-96.7\"/>\n",
       "<text text-anchor=\"middle\" x=\"73.71\" y=\"-98.89\" font-family=\"Times,serif\" font-size=\"14.00\">customer_id</text>\n",
       "</g>\n",
       "</g>\n",
       "</svg>\n"
      ],
      "text/plain": [
       "<graphviz.dot.Digraph at 0x1515e6b50>"
      ]
     },
     "execution_count": 10,
     "metadata": {},
     "output_type": "execute_result"
    }
   ],
   "source": [
    "print(es, end='\\n\\n')\n",
    "\n",
    "es.plot()"
   ]
  },
  {
   "cell_type": "raw",
   "metadata": {
    "raw_mimetype": "text/restructuredtext"
   },
   "source": [
    "Create Feature Matrix\n",
    "---------------------\n",
    "\n",
    "Next, we generate features that correspond to the labels created previously by using :func:`dfs`. The :code:`target_entity` is set to :code:`customers` so that features are only calculated for customers. The :code:`cutoff_time` is set to the labels so that features are calculated only using data up to and including the label cutoff times. Notice that the output of Compose integrates easily with Featuretools."
   ]
  },
  {
   "cell_type": "code",
   "execution_count": 11,
   "metadata": {
    "scrolled": true
   },
   "outputs": [
    {
     "name": "stdout",
     "output_type": "stream",
     "text": [
      "Built 77 features\n",
      "Elapsed: 00:51 | Progress: 100%|██████████\n"
     ]
    }
   ],
   "source": [
    "feature_matrix, features_defs = ft.dfs(\n",
    "    entityset=es,\n",
    "    target_entity='customers',\n",
    "    cutoff_time=labels,\n",
    "    cutoff_time_in_index=True,\n",
    "    verbose=True,\n",
    ")"
   ]
  },
  {
   "cell_type": "raw",
   "metadata": {
    "raw_mimetype": "text/restructuredtext"
   },
   "source": [
    "Describe Features\n",
    "-----------------\n",
    "\n",
    "To get an idea on how the generated features look, we preview the feature definitions."
   ]
  },
  {
   "cell_type": "code",
   "execution_count": 12,
   "metadata": {},
   "outputs": [
    {
     "data": {
      "text/plain": [
       "[<Feature: zip_code>,\n",
       " <Feature: COUNT(sessions)>,\n",
       " <Feature: NUM_UNIQUE(sessions.device)>,\n",
       " <Feature: MODE(sessions.device)>,\n",
       " <Feature: SUM(transactions.amount)>,\n",
       " <Feature: STD(transactions.amount)>,\n",
       " <Feature: MAX(transactions.amount)>,\n",
       " <Feature: SKEW(transactions.amount)>,\n",
       " <Feature: MIN(transactions.amount)>,\n",
       " <Feature: MEAN(transactions.amount)>,\n",
       " <Feature: COUNT(transactions)>,\n",
       " <Feature: NUM_UNIQUE(transactions.product_id)>,\n",
       " <Feature: MODE(transactions.product_id)>,\n",
       " <Feature: DAY(date_of_birth)>,\n",
       " <Feature: DAY(join_date)>,\n",
       " <Feature: YEAR(date_of_birth)>,\n",
       " <Feature: YEAR(join_date)>,\n",
       " <Feature: MONTH(date_of_birth)>,\n",
       " <Feature: MONTH(join_date)>,\n",
       " <Feature: WEEKDAY(date_of_birth)>]"
      ]
     },
     "execution_count": 12,
     "metadata": {},
     "output_type": "execute_result"
    }
   ],
   "source": [
    "features_defs[:20]"
   ]
  },
  {
   "cell_type": "raw",
   "metadata": {
    "raw_mimetype": "text/restructuredtext"
   },
   "source": [
    "Machine Learning\n",
    "================\n",
    "\n",
    "Now with the generated labels and features, we are ready to create a machine learning model for our prediction problem."
   ]
  },
  {
   "cell_type": "raw",
   "metadata": {
    "raw_mimetype": "text/restructuredtext"
   },
   "source": [
    "Preprocess Features\n",
    "-------------------\n",
    "\n",
    "In the feature matrix, let's extract the labels and fill any missing values with zeros. Then, one-hot encode all categorical features by using :func:`encode_features`. "
   ]
  },
  {
   "cell_type": "code",
   "execution_count": 13,
   "metadata": {},
   "outputs": [],
   "source": [
    "y = feature_matrix.pop('total_spent')\n",
    "x = feature_matrix.fillna(0)\n",
    "x, features_enc = ft.encode_features(x, features_defs)"
   ]
  },
  {
   "cell_type": "raw",
   "metadata": {
    "raw_mimetype": "text/restructuredtext"
   },
   "source": [
    "Split Labels and Features\n",
    "-------------------------\n",
    "\n",
    "After preprocessing, we split the features and corresponding labels each into training and testing sets."
   ]
  },
  {
   "cell_type": "code",
   "execution_count": 14,
   "metadata": {},
   "outputs": [],
   "source": [
    "x_train, x_test, y_train, y_test = train_test_split(\n",
    "    x,\n",
    "    y,\n",
    "    train_size=.8,\n",
    "    test_size=.2,\n",
    "    random_state=0,\n",
    ")"
   ]
  },
  {
   "cell_type": "raw",
   "metadata": {
    "raw_mimetype": "text/restructuredtext"
   },
   "source": [
    "Train Model\n",
    "-----------\n",
    "\n",
    "Next, we train a random forest classifer on the training set."
   ]
  },
  {
   "cell_type": "code",
   "execution_count": 15,
   "metadata": {},
   "outputs": [
    {
     "data": {
      "text/plain": [
       "RandomForestClassifier(bootstrap=True, class_weight=None, criterion='gini',\n",
       "                       max_depth=None, max_features='auto', max_leaf_nodes=None,\n",
       "                       min_impurity_decrease=0.0, min_impurity_split=None,\n",
       "                       min_samples_leaf=1, min_samples_split=2,\n",
       "                       min_weight_fraction_leaf=0.0, n_estimators=10,\n",
       "                       n_jobs=None, oob_score=False, random_state=0, verbose=0,\n",
       "                       warm_start=False)"
      ]
     },
     "execution_count": 15,
     "metadata": {},
     "output_type": "execute_result"
    }
   ],
   "source": [
    "clf = RandomForestClassifier(n_estimators=10, random_state=0)\n",
    "\n",
    "clf.fit(x_train, y_train)"
   ]
  },
  {
   "cell_type": "raw",
   "metadata": {
    "raw_mimetype": "text/restructuredtext"
   },
   "source": [
    "Test Model\n",
    "----------\n",
    "\n",
    "Lastly, we test the model performance by evaluating predictions on the testing set."
   ]
  },
  {
   "cell_type": "code",
   "execution_count": 16,
   "metadata": {},
   "outputs": [
    {
     "name": "stdout",
     "output_type": "stream",
     "text": [
      "              precision    recall  f1-score   support\n",
      "\n",
      "       False       0.79      0.90      0.84        49\n",
      "        True       0.89      0.76      0.82        51\n",
      "\n",
      "    accuracy                           0.83       100\n",
      "   macro avg       0.84      0.83      0.83       100\n",
      "weighted avg       0.84      0.83      0.83       100\n",
      "\n"
     ]
    }
   ],
   "source": [
    "y_hat = clf.predict(x_test)\n",
    "\n",
    "print(classification_report(y_test, y_hat))"
   ]
  },
  {
   "cell_type": "raw",
   "metadata": {
    "raw_mimetype": "text/restructuredtext"
   },
   "source": [
    "Feature Importances\n",
    "-------------------\n",
    "\n",
    "This plot is based on scores obtained by the model to illustrate which features are considered important for predictions."
   ]
  },
  {
   "cell_type": "code",
   "execution_count": 17,
   "metadata": {},
   "outputs": [
    {
     "data": {
      "image/png": "[encoded data removed]",
      "text/plain": [
       "<Figure size 360x864 with 1 Axes>"
      ]
     },
     "metadata": {
      "needs_background": "light"
     },
     "output_type": "display_data"
    }
   ],
   "source": [
    "feature_importances = zip(x_train.columns, clf.feature_importances_)\n",
    "feature_importances = pd.Series(dict(feature_importances))\n",
    "feature_importances = feature_importances.rename_axis('Features')\n",
    "feature_importances = feature_importances.sort_values()\n",
    "\n",
    "top_features = feature_importances.tail(40)\n",
    "plot = top_features.plot(kind='barh', figsize=(5, 12), color='#054571')\n",
    "plot.set_title('Feature Importances')\n",
    "plot.set_xlabel('Scores');"
   ]
  }
 ],
 "metadata": {
  "celltoolbar": "Raw Cell Format",
  "kernelspec": {
   "display_name": "Python 3",
   "language": "python",
   "name": "python3"
  },
  "language_info": {
   "codemirror_mode": {
    "name": "ipython",
    "version": 3
   },
   "file_extension": ".py",
   "mimetype": "text/x-python",
   "name": "python",
   "nbconvert_exporter": "python",
   "pygments_lexer": "ipython3",
   "version": "3.7.5"
  }
 },
 "nbformat": 4,
 "nbformat_minor": 4
}
