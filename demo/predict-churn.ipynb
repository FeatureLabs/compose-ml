{
 "cells": [
  {
   "cell_type": "markdown",
   "metadata": {},
   "source": [
    "# Predict Churn"
   ]
  },
  {
   "cell_type": "code",
   "execution_count": 1,
   "metadata": {},
   "outputs": [],
   "source": [
    "%matplotlib inline\n",
    "import composeml as cp\n",
    "import pandas as pd"
   ]
  },
  {
   "cell_type": "markdown",
   "metadata": {},
   "source": [
    "## Load Data"
   ]
  },
  {
   "cell_type": "code",
   "execution_count": 2,
   "metadata": {},
   "outputs": [],
   "source": [
    "PARTITION = '100'\n",
    "BASE_DIR = 's3://customer-churn-spark/'\n",
    "PARTITION_DIR = BASE_DIR + 'p' + PARTITION\n",
    "transactions = f'{PARTITION_DIR}/transactions.csv'"
   ]
  },
  {
   "cell_type": "code",
   "execution_count": 3,
   "metadata": {},
   "outputs": [
    {
     "data": {
      "text/html": [
       "<div>\n",
       "<style scoped>\n",
       "    .dataframe tbody tr th:only-of-type {\n",
       "        vertical-align: middle;\n",
       "    }\n",
       "\n",
       "    .dataframe tbody tr th {\n",
       "        vertical-align: top;\n",
       "    }\n",
       "\n",
       "    .dataframe thead th {\n",
       "        text-align: right;\n",
       "    }\n",
       "</style>\n",
       "<table border=\"1\" class=\"dataframe\">\n",
       "  <thead>\n",
       "    <tr style=\"text-align: right;\">\n",
       "      <th></th>\n",
       "      <th>msno</th>\n",
       "      <th>payment_method_id</th>\n",
       "      <th>payment_plan_days</th>\n",
       "      <th>plan_list_price</th>\n",
       "      <th>actual_amount_paid</th>\n",
       "      <th>is_auto_renew</th>\n",
       "      <th>transaction_date</th>\n",
       "      <th>membership_expire_date</th>\n",
       "      <th>is_cancel</th>\n",
       "    </tr>\n",
       "  </thead>\n",
       "  <tbody>\n",
       "    <tr>\n",
       "      <th>0</th>\n",
       "      <td>G7TmHc9Gg2t8ovG/KFaB53We/0CQPELhZ5UUN2Ol3AQ=</td>\n",
       "      <td>39</td>\n",
       "      <td>30</td>\n",
       "      <td>149</td>\n",
       "      <td>149</td>\n",
       "      <td>1</td>\n",
       "      <td>2015-09-30</td>\n",
       "      <td>2015-11-13</td>\n",
       "      <td>0</td>\n",
       "    </tr>\n",
       "    <tr>\n",
       "      <th>1</th>\n",
       "      <td>LPbp8N7VRuqEISEVim8ppTaeYJG/rWS/t4g/dEFuWjw=</td>\n",
       "      <td>34</td>\n",
       "      <td>30</td>\n",
       "      <td>149</td>\n",
       "      <td>149</td>\n",
       "      <td>1</td>\n",
       "      <td>2016-02-29</td>\n",
       "      <td>2016-03-31</td>\n",
       "      <td>0</td>\n",
       "    </tr>\n",
       "    <tr>\n",
       "      <th>2</th>\n",
       "      <td>xvYqULBWzJvN8heyFtY3hbY3egyQNbXuDx0igtsoi00=</td>\n",
       "      <td>29</td>\n",
       "      <td>30</td>\n",
       "      <td>180</td>\n",
       "      <td>180</td>\n",
       "      <td>1</td>\n",
       "      <td>2017-01-31</td>\n",
       "      <td>2017-03-01</td>\n",
       "      <td>0</td>\n",
       "    </tr>\n",
       "    <tr>\n",
       "      <th>3</th>\n",
       "      <td>UR4iin4mAkajoa7o+AyTTmz5k3N2GR3/rZY8a4KwADI=</td>\n",
       "      <td>41</td>\n",
       "      <td>30</td>\n",
       "      <td>99</td>\n",
       "      <td>99</td>\n",
       "      <td>1</td>\n",
       "      <td>2017-01-31</td>\n",
       "      <td>2017-02-28</td>\n",
       "      <td>0</td>\n",
       "    </tr>\n",
       "    <tr>\n",
       "      <th>4</th>\n",
       "      <td>ax8CRhY8BMRA/ZvT1wI+2N/EdPXiSPGxa9y7bntA1Uc=</td>\n",
       "      <td>40</td>\n",
       "      <td>30</td>\n",
       "      <td>149</td>\n",
       "      <td>149</td>\n",
       "      <td>1</td>\n",
       "      <td>2016-05-04</td>\n",
       "      <td>2016-06-08</td>\n",
       "      <td>0</td>\n",
       "    </tr>\n",
       "  </tbody>\n",
       "</table>\n",
       "</div>"
      ],
      "text/plain": [
       "                                           msno  payment_method_id  \\\n",
       "0  G7TmHc9Gg2t8ovG/KFaB53We/0CQPELhZ5UUN2Ol3AQ=                 39   \n",
       "1  LPbp8N7VRuqEISEVim8ppTaeYJG/rWS/t4g/dEFuWjw=                 34   \n",
       "2  xvYqULBWzJvN8heyFtY3hbY3egyQNbXuDx0igtsoi00=                 29   \n",
       "3  UR4iin4mAkajoa7o+AyTTmz5k3N2GR3/rZY8a4KwADI=                 41   \n",
       "4  ax8CRhY8BMRA/ZvT1wI+2N/EdPXiSPGxa9y7bntA1Uc=                 40   \n",
       "\n",
       "   payment_plan_days  plan_list_price  actual_amount_paid  is_auto_renew  \\\n",
       "0                 30              149                 149              1   \n",
       "1                 30              149                 149              1   \n",
       "2                 30              180                 180              1   \n",
       "3                 30               99                  99              1   \n",
       "4                 30              149                 149              1   \n",
       "\n",
       "  transaction_date membership_expire_date  is_cancel  \n",
       "0       2015-09-30             2015-11-13          0  \n",
       "1       2016-02-29             2016-03-31          0  \n",
       "2       2017-01-31             2017-03-01          0  \n",
       "3       2017-01-31             2017-02-28          0  \n",
       "4       2016-05-04             2016-06-08          0  "
      ]
     },
     "execution_count": 3,
     "metadata": {},
     "output_type": "execute_result"
    }
   ],
   "source": [
    "transactions = pd.read_csv(\n",
    "    transactions,\n",
    "    parse_dates=['transaction_date', 'membership_expire_date'],\n",
    "    infer_datetime_format=True,\n",
    ")\n",
    "\n",
    "transactions.head()"
   ]
  },
  {
   "cell_type": "markdown",
   "metadata": {},
   "source": [
    "## Generate Labels\n",
    "\n",
    "### Create Times for Beginning of the Month"
   ]
  },
  {
   "cell_type": "code",
   "execution_count": 4,
   "metadata": {},
   "outputs": [
    {
     "data": {
      "text/html": [
       "<div>\n",
       "<style scoped>\n",
       "    .dataframe tbody tr th:only-of-type {\n",
       "        vertical-align: middle;\n",
       "    }\n",
       "\n",
       "    .dataframe tbody tr th {\n",
       "        vertical-align: top;\n",
       "    }\n",
       "\n",
       "    .dataframe thead th {\n",
       "        text-align: right;\n",
       "    }\n",
       "</style>\n",
       "<table border=\"1\" class=\"dataframe\">\n",
       "  <thead>\n",
       "    <tr style=\"text-align: right;\">\n",
       "      <th></th>\n",
       "      <th>msno</th>\n",
       "      <th>lead_time</th>\n",
       "      <th>membership_expire_date</th>\n",
       "    </tr>\n",
       "  </thead>\n",
       "  <tbody>\n",
       "    <tr>\n",
       "      <th>0</th>\n",
       "      <td>G7TmHc9Gg2t8ovG/KFaB53We/0CQPELhZ5UUN2Ol3AQ=</td>\n",
       "      <td>2015-11-01</td>\n",
       "      <td>2015-11-13</td>\n",
       "    </tr>\n",
       "    <tr>\n",
       "      <th>1</th>\n",
       "      <td>LPbp8N7VRuqEISEVim8ppTaeYJG/rWS/t4g/dEFuWjw=</td>\n",
       "      <td>2016-03-01</td>\n",
       "      <td>2016-03-31</td>\n",
       "    </tr>\n",
       "    <tr>\n",
       "      <th>2</th>\n",
       "      <td>xvYqULBWzJvN8heyFtY3hbY3egyQNbXuDx0igtsoi00=</td>\n",
       "      <td>2017-03-01</td>\n",
       "      <td>2017-03-01</td>\n",
       "    </tr>\n",
       "    <tr>\n",
       "      <th>3</th>\n",
       "      <td>UR4iin4mAkajoa7o+AyTTmz5k3N2GR3/rZY8a4KwADI=</td>\n",
       "      <td>2017-02-01</td>\n",
       "      <td>2017-02-28</td>\n",
       "    </tr>\n",
       "    <tr>\n",
       "      <th>4</th>\n",
       "      <td>ax8CRhY8BMRA/ZvT1wI+2N/EdPXiSPGxa9y7bntA1Uc=</td>\n",
       "      <td>2016-06-01</td>\n",
       "      <td>2016-06-08</td>\n",
       "    </tr>\n",
       "  </tbody>\n",
       "</table>\n",
       "</div>"
      ],
      "text/plain": [
       "                                           msno  lead_time  \\\n",
       "0  G7TmHc9Gg2t8ovG/KFaB53We/0CQPELhZ5UUN2Ol3AQ= 2015-11-01   \n",
       "1  LPbp8N7VRuqEISEVim8ppTaeYJG/rWS/t4g/dEFuWjw= 2016-03-01   \n",
       "2  xvYqULBWzJvN8heyFtY3hbY3egyQNbXuDx0igtsoi00= 2017-03-01   \n",
       "3  UR4iin4mAkajoa7o+AyTTmz5k3N2GR3/rZY8a4KwADI= 2017-02-01   \n",
       "4  ax8CRhY8BMRA/ZvT1wI+2N/EdPXiSPGxa9y7bntA1Uc= 2016-06-01   \n",
       "\n",
       "  membership_expire_date  \n",
       "0             2015-11-13  \n",
       "1             2016-03-31  \n",
       "2             2017-03-01  \n",
       "3             2017-02-28  \n",
       "4             2016-06-08  "
      ]
     },
     "execution_count": 4,
     "metadata": {},
     "output_type": "execute_result"
    }
   ],
   "source": [
    "month_begin = pd.offsets.MonthBegin()\n",
    "expire_date = transactions['membership_expire_date']\n",
    "transactions['lead_time'] = expire_date.apply(month_begin.rollback)\n",
    "transactions[['msno', 'lead_time', 'membership_expire_date']].head()"
   ]
  },
  {
   "cell_type": "markdown",
   "metadata": {},
   "source": [
    "### Create Labeling Function"
   ]
  },
  {
   "cell_type": "code",
   "execution_count": 5,
   "metadata": {},
   "outputs": [],
   "source": [
    "def inactive_membership(transactions, window):  \n",
    "    if len(transactions) == 1:\n",
    "        cutoff_time, end_time = window\n",
    "        elapsed_inactive = end_time - transactions['membership_expire_date'].iloc[0]\n",
    "        return elapsed_inactive\n",
    "    \n",
    "    transactions = transactions.sort_values('transaction_date')\n",
    "    membership_expire_date = transactions['membership_expire_date'].iloc[0]\n",
    "    next_transaction_date = transactions['transaction_date'].iloc[1]\n",
    "    elapsed_inactive = next_transaction_date - membership_expire_date\n",
    "\n",
    "    return elapsed_inactive"
   ]
  },
  {
   "cell_type": "markdown",
   "metadata": {},
   "source": [
    "### Construct Label Maker"
   ]
  },
  {
   "cell_type": "code",
   "execution_count": 6,
   "metadata": {},
   "outputs": [],
   "source": [
    "label_maker = cp.LabelMaker(\n",
    "    target_entity='msno',\n",
    "    time_index='lead_time',\n",
    "    labeling_function=inactive_membership,\n",
    "    window_size='100d',\n",
    ")"
   ]
  },
  {
   "cell_type": "markdown",
   "metadata": {},
   "source": [
    "### Search Labels"
   ]
  },
  {
   "cell_type": "code",
   "execution_count": 7,
   "metadata": {},
   "outputs": [
    {
     "name": "stdout",
     "output_type": "stream",
     "text": [
      "Elapsed: 00:31 | Remaining: 00:00 | Progress: 100%|██████████| msno: 4978/4978 \n"
     ]
    },
    {
     "data": {
      "text/html": [
       "<div>\n",
       "<style scoped>\n",
       "    .dataframe tbody tr th:only-of-type {\n",
       "        vertical-align: middle;\n",
       "    }\n",
       "\n",
       "    .dataframe tbody tr th {\n",
       "        vertical-align: top;\n",
       "    }\n",
       "\n",
       "    .dataframe thead th {\n",
       "        text-align: right;\n",
       "    }\n",
       "</style>\n",
       "<table border=\"1\" class=\"dataframe\">\n",
       "  <thead>\n",
       "    <tr style=\"text-align: right;\">\n",
       "      <th></th>\n",
       "      <th>msno</th>\n",
       "      <th>cutoff_time</th>\n",
       "      <th>inactive_membership</th>\n",
       "    </tr>\n",
       "    <tr>\n",
       "      <th>label_id</th>\n",
       "      <th></th>\n",
       "      <th></th>\n",
       "      <th></th>\n",
       "    </tr>\n",
       "  </thead>\n",
       "  <tbody>\n",
       "    <tr>\n",
       "      <th>0</th>\n",
       "      <td>+/6nRSzfF+CIynhnBM5xz8J6ArlSdLY74gsNK09dbes=</td>\n",
       "      <td>2015-06-01</td>\n",
       "      <td>86 days</td>\n",
       "    </tr>\n",
       "    <tr>\n",
       "      <th>1</th>\n",
       "      <td>+1TKL6EWVDuKFAOvWZOsoGTILy2POMnxxvUgP7PPCy8=</td>\n",
       "      <td>2016-11-01</td>\n",
       "      <td>80 days</td>\n",
       "    </tr>\n",
       "    <tr>\n",
       "      <th>2</th>\n",
       "      <td>+58aOzMPOZSi0END5IUKzK009k/iGY9mB+k9s5qetAI=</td>\n",
       "      <td>2016-11-01</td>\n",
       "      <td>86 days</td>\n",
       "    </tr>\n",
       "    <tr>\n",
       "      <th>3</th>\n",
       "      <td>+6UN6VJD8u9vZm4lZRAREpzBRM4YoeOSWhEX0c5JBAU=</td>\n",
       "      <td>2016-09-01</td>\n",
       "      <td>76 days</td>\n",
       "    </tr>\n",
       "    <tr>\n",
       "      <th>4</th>\n",
       "      <td>+6UN6VJD8u9vZm4lZRAREpzBRM4YoeOSWhEX0c5JBAU=</td>\n",
       "      <td>2017-01-01</td>\n",
       "      <td>4 days</td>\n",
       "    </tr>\n",
       "  </tbody>\n",
       "</table>\n",
       "</div>"
      ],
      "text/plain": [
       "                                                  msno cutoff_time  \\\n",
       "label_id                                                             \n",
       "0         +/6nRSzfF+CIynhnBM5xz8J6ArlSdLY74gsNK09dbes=  2015-06-01   \n",
       "1         +1TKL6EWVDuKFAOvWZOsoGTILy2POMnxxvUgP7PPCy8=  2016-11-01   \n",
       "2         +58aOzMPOZSi0END5IUKzK009k/iGY9mB+k9s5qetAI=  2016-11-01   \n",
       "3         +6UN6VJD8u9vZm4lZRAREpzBRM4YoeOSWhEX0c5JBAU=  2016-09-01   \n",
       "4         +6UN6VJD8u9vZm4lZRAREpzBRM4YoeOSWhEX0c5JBAU=  2017-01-01   \n",
       "\n",
       "         inactive_membership  \n",
       "label_id                      \n",
       "0                    86 days  \n",
       "1                    80 days  \n",
       "2                    86 days  \n",
       "3                    76 days  \n",
       "4                     4 days  "
      ]
     },
     "execution_count": 7,
     "metadata": {},
     "output_type": "execute_result"
    }
   ],
   "source": [
    "label_times = label_maker.search(\n",
    "    transactions,\n",
    "    minimum_data=0,\n",
    "    num_examples_per_instance=2,\n",
    "    gap=1,\n",
    "    verbose=True,\n",
    ")\n",
    "\n",
    "label_times.head()"
   ]
  },
  {
   "cell_type": "markdown",
   "metadata": {},
   "source": [
    "### Bin Labels"
   ]
  },
  {
   "cell_type": "code",
   "execution_count": 8,
   "metadata": {},
   "outputs": [
    {
     "data": {
      "text/html": [
       "<div>\n",
       "<style scoped>\n",
       "    .dataframe tbody tr th:only-of-type {\n",
       "        vertical-align: middle;\n",
       "    }\n",
       "\n",
       "    .dataframe tbody tr th {\n",
       "        vertical-align: top;\n",
       "    }\n",
       "\n",
       "    .dataframe thead th {\n",
       "        text-align: right;\n",
       "    }\n",
       "</style>\n",
       "<table border=\"1\" class=\"dataframe\">\n",
       "  <thead>\n",
       "    <tr style=\"text-align: right;\">\n",
       "      <th></th>\n",
       "      <th>msno</th>\n",
       "      <th>cutoff_time</th>\n",
       "      <th>inactive_membership</th>\n",
       "    </tr>\n",
       "    <tr>\n",
       "      <th>label_id</th>\n",
       "      <th></th>\n",
       "      <th></th>\n",
       "      <th></th>\n",
       "    </tr>\n",
       "  </thead>\n",
       "  <tbody>\n",
       "    <tr>\n",
       "      <th>0</th>\n",
       "      <td>+/6nRSzfF+CIynhnBM5xz8J6ArlSdLY74gsNK09dbes=</td>\n",
       "      <td>2015-06-01</td>\n",
       "      <td>churn</td>\n",
       "    </tr>\n",
       "    <tr>\n",
       "      <th>1</th>\n",
       "      <td>+1TKL6EWVDuKFAOvWZOsoGTILy2POMnxxvUgP7PPCy8=</td>\n",
       "      <td>2016-11-01</td>\n",
       "      <td>churn</td>\n",
       "    </tr>\n",
       "    <tr>\n",
       "      <th>2</th>\n",
       "      <td>+58aOzMPOZSi0END5IUKzK009k/iGY9mB+k9s5qetAI=</td>\n",
       "      <td>2016-11-01</td>\n",
       "      <td>churn</td>\n",
       "    </tr>\n",
       "    <tr>\n",
       "      <th>3</th>\n",
       "      <td>+6UN6VJD8u9vZm4lZRAREpzBRM4YoeOSWhEX0c5JBAU=</td>\n",
       "      <td>2016-09-01</td>\n",
       "      <td>churn</td>\n",
       "    </tr>\n",
       "    <tr>\n",
       "      <th>4</th>\n",
       "      <td>+6UN6VJD8u9vZm4lZRAREpzBRM4YoeOSWhEX0c5JBAU=</td>\n",
       "      <td>2017-01-01</td>\n",
       "      <td>inactive</td>\n",
       "    </tr>\n",
       "  </tbody>\n",
       "</table>\n",
       "</div>"
      ],
      "text/plain": [
       "                                                  msno cutoff_time  \\\n",
       "label_id                                                             \n",
       "0         +/6nRSzfF+CIynhnBM5xz8J6ArlSdLY74gsNK09dbes=  2015-06-01   \n",
       "1         +1TKL6EWVDuKFAOvWZOsoGTILy2POMnxxvUgP7PPCy8=  2016-11-01   \n",
       "2         +58aOzMPOZSi0END5IUKzK009k/iGY9mB+k9s5qetAI=  2016-11-01   \n",
       "3         +6UN6VJD8u9vZm4lZRAREpzBRM4YoeOSWhEX0c5JBAU=  2016-09-01   \n",
       "4         +6UN6VJD8u9vZm4lZRAREpzBRM4YoeOSWhEX0c5JBAU=  2017-01-01   \n",
       "\n",
       "         inactive_membership  \n",
       "label_id                      \n",
       "0                      churn  \n",
       "1                      churn  \n",
       "2                      churn  \n",
       "3                      churn  \n",
       "4                   inactive  "
      ]
     },
     "execution_count": 8,
     "metadata": {},
     "output_type": "execute_result"
    }
   ],
   "source": [
    "edge_min = label_times.inactive_membership.min()\n",
    "zero, one_month = pd.Timedelta('0d'), pd.Timedelta('31d')\n",
    "edge_max = label_times.inactive_membership.max()\n",
    "bins = [edge_min, zero, one_month, edge_max]\n",
    "\n",
    "labels = ['active', 'inactive', 'churn']\n",
    "labels = label_times.bin(bins, labels=labels)\n",
    "\n",
    "labels.head()"
   ]
  },
  {
   "cell_type": "markdown",
   "metadata": {},
   "source": [
    "### Describe Labels"
   ]
  },
  {
   "cell_type": "code",
   "execution_count": 9,
   "metadata": {},
   "outputs": [
    {
     "name": "stdout",
     "output_type": "stream",
     "text": [
      "Label Distribution\n",
      "------------------\n",
      "active      2257\n",
      "churn       1198\n",
      "inactive     623\n",
      "Total:      4078\n",
      "\n",
      "\n",
      "Settings\n",
      "--------\n",
      "num_examples_per_instance       2\n",
      "minimum_data                    0\n",
      "window_size                  100d\n",
      "gap                             1\n",
      "\n",
      "\n",
      "Transforms\n",
      "----------\n",
      "1. bin\n",
      "  - bins:         [-477 days +00:00:00, 0 days 00:00:00, 31 days...\n",
      "  - quantiles:                                                False\n",
      "  - labels:                               [active, inactive, churn]\n",
      "  - right:                                                     True\n",
      "\n"
     ]
    },
    {
     "data": {
      "image/png": "[encoded data removed]",
      "text/plain": [
       "<Figure size 432x288 with 1 Axes>"
      ]
     },
     "metadata": {
      "needs_background": "light"
     },
     "output_type": "display_data"
    }
   ],
   "source": [
    "labels.describe()\n",
    "labels.plot.distribution();"
   ]
  }
 ],
 "metadata": {
  "jupytext": {
   "cell_metadata_filter": "-all",
   "main_language": "python",
   "notebook_metadata_filter": "-all"
  },
  "kernelspec": {
   "display_name": "Python 3",
   "language": "python",
   "name": "python3"
  },
  "language_info": {
   "codemirror_mode": {
    "name": "ipython",
    "version": 3
   },
   "file_extension": ".py",
   "mimetype": "text/x-python",
   "name": "python",
   "nbconvert_exporter": "python",
   "pygments_lexer": "ipython3",
   "version": "3.7.0"
  }
 },
 "nbformat": 4,
 "nbformat_minor": 2
}
