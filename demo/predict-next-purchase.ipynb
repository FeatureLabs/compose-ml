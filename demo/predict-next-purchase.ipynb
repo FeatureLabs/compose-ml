{
 "cells": [
  {
   "cell_type": "markdown",
   "metadata": {},
   "source": [
    "# Predict Next Purchase"
   ]
  },
  {
   "cell_type": "code",
   "execution_count": 1,
   "metadata": {},
   "outputs": [],
   "source": [
    "%matplotlib inline\n",
    "import composeml as cp\n",
    "import data"
   ]
  },
  {
   "cell_type": "markdown",
   "metadata": {},
   "source": [
    "## Load Data"
   ]
  },
  {
   "cell_type": "code",
   "execution_count": 2,
   "metadata": {},
   "outputs": [
    {
     "data": {
      "text/html": [
       "<div>\n",
       "<style scoped>\n",
       "    .dataframe tbody tr th:only-of-type {\n",
       "        vertical-align: middle;\n",
       "    }\n",
       "\n",
       "    .dataframe tbody tr th {\n",
       "        vertical-align: top;\n",
       "    }\n",
       "\n",
       "    .dataframe thead th {\n",
       "        text-align: right;\n",
       "    }\n",
       "</style>\n",
       "<table border=\"1\" class=\"dataframe\">\n",
       "  <thead>\n",
       "    <tr style=\"text-align: right;\">\n",
       "      <th></th>\n",
       "      <th>order_id</th>\n",
       "      <th>product_id</th>\n",
       "      <th>add_to_cart_order</th>\n",
       "      <th>reordered</th>\n",
       "      <th>product_name</th>\n",
       "      <th>aisle_id</th>\n",
       "      <th>department_id</th>\n",
       "      <th>department</th>\n",
       "      <th>user_id</th>\n",
       "    </tr>\n",
       "    <tr>\n",
       "      <th>order_time</th>\n",
       "      <th></th>\n",
       "      <th></th>\n",
       "      <th></th>\n",
       "      <th></th>\n",
       "      <th></th>\n",
       "      <th></th>\n",
       "      <th></th>\n",
       "      <th></th>\n",
       "      <th></th>\n",
       "    </tr>\n",
       "  </thead>\n",
       "  <tbody>\n",
       "    <tr>\n",
       "      <th>2015-01-01 09:00:00</th>\n",
       "      <td>3031</td>\n",
       "      <td>33120</td>\n",
       "      <td>2</td>\n",
       "      <td>1</td>\n",
       "      <td>Organic Egg Whites</td>\n",
       "      <td>86</td>\n",
       "      <td>16</td>\n",
       "      <td>dairy eggs</td>\n",
       "      <td>2555</td>\n",
       "    </tr>\n",
       "    <tr>\n",
       "      <th>2015-01-07 18:00:00</th>\n",
       "      <td>3031</td>\n",
       "      <td>27086</td>\n",
       "      <td>1</td>\n",
       "      <td>1</td>\n",
       "      <td>Half &amp; Half</td>\n",
       "      <td>53</td>\n",
       "      <td>16</td>\n",
       "      <td>dairy eggs</td>\n",
       "      <td>2555</td>\n",
       "    </tr>\n",
       "    <tr>\n",
       "      <th>2015-02-04 18:00:00</th>\n",
       "      <td>5640</td>\n",
       "      <td>33120</td>\n",
       "      <td>9</td>\n",
       "      <td>1</td>\n",
       "      <td>Organic Egg Whites</td>\n",
       "      <td>86</td>\n",
       "      <td>16</td>\n",
       "      <td>dairy eggs</td>\n",
       "      <td>155</td>\n",
       "    </tr>\n",
       "    <tr>\n",
       "      <th>2015-03-04 18:00:00</th>\n",
       "      <td>5640</td>\n",
       "      <td>12384</td>\n",
       "      <td>6</td>\n",
       "      <td>1</td>\n",
       "      <td>Organic Lactose Free 1% Lowfat Milk</td>\n",
       "      <td>91</td>\n",
       "      <td>16</td>\n",
       "      <td>dairy eggs</td>\n",
       "      <td>155</td>\n",
       "    </tr>\n",
       "    <tr>\n",
       "      <th>2015-04-01 18:00:00</th>\n",
       "      <td>5640</td>\n",
       "      <td>47209</td>\n",
       "      <td>7</td>\n",
       "      <td>1</td>\n",
       "      <td>Organic Hass Avocado</td>\n",
       "      <td>24</td>\n",
       "      <td>4</td>\n",
       "      <td>produce</td>\n",
       "      <td>155</td>\n",
       "    </tr>\n",
       "  </tbody>\n",
       "</table>\n",
       "</div>"
      ],
      "text/plain": [
       "                     order_id  product_id  add_to_cart_order  reordered  \\\n",
       "order_time                                                                \n",
       "2015-01-01 09:00:00      3031       33120                  2          1   \n",
       "2015-01-07 18:00:00      3031       27086                  1          1   \n",
       "2015-02-04 18:00:00      5640       33120                  9          1   \n",
       "2015-03-04 18:00:00      5640       12384                  6          1   \n",
       "2015-04-01 18:00:00      5640       47209                  7          1   \n",
       "\n",
       "                                            product_name  aisle_id  \\\n",
       "order_time                                                           \n",
       "2015-01-01 09:00:00                   Organic Egg Whites        86   \n",
       "2015-01-07 18:00:00                          Half & Half        53   \n",
       "2015-02-04 18:00:00                   Organic Egg Whites        86   \n",
       "2015-03-04 18:00:00  Organic Lactose Free 1% Lowfat Milk        91   \n",
       "2015-04-01 18:00:00                 Organic Hass Avocado        24   \n",
       "\n",
       "                     department_id  department  user_id  \n",
       "order_time                                               \n",
       "2015-01-01 09:00:00             16  dairy eggs     2555  \n",
       "2015-01-07 18:00:00             16  dairy eggs     2555  \n",
       "2015-02-04 18:00:00             16  dairy eggs      155  \n",
       "2015-03-04 18:00:00             16  dairy eggs      155  \n",
       "2015-04-01 18:00:00              4     produce      155  "
      ]
     },
     "execution_count": 2,
     "metadata": {},
     "output_type": "execute_result"
    }
   ],
   "source": [
    "df = data.load_orders('data', nrows=100000)\n",
    "df.head()"
   ]
  },
  {
   "cell_type": "code",
   "execution_count": 11,
   "metadata": {},
   "outputs": [
    {
     "name": "stdout",
     "output_type": "stream",
     "text": [
      "                     order_id  product_id  add_to_cart_order  reordered  \\\n",
      "order_time                                                                \n",
      "2016-10-29 14:00:00      4890       24852                  1          1   \n",
      "NaT                      5608       24852                  5          1   \n",
      "NaT                      5833       24852                  2          1   \n",
      "NaT                      1509       24852                 18          1   \n",
      "NaT                      5784       24852                  1          1   \n",
      "\n",
      "                    product_name  aisle_id  department_id department  user_id  \n",
      "order_time                                                                     \n",
      "2016-10-29 14:00:00       Banana        24              4    produce      451  \n",
      "NaT                       Banana        24              4    produce     2655  \n",
      "NaT                       Banana        24              4    produce     4520  \n",
      "NaT                       Banana        24              4    produce     2335  \n",
      "NaT                       Banana        24              4    produce     4599  \n"
     ]
    }
   ],
   "source": [
    "print(df[df.product_name.eq('Banana')].head())"
   ]
  },
  {
   "cell_type": "markdown",
   "metadata": {
    "lines_to_next_cell": 2
   },
   "source": [
    "## Generate Labels\n",
    "\n",
    "### Create Labeling Function"
   ]
  },
  {
   "cell_type": "code",
   "execution_count": null,
   "metadata": {},
   "outputs": [],
   "source": [
    "def bought_product(df, product_name):\n",
    "    purchased = df.product_name.eq(product_name).any()\n",
    "    return purchased"
   ]
  },
  {
   "cell_type": "markdown",
   "metadata": {},
   "source": [
    "### Construct Label Maker"
   ]
  },
  {
   "cell_type": "code",
   "execution_count": null,
   "metadata": {},
   "outputs": [],
   "source": [
    "lm = cp.LabelMaker(\n",
    "    target_entity='user_id',\n",
    "    time_index='order_time',\n",
    "    labeling_function=bought_product,\n",
    "    window_size='4w',\n",
    ")"
   ]
  },
  {
   "cell_type": "markdown",
   "metadata": {},
   "source": [
    "### Search Labels"
   ]
  },
  {
   "cell_type": "code",
   "execution_count": null,
   "metadata": {},
   "outputs": [],
   "source": [
    "lt = lm.search(\n",
    "    df,\n",
    "    product_name='Banana',\n",
    "    num_examples_per_instance=100,\n",
    "    verbose=True,\n",
    ")\n",
    "lt.head()"
   ]
  },
  {
   "cell_type": "markdown",
   "metadata": {},
   "source": [
    "### Describe Labels"
   ]
  },
  {
   "cell_type": "code",
   "execution_count": null,
   "metadata": {},
   "outputs": [],
   "source": [
    "lt.describe()\n",
    "lt.plot.distribution();"
   ]
  }
 ],
 "metadata": {
  "jupytext": {
   "cell_metadata_filter": "-all",
   "main_language": "python",
   "notebook_metadata_filter": "-all"
  },
  "kernelspec": {
   "display_name": "Python 3",
   "language": "python",
   "name": "python3"
  },
  "language_info": {
   "codemirror_mode": {
    "name": "ipython",
    "version": 3
   },
   "file_extension": ".py",
   "mimetype": "text/x-python",
   "name": "python",
   "nbconvert_exporter": "python",
   "pygments_lexer": "ipython3",
   "version": "3.7.0"
  }
 },
 "nbformat": 4,
 "nbformat_minor": 2
}
