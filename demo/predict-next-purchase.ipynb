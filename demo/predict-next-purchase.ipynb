{
 "cells": [
  {
   "cell_type": "markdown",
   "metadata": {},
   "source": [
    "# Predict Next Purchase\n",
    "\n",
    "In this example, we will generate labels on online grocery orders provided by Instacart using Compose. The labels can be used to train a machine learning model to predict whether a customer will buy a specific product within the next month."
   ]
  },
  {
   "cell_type": "code",
   "execution_count": 1,
   "metadata": {},
   "outputs": [],
   "source": [
    "import composeml as cp\n",
    "import data"
   ]
  },
  {
   "cell_type": "markdown",
   "metadata": {},
   "source": [
    "## Load Data\n",
    "\n",
    "You can download the data directly from Instacart [here](https://www.instacart.com/datasets/grocery-shopping-2017). After downloading the data, you can set `folder` as an absolute path to the directory of the CSV files. Alternatively, you can place the CSV files inside the `data` folder in the root directory of this notebook. With the files in place, we preview the data to get an idea on how the grocery orders looks."
   ]
  },
  {
   "cell_type": "code",
   "execution_count": 2,
   "metadata": {},
   "outputs": [
    {
     "data": {
      "text/html": [
       "<div>\n",
       "<style scoped>\n",
       "    .dataframe tbody tr th:only-of-type {\n",
       "        vertical-align: middle;\n",
       "    }\n",
       "\n",
       "    .dataframe tbody tr th {\n",
       "        vertical-align: top;\n",
       "    }\n",
       "\n",
       "    .dataframe thead th {\n",
       "        text-align: right;\n",
       "    }\n",
       "</style>\n",
       "<table border=\"1\" class=\"dataframe\">\n",
       "  <thead>\n",
       "    <tr style=\"text-align: right;\">\n",
       "      <th></th>\n",
       "      <th>order_id</th>\n",
       "      <th>product_id</th>\n",
       "      <th>add_to_cart_order</th>\n",
       "      <th>reordered</th>\n",
       "      <th>product_name</th>\n",
       "      <th>aisle_id</th>\n",
       "      <th>department_id</th>\n",
       "      <th>department</th>\n",
       "      <th>user_id</th>\n",
       "      <th>order_time</th>\n",
       "    </tr>\n",
       "  </thead>\n",
       "  <tbody>\n",
       "    <tr>\n",
       "      <th>0</th>\n",
       "      <td>120</td>\n",
       "      <td>33120</td>\n",
       "      <td>13</td>\n",
       "      <td>0</td>\n",
       "      <td>Organic Egg Whites</td>\n",
       "      <td>86</td>\n",
       "      <td>16</td>\n",
       "      <td>dairy eggs</td>\n",
       "      <td>23750</td>\n",
       "      <td>2015-01-11 08:00:00</td>\n",
       "    </tr>\n",
       "    <tr>\n",
       "      <th>1</th>\n",
       "      <td>120</td>\n",
       "      <td>31323</td>\n",
       "      <td>7</td>\n",
       "      <td>0</td>\n",
       "      <td>Light Wisconsin String Cheese</td>\n",
       "      <td>21</td>\n",
       "      <td>16</td>\n",
       "      <td>dairy eggs</td>\n",
       "      <td>23750</td>\n",
       "      <td>2015-01-11 08:00:00</td>\n",
       "    </tr>\n",
       "    <tr>\n",
       "      <th>2</th>\n",
       "      <td>120</td>\n",
       "      <td>1503</td>\n",
       "      <td>8</td>\n",
       "      <td>0</td>\n",
       "      <td>Low Fat Cottage Cheese</td>\n",
       "      <td>108</td>\n",
       "      <td>16</td>\n",
       "      <td>dairy eggs</td>\n",
       "      <td>23750</td>\n",
       "      <td>2015-01-11 08:00:00</td>\n",
       "    </tr>\n",
       "    <tr>\n",
       "      <th>3</th>\n",
       "      <td>120</td>\n",
       "      <td>28156</td>\n",
       "      <td>11</td>\n",
       "      <td>0</td>\n",
       "      <td>Total 0% Nonfat Plain Greek Yogurt</td>\n",
       "      <td>120</td>\n",
       "      <td>16</td>\n",
       "      <td>dairy eggs</td>\n",
       "      <td>23750</td>\n",
       "      <td>2015-01-11 08:00:00</td>\n",
       "    </tr>\n",
       "    <tr>\n",
       "      <th>4</th>\n",
       "      <td>120</td>\n",
       "      <td>41273</td>\n",
       "      <td>4</td>\n",
       "      <td>0</td>\n",
       "      <td>Broccoli Florets</td>\n",
       "      <td>123</td>\n",
       "      <td>4</td>\n",
       "      <td>produce</td>\n",
       "      <td>23750</td>\n",
       "      <td>2015-01-11 08:00:00</td>\n",
       "    </tr>\n",
       "  </tbody>\n",
       "</table>\n",
       "</div>"
      ],
      "text/plain": [
       "   order_id  product_id  add_to_cart_order  reordered  \\\n",
       "0       120       33120                 13          0   \n",
       "1       120       31323                  7          0   \n",
       "2       120        1503                  8          0   \n",
       "3       120       28156                 11          0   \n",
       "4       120       41273                  4          0   \n",
       "\n",
       "                         product_name  aisle_id  department_id  department  \\\n",
       "0                  Organic Egg Whites        86             16  dairy eggs   \n",
       "1       Light Wisconsin String Cheese        21             16  dairy eggs   \n",
       "2              Low Fat Cottage Cheese       108             16  dairy eggs   \n",
       "3  Total 0% Nonfat Plain Greek Yogurt       120             16  dairy eggs   \n",
       "4                    Broccoli Florets       123              4     produce   \n",
       "\n",
       "   user_id          order_time  \n",
       "0    23750 2015-01-11 08:00:00  \n",
       "1    23750 2015-01-11 08:00:00  \n",
       "2    23750 2015-01-11 08:00:00  \n",
       "3    23750 2015-01-11 08:00:00  \n",
       "4    23750 2015-01-11 08:00:00  "
      ]
     },
     "execution_count": 2,
     "metadata": {},
     "output_type": "execute_result"
    }
   ],
   "source": [
    "df = data.load_orders(folder='data', nrows=1000000)\n",
    "\n",
    "df.head()"
   ]
  },
  {
   "cell_type": "markdown",
   "metadata": {
    "lines_to_next_cell": 2
   },
   "source": [
    "## Generate Labels\n",
    "Now with the grocery orders loaded, we are ready to generate labels for our prediction problem.\n",
    "\n",
    "### Create Labeling Function\n",
    "To get started, we define the labeling function that will return whether a customer purchased the product in a given month."
   ]
  },
  {
   "cell_type": "code",
   "execution_count": 3,
   "metadata": {},
   "outputs": [],
   "source": [
    "def bought_product(df, product_name):\n",
    "    purchased = df.product_name.str.contains(product_name).any()\n",
    "    return purchased"
   ]
  },
  {
   "cell_type": "markdown",
   "metadata": {},
   "source": [
    "### Construct Label Maker\n",
    "\n",
    "With the labeling function, we create the label maker for our prediction problem. To process one month of orders for each customer, we set the `target_entity` to the customer ID and the `window_size` to one month."
   ]
  },
  {
   "cell_type": "code",
   "execution_count": 4,
   "metadata": {},
   "outputs": [],
   "source": [
    "lm = cp.LabelMaker(\n",
    "    target_entity='user_id',\n",
    "    time_index='order_time',\n",
    "    labeling_function=bought_product,\n",
    "    window_size='1MS',\n",
    ")"
   ]
  },
  {
   "cell_type": "markdown",
   "metadata": {},
   "source": [
    "### Search Labels\n",
    "Next, the label maker will search through the data continously to label whether a customer bought Bananas in a given month. This happens when we use `LabelMaker.search` and set the `product_name` to Bananas. The data must be sorted by the time index before passing into the label maker. If you are running this code yourself, feel free to expirement with other products (e.g. Limes, Avocados, etc.) and different time frames!"
   ]
  },
  {
   "cell_type": "code",
   "execution_count": 5,
   "metadata": {},
   "outputs": [
    {
     "name": "stdout",
     "output_type": "stream",
     "text": [
      "Elapsed: 01:26 | Remaining: 00:00 | Progress: 100%|██████████| user_id: 19477/19477 \n"
     ]
    },
    {
     "data": {
      "text/html": [
       "<div>\n",
       "<style scoped>\n",
       "    .dataframe tbody tr th:only-of-type {\n",
       "        vertical-align: middle;\n",
       "    }\n",
       "\n",
       "    .dataframe tbody tr th {\n",
       "        vertical-align: top;\n",
       "    }\n",
       "\n",
       "    .dataframe thead th {\n",
       "        text-align: right;\n",
       "    }\n",
       "</style>\n",
       "<table border=\"1\" class=\"dataframe\">\n",
       "  <thead>\n",
       "    <tr style=\"text-align: right;\">\n",
       "      <th></th>\n",
       "      <th>user_id</th>\n",
       "      <th>cutoff_time</th>\n",
       "      <th>bought_product</th>\n",
       "    </tr>\n",
       "    <tr>\n",
       "      <th>id</th>\n",
       "      <th></th>\n",
       "      <th></th>\n",
       "      <th></th>\n",
       "    </tr>\n",
       "  </thead>\n",
       "  <tbody>\n",
       "    <tr>\n",
       "      <th>0</th>\n",
       "      <td>4</td>\n",
       "      <td>2015-01-01</td>\n",
       "      <td>False</td>\n",
       "    </tr>\n",
       "    <tr>\n",
       "      <th>1</th>\n",
       "      <td>7</td>\n",
       "      <td>2015-01-01</td>\n",
       "      <td>False</td>\n",
       "    </tr>\n",
       "    <tr>\n",
       "      <th>2</th>\n",
       "      <td>10</td>\n",
       "      <td>2015-01-01</td>\n",
       "      <td>False</td>\n",
       "    </tr>\n",
       "    <tr>\n",
       "      <th>3</th>\n",
       "      <td>10</td>\n",
       "      <td>2015-02-01</td>\n",
       "      <td>False</td>\n",
       "    </tr>\n",
       "    <tr>\n",
       "      <th>4</th>\n",
       "      <td>13</td>\n",
       "      <td>2015-01-01</td>\n",
       "      <td>False</td>\n",
       "    </tr>\n",
       "  </tbody>\n",
       "</table>\n",
       "</div>"
      ],
      "text/plain": [
       "    user_id cutoff_time  bought_product\n",
       "id                                     \n",
       "0         4  2015-01-01           False\n",
       "1         7  2015-01-01           False\n",
       "2        10  2015-01-01           False\n",
       "3        10  2015-02-01           False\n",
       "4        13  2015-01-01           False"
      ]
     },
     "execution_count": 5,
     "metadata": {},
     "output_type": "execute_result"
    }
   ],
   "source": [
    "lt = lm.search(\n",
    "    df.sort_values('order_time'),\n",
    "    minimum_data='2015-01-01',\n",
    "    num_examples_per_instance=-1,\n",
    "    product_name='Banana',\n",
    "    verbose=True,\n",
    ")\n",
    "\n",
    "lt.head()"
   ]
  },
  {
   "cell_type": "markdown",
   "metadata": {},
   "source": [
    "### Describe Labels\n",
    "\n",
    "With the generate label times, we can use `LabelTimes.describe` to print out the distribution with the settings and transforms that were used to make these labels. This is useful as a reference for understanding how the labels were generated from raw data. Also, the label distribution is helpful for determining if we have imbalanced labels."
   ]
  },
  {
   "cell_type": "code",
   "execution_count": 6,
   "metadata": {},
   "outputs": [
    {
     "name": "stdout",
     "output_type": "stream",
     "text": [
      "Label Distribution\n",
      "------------------\n",
      "False     13752\n",
      "True       7044\n",
      "Total:    20796\n",
      "\n",
      "\n",
      "Settings\n",
      "--------\n",
      "num_examples_per_instance              -1\n",
      "minimum_data                   2015-01-01\n",
      "window_size                  <MonthBegin>\n",
      "gap                                  None\n",
      "\n",
      "\n",
      "Transforms\n",
      "----------\n",
      "No transforms applied\n",
      "\n"
     ]
    }
   ],
   "source": [
    "lt.describe()"
   ]
  }
 ],
 "metadata": {
  "jupytext": {
   "cell_metadata_filter": "-all",
   "main_language": "python",
   "notebook_metadata_filter": "-all"
  },
  "kernelspec": {
   "display_name": "Python 3",
   "language": "python",
   "name": "python3"
  },
  "language_info": {
   "codemirror_mode": {
    "name": "ipython",
    "version": 3
   },
   "file_extension": ".py",
   "mimetype": "text/x-python",
   "name": "python",
   "nbconvert_exporter": "python",
   "pygments_lexer": "ipython3",
   "version": "3.7.0"
  }
 },
 "nbformat": 4,
 "nbformat_minor": 2
}
