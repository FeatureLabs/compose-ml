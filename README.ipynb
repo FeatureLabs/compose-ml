{
 "cells": [
  {
   "cell_type": "markdown",
   "metadata": {},
   "source": [
    "<br>\n",
    "<br>\n",
    "\n",
    "<p style=\"text-align:center\">\n",
    "    <img width=50% src=\"docs/source/images/compose.png\" alt=\"Compose\" />\n",
    "</p>\n",
    "\n",
    "<br>\n",
    "<br>\n",
    "\n",
    "[![CircleCI](https://circleci.com/gh/FeatureLabs/compose/tree/main.svg?)](https://circleci.com/gh/FeatureLabs/compose/tree/main)\n",
    "[![codecov](https://codecov.io/gh/FeatureLabs/compose/branch/main/graph/badge.svg)](https://codecov.io/gh/FeatureLabs/compose)\n",
    "[![Documentation Status](https://readthedocs.com/projects/feature-labs-inc-compose/badge/?version=stable&token=5c3ace685cdb6e10eb67828a4dc74d09b20bb842980c8ee9eb4e9ed168d05b00)](https://compose.alteryx.com/en/stable/?badge=stable)\n",
    "[![PyPI version](https://badge.fury.io/py/composeml.svg?maxAge=2592000)](https://badge.fury.io/py/composeml)\n",
    "[![StackOverflow](https://img.shields.io/badge/questions-on_stackoverflow-blue.svg)](https://stackoverflow.com/questions/tagged/composeml)\n",
    "[![Downloads](https://pepy.tech/badge/composeml/month)](https://pepy.tech/project/composeml/month)\n",
    "\n",
    "[Compose](https://compose.alteryx.com) is a python library for automated prediction engineering. An end user defines an outcome of interest over the data by writing a \"labeling function\". Compose will automatically search and extract historical training examples to train machine learning examples, balance them across time, entities and label categories to reduce biases in learning process. See the [documentation](https://compose.alteryx.com) for more information.\n",
    "\n",
    "Its result is then provided to the automatic feature engineering tools Featuretools and subsequently to AutoML/ML libraries to develop a model. This automation for the very early stage of ML pipeline process allows our end user to easily define a task and solve it. The workflow of an applied machine learning engineer then becomes:\n",
    "\n",
    "<br>\n",
    "<p align=\"center\">\n",
    "    <img width=90% src=\"docs/source/images/workflow.png\" alt=\"Compose\" />\n",
    "</p>\n",
    "<br>\n",
    "\n",
    "## Install\n",
    "\n",
    "Compose can be installed for Python 3.6 or later by running the following command:\n",
    "\n",
    "```\n",
    "pip install composeml\n",
    "```\n",
    "\n",
    "## Example\n",
    "\n",
    "> Will a customer spend more than 300 in the next hour of transactions?\n",
    "\n",
    "In this example, we automatically generate new training examples from a historical dataset of transactions."
   ]
  },
  {
   "cell_type": "code",
   "execution_count": null,
   "metadata": {},
   "outputs": [],
   "source": [
    "import composeml as cp\n",
    "df = cp.demos.load_transactions()\n",
    "df = df[df.columns[:7]]\n",
    "df.head()"
   ]
  },
  {
   "cell_type": "markdown",
   "metadata": {},
   "source": [
    "First, we represent the prediction problem with a labeling function and a label maker."
   ]
  },
  {
   "cell_type": "code",
   "execution_count": null,
   "metadata": {},
   "outputs": [],
   "source": [
    "def total_spent(ds):\n",
    "    return ds['amount'].sum()\n",
    "\n",
    "label_maker = cp.LabelMaker(\n",
    "    target_entity=\"customer_id\",\n",
    "    time_index=\"transaction_time\",\n",
    "    labeling_function=total_spent,\n",
    "    window_size=\"1h\",\n",
    ")"
   ]
  },
  {
   "cell_type": "markdown",
   "metadata": {},
   "source": [
    "Then, we run a search to automatically generate the training examples."
   ]
  },
  {
   "cell_type": "code",
   "execution_count": null,
   "metadata": {},
   "outputs": [],
   "source": [
    "label_times = label_maker.search(\n",
    "    df.sort_values('transaction_time'),\n",
    "    num_examples_per_instance=2,\n",
    "    minimum_data='2014-01-01',\n",
    "    drop_empty=False,\n",
    "    verbose=False,\n",
    ")\n",
    "\n",
    "label_times = label_times.threshold(300)\n",
    "label_times.head()"
   ]
  },
  {
   "cell_type": "markdown",
   "metadata": {},
   "source": [
    "These labels are now ready for building features with Featuretools and training machine learning models with EvalML."
   ]
  },
  {
   "cell_type": "markdown",
   "metadata": {},
   "source": [
    "## Testing & Development\n",
    "The Feature Labs community welcomes pull requests. Instructions for testing and development are available here.\n",
    "\n",
    "## Support\n",
    "The Feature Labs open source community is happy to provide support to users of Compose. Project support can be found in four places depending on the type of question:\n",
    "\n",
    "1. For usage questions, use [Stack Overflow](https://stackoverflow.com/questions/tagged/composeml) with the `composeml` tag.\n",
    "2. For bugs, issues, or feature requests start a Github [issue](https://github.com/FeatureLabs/compose/issues).\n",
    "3. For discussion regarding development on the core library, use [Slack](https://featuretools.slack.com/messages/CKP6D0KUP).\n",
    "4. For everything else, the core developers can be reached by email at [help@featurelabs.com](mailto:help@featurelabs.com).\n",
    "\n",
    "## Citing Compose\n",
    "Compose is built upon a newly defined part of the machine learning process - prediction engineering. If you use Compose please consider citing this paper:\n",
    "James Max Kanter, Gillespie, Owen, Kalyan Veeramachaneni. [Label, Segment,Featurize: a cross domain framework for prediction engineering.](https://dai.lids.mit.edu/wp-content/uploads/2017/10/Pred_eng1.pdf) IEEE DSAA 2016.\n",
    "\n",
    "BibTeX entry:\n",
    "\n",
    "```\n",
    "@inproceedings{kanter2016label,\n",
    "  title={Label, segment, featurize: a cross domain framework for prediction engineering},\n",
    "  author={Kanter, James Max and Gillespie, Owen and Veeramachaneni, Kalyan},\n",
    "  booktitle={2016 IEEE International Conference on Data Science and Advanced Analytics (DSAA)},\n",
    "  pages={430--439},\n",
    "  year={2016},\n",
    "  organization={IEEE}\n",
    "}\n",
    "```\n",
    "\n",
    "## Acknowledgements \n",
    "Compose open source has been developed by Feature Labs engineering team. The open source development has been supported in part by DARPA's Data driven discovery of models program (D3M). \n",
    "\n",
    "## Feature Labs\n",
    "<a href=\"https://www.featurelabs.com/\">\n",
    "    <img src=\"https://www.featurelabs.com/wp-content/uploads/2017/12/logo.png\" alt=\"Featuretools\" />\n",
    "</a>\n",
    "\n",
    "Compose is an open source project created by Feature Labs. We developed Compose to enable flexible definition of the machine learning task. Read more about our rationale behind automating and developing this stage of the machine learning process here.\n",
    "\n",
    "To see the other open source projects we're working on visit Feature Labs [Open Source](https://www.featurelabs.com/open). If building impactful data science pipelines is important to you or your business, please [get in touch](https://www.featurelabs.com/contact/)."
   ]
  }
 ],
 "metadata": {
  "kernelspec": {
   "display_name": "Python 3",
   "language": "python",
   "name": "python3"
  },
  "language_info": {
   "codemirror_mode": {
    "name": "ipython",
    "version": 3
   },
   "file_extension": ".py",
   "mimetype": "text/x-python",
   "name": "python",
   "nbconvert_exporter": "python",
   "pygments_lexer": "ipython3",
   "version": "3.7.5"
  }
 },
 "nbformat": 4,
 "nbformat_minor": 4
}
